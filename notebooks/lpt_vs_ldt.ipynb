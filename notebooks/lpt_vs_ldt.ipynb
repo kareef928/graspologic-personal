{
 "cells": [
  {
   "cell_type": "code",
   "execution_count": 1,
   "metadata": {},
   "outputs": [],
   "source": [
    "import numpy as np\n",
    "import random\n",
    "import matplotlib.pyplot as plt\n",
    "\n",
    "from graspologic.inference import (\n",
    "    lpt_function,\n",
    "    LatentPositionTest,\n",
    "    ldt_function,\n",
    "    LatentDistributionTest,\n",
    ")\n",
    "from graspologic.embed import AdjacencySpectralEmbed\n",
    "from graspologic.simulations import sbm, rdpg\n",
    "from graspologic.utils import symmetrize\n",
    "from graspologic.plot import heatmap, pairplot"
   ]
  },
  {
   "cell_type": "code",
   "execution_count": 2,
   "metadata": {},
   "outputs": [],
   "source": [
    "n_components = 4\n",
    "P = np.array(\n",
    "    [[0.9, 0.11, 0.13, 0.2], [0, 0.7, 0.1, 0.1], [0, 0, 0.8, 0.1], [0, 0, 0, 0.85]]\n",
    ")\n",
    "P = symmetrize(P)\n",
    "csize = [150] * 4\n",
    "A1 = sbm(csize, P)\n",
    "A2 = sbm(csize, P)"
   ]
  },
  {
   "cell_type": "code",
   "execution_count": 6,
   "metadata": {},
   "outputs": [
    {
     "name": "stdout",
     "output_type": "stream",
     "text": [
      "0.1277445109780439\n",
      "0.1277445109780439\n"
     ]
    }
   ],
   "source": [
    "np.random.seed(888)\n",
    "lpt_class = LatentPositionTest(n_bootstraps=500, n_components=n_components)\n",
    "lpt_class.fit(A1, A2)\n",
    "print(lpt_class.p_value_)\n",
    "\n",
    "np.random.seed(888)\n",
    "p_val, _, _ = lpt_function(A1, A2, n_bootstraps=500, n_components=n_components)\n",
    "print(p_val)"
   ]
  },
  {
   "cell_type": "code",
   "execution_count": 4,
   "metadata": {},
   "outputs": [],
   "source": [
    "csize2 = [250] * 4\n",
    "A3 = sbm(csize2, P)"
   ]
  },
  {
   "cell_type": "code",
   "execution_count": 5,
   "metadata": {},
   "outputs": [
    {
     "name": "stdout",
     "output_type": "stream",
     "text": [
      "0.002\n",
      "0.002\n"
     ]
    }
   ],
   "source": [
    "np.random.seed(888)\n",
    "lpt_class = LatentDistributionTest(\n",
    "    n_bootstraps=500, n_components=n_components, size_correction=True\n",
    ")\n",
    "lpt_class.fit(A1, A3)\n",
    "print(lpt_class.p_value_)\n",
    "\n",
    "np.random.seed(888)\n",
    "p_val, _, _ = ldt_function(\n",
    "    A1, A3, n_bootstraps=500, n_components=n_components, size_correction=True\n",
    ")\n",
    "print(p_val)"
   ]
  }
 ],
 "metadata": {
  "kernelspec": {
   "display_name": "Python 3",
   "language": "python",
   "name": "python3"
  },
  "language_info": {
   "codemirror_mode": {
    "name": "ipython",
    "version": 3
   },
   "file_extension": ".py",
   "mimetype": "text/x-python",
   "name": "python",
   "nbconvert_exporter": "python",
   "pygments_lexer": "ipython3",
   "version": "3.8.4"
  }
 },
 "nbformat": 4,
 "nbformat_minor": 4
}
