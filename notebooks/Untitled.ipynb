{
 "cells": [
  {
   "cell_type": "code",
   "execution_count": 6,
   "metadata": {},
   "outputs": [
    {
     "name": "stdout",
     "output_type": "stream",
     "text": [
      "0.31840796019900497\n",
      "0.24378109452736318\n"
     ]
    }
   ],
   "source": [
    "import numpy as np\n",
    "import matplotlib.pyplot as plt\n",
    "\n",
    "from graspologic.inference import lpt_function, LatentPositionTest\n",
    "from graspologic.embed import AdjacencySpectralEmbed\n",
    "from graspologic.simulations import sbm, rdpg\n",
    "from graspologic.utils import symmetrize\n",
    "from graspologic.plot import heatmap, pairplot\n",
    "\n",
    "n_components = 2  # the number of embedding dimensions for ASE\n",
    "P = np.array([[0.9, 0.6], [0.6, 0.9]])\n",
    "csize = [50] * 2\n",
    "A1 = sbm(csize, P)\n",
    "X1 = AdjacencySpectralEmbed(n_components=n_components).fit_transform(A1)\n",
    "\n",
    "A2 = sbm(csize, P)\n",
    "X2 = AdjacencySpectralEmbed(n_components=n_components).fit_transform(A2)\n",
    "\n",
    "lpt_class = LatentPositionTest(n_bootstraps=200, n_components=n_components)\n",
    "lpt_class.fit(A1, A2)\n",
    "print(lpt_class.p_value_)\n",
    "\n",
    "p_val, _, _ = lpt_function(A1, A2, n_bootstraps=200, n_components=n_components)\n",
    "print(p_val)\n",
    "\n"
   ]
  },
  {
   "cell_type": "code",
   "execution_count": null,
   "metadata": {},
   "outputs": [],
   "source": []
  }
 ],
 "metadata": {
  "kernelspec": {
   "display_name": "Python 3",
   "language": "python",
   "name": "python3"
  },
  "language_info": {
   "codemirror_mode": {
    "name": "ipython",
    "version": 3
   },
   "file_extension": ".py",
   "mimetype": "text/x-python",
   "name": "python",
   "nbconvert_exporter": "python",
   "pygments_lexer": "ipython3",
   "version": "3.8.4"
  }
 },
 "nbformat": 4,
 "nbformat_minor": 4
}
