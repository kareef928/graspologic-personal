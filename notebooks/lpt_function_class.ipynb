{
 "cells": [
  {
   "cell_type": "code",
   "execution_count": 31,
   "metadata": {},
   "outputs": [],
   "source": [
    "import numpy as np\n",
    "np.random.seed(1234556)\n",
    "\n",
    "from graspologic.inference import LatentPositionTest, lpt_function\n",
    "from graspologic.embed import AdjacencySpectralEmbed\n",
    "from graspologic.simulations import sbm, rdpg\n",
    "from graspologic.utils import symmetrize\n",
    "from graspologic.plot import heatmap, pairplot\n",
    "from matplotlib import pyplot as plt\n",
    "import pandas as pd\n",
    "\n",
    "%matplotlib inline"
   ]
  },
  {
   "cell_type": "code",
   "execution_count": 32,
   "metadata": {},
   "outputs": [],
   "source": [
    "n_components = 4 # the number of embedding dimensions for ASE\n",
    "P = np.array([[0.9, 0.11, 0.13, 0.2],\n",
    "              [0, 0.7, 0.1, 0.1],\n",
    "              [0, 0, 0.8, 0.1],\n",
    "              [0, 0, 0, 0.85]])\n",
    "\n",
    "P = symmetrize(P)\n",
    "p_vals_class = []\n",
    "p_vals_function = []\n",
    "p_val_diff = []\n",
    "n_verts_list = []"
   ]
  },
  {
   "cell_type": "code",
   "execution_count": 33,
   "metadata": {},
   "outputs": [
    {
     "name": "stdout",
     "output_type": "stream",
     "text": [
      "c: 65.35820895522389\n",
      "f: 64.94029850746271\n",
      "c: 61.93034825870647\n",
      "f: 61.64179104477611\n",
      "c: 60.62686567164179\n",
      "f: 61.01990049751244\n",
      "c: 57.79104477611939\n",
      "f: 57.81592039800994\n",
      "c: 59.44776119402987\n",
      "f: 59.71641791044777\n",
      "c: 57.07960199004976\n",
      "f: 56.91542288557215\n",
      "c: 50.00497512437813\n",
      "f: 49.13432835820899\n",
      "c: 57.02487562189057\n",
      "f: 57.24875621890547\n",
      "c: 57.85074626865671\n",
      "f: 58.109452736318396\n",
      "c: 44.01990049751241\n",
      "f: 44.01990049751243\n",
      "c: 49.691542288557216\n",
      "f: 49.74129353233833\n",
      "c: 47.97014925373135\n",
      "f: 48.44776119402984\n",
      "c: 51.27860696517414\n",
      "f: 51.25870646766169\n",
      "c: 48.50248756218905\n",
      "f: 48.22388059701493\n",
      "c: 50.233830845771145\n",
      "f: 49.751243781094516\n",
      "c: 50.29353233830847\n",
      "f: 50.477611940298495\n"
     ]
    }
   ],
   "source": [
    "for n in range(50, 201, 10):\n",
    "    n_verts_list.append(n)\n",
    "    p_val_class = 0\n",
    "    p_val_function = 0\n",
    "    for _ in range(100):\n",
    "        \n",
    "        A = sbm([n]*4, P)\n",
    "        X = AdjacencySpectralEmbed(n_components=n_components).fit_transform(A)\n",
    "        A1 = rdpg(X,\n",
    "              loops=False,\n",
    "              rescale=False,\n",
    "              directed=False)\n",
    "        A2 = rdpg(X,\n",
    "              loops=False,\n",
    "              rescale=False,\n",
    "              directed=False)\n",
    "        lpt_class = LatentPositionTest(n_bootstraps=200, n_components=n_components)\n",
    "        lpt_class.fit(A1, A2)\n",
    "        p_val_class += lpt_class.p_value_\n",
    "\n",
    "        p_val, _, _ = lpt_function(A1, A2, n_bootstraps=200, n_components=n_components)\n",
    "        p_val_function += p_val\n",
    "    \n",
    "    print(\"c: {}\".format(p_val_class))\n",
    "    print(\"f: {}\".format(p_val_function))\n",
    "    p_val_class /= 25 \n",
    "    p_val_function /= 25\n",
    "    p_vals_class.append(p_val_class)\n",
    "    p_vals_function.append(p_val_function)\n",
    "    p_val_diff.append(p_val_class-p_val_function)\n",
    "    \n",
    "p_vals_dict = {\"p-values class\": p_vals_class, \"p-values function\": p_vals_function}\n",
    "df = pd.DataFrame(p_vals_dict)\n",
    "df.to_csv('p_values_lpt.csv')"
   ]
  },
  {
   "cell_type": "code",
   "execution_count": 34,
   "metadata": {},
   "outputs": [
    {
     "name": "stdout",
     "output_type": "stream",
     "text": [
      "16\n",
      "16\n"
     ]
    }
   ],
   "source": [
    "print(len(p_val_diff))\n",
    "print(len(n_verts_list))"
   ]
  },
  {
   "cell_type": "code",
   "execution_count": 35,
   "metadata": {},
   "outputs": [
    {
     "name": "stdout",
     "output_type": "stream",
     "text": [
      "[50, 60, 70, 80, 90, 100, 110, 120, 130, 140, 150, 160, 170, 180, 190, 200]\n",
      "[0.016716417910446868, 0.011542288557214064, -0.015721393034826114, -0.0009950248756220859, -0.01074626865671613, 0.006567164179104079, 0.034825870646765456, -0.008955223880596108, -0.010348258706467828, -8.881784197001252e-16, -0.001990049751244616, -0.019104477611939563, 0.0007960199004983792, 0.011144278606964653, 0.019303482587065046, -0.007363184079601126]\n"
     ]
    }
   ],
   "source": [
    "print(n_verts_list)\n",
    "print(p_val_diff)"
   ]
  },
  {
   "cell_type": "code",
   "execution_count": 36,
   "metadata": {},
   "outputs": [
    {
     "data": {
      "image/png": "[encoded data removed]",
      "text/plain": [
       "<Figure size 432x288 with 1 Axes>"
      ]
     },
     "metadata": {
      "needs_background": "light"
     },
     "output_type": "display_data"
    }
   ],
   "source": [
    "plt.plot(n_verts_list, p_val_diff)\n",
    "plt.xlabel(\"n_verts\")\n",
    "plt.ylabel(\"absolute value p-value difference\")\n",
    "plt.title(\"lpt class vs function\")\n",
    "plt.show()"
   ]
  },
  {
   "cell_type": "code",
   "execution_count": null,
   "metadata": {},
   "outputs": [],
   "source": []
  }
 ],
 "metadata": {
  "kernelspec": {
   "display_name": "Python 3",
   "language": "python",
   "name": "python3"
  },
  "language_info": {
   "codemirror_mode": {
    "name": "ipython",
    "version": 3
   },
   "file_extension": ".py",
   "mimetype": "text/x-python",
   "name": "python",
   "nbconvert_exporter": "python",
   "pygments_lexer": "ipython3",
   "version": "3.8.4"
  }
 },
 "nbformat": 4,
 "nbformat_minor": 4
}
