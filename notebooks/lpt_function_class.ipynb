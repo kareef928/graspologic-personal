{
 "cells": [
  {
   "cell_type": "code",
   "execution_count": 2,
   "metadata": {},
   "outputs": [],
   "source": [
    "import numpy as np\n",
    "\n",
    "from graspologic.inference import LatentPositionTest, lpt_function\n",
    "from graspologic.embed import AdjacencySpectralEmbed\n",
    "from graspologic.simulations import sbm, rdpg\n",
    "from graspologic.utils import symmetrize\n",
    "from graspologic.plot import heatmap, pairplot\n",
    "from matplotlib import pyplot as plt\n",
    "import pandas as pd\n",
    "import seaborn as sns\n",
    "\n",
    "%matplotlib inline"
   ]
  },
  {
   "cell_type": "code",
   "execution_count": 3,
   "metadata": {},
   "outputs": [],
   "source": [
    "n_components = 4 # the number of embedding dimensions for ASE\n",
    "P = np.array([[0.9, 0.11, 0.13, 0.2],\n",
    "              [0, 0.7, 0.1, 0.1],\n",
    "              [0, 0, 0.8, 0.1],\n",
    "              [0, 0, 0, 0.85]])\n",
    "\n",
    "P = symmetrize(P)\n",
    "n_verts = []\n",
    "p_vals_function = []\n",
    "p_vals_class = []\n",
    "p_vals_diff = []"
   ]
  },
  {
   "cell_type": "code",
   "execution_count": null,
   "metadata": {},
   "outputs": [
    {
     "name": "stdout",
     "output_type": "stream",
     "text": [
      "0.6047904191616766\n",
      "0.02594810379241517\n",
      "0.16367265469061876\n",
      "0.4530938123752495\n",
      "0.26147704590818366\n",
      "0.4231536926147705\n",
      "0.8323353293413174\n",
      "0.624750499001996\n",
      "0.17365269461077845\n",
      "0.8363273453093812\n",
      "0.7624750499001997\n"
     ]
    }
   ],
   "source": [
    "for n in range(50, 201, 10):\n",
    "    for _ in range(1):\n",
    "        A1 = sbm([n]*4, P)\n",
    "        A2 = sbm([n]*4, P)\n",
    "        \n",
    "        np.random.seed(200)\n",
    "        lpt_class = LatentPositionTest(n_bootstraps=500, n_components=n_components)\n",
    "        lpt_class.fit(A1, A2)\n",
    "        p_val_class = lpt_class.p_value_\n",
    "        \n",
    "        np.random.seed(200)\n",
    "        p_val_func, _, _ = lpt_function(A1, A2, n_bootstraps=500, n_components=n_components)\n",
    "\n",
    "        p_vals_function.append(p_val_func)\n",
    "        p_vals_class.append(p_val_class)\n",
    "        p_vals_diff.append(p_val_func - p_val_class)\n",
    "        n_verts.append(n)\n",
    "        \n",
    "        print(lpt_class.p_value_)\n",
    "        \n",
    "    \n",
    "p_vals_dict = {\"p-values class\": p_vals_class, \"p-values function\": p_vals_function}\n",
    "df = pd.DataFrame(data = p_vals_dict, index = n_verts)\n",
    "df.to_csv('p_values_lpt.csv')\n",
    "\n",
    "p_vals_diff_dict = {\"p_value diff\": p_vals_diff, \"n_verts\": n_verts}\n",
    "df_diff = pd.DataFrame(data=p_vals_diff_dict)"
   ]
  },
  {
   "cell_type": "code",
   "execution_count": null,
   "metadata": {},
   "outputs": [],
   "source": [
    "fig, ax = plt.subplots(1, 1, figsize=(8, 4))\n",
    "sns.stripplot(data=df_diff,\n",
    "    x=\"n_verts\",\n",
    "    y=\"p_value diff\",\n",
    "    jitter = 0.5,\n",
    "    alpha = 0.5,\n",
    "    size=5,\n",
    "    palette=\"deep\",\n",
    ")\n",
    "plt.title(\"LPT class vs function\")\n",
    "ax.axhline(0, color=\"grey\", linestyle=\"--\", alpha=1)"
   ]
  },
  {
   "cell_type": "code",
   "execution_count": null,
   "metadata": {},
   "outputs": [],
   "source": []
  }
 ],
 "metadata": {
  "kernelspec": {
   "display_name": "Python 3",
   "language": "python",
   "name": "python3"
  },
  "language_info": {
   "codemirror_mode": {
    "name": "ipython",
    "version": 3
   },
   "file_extension": ".py",
   "mimetype": "text/x-python",
   "name": "python",
   "nbconvert_exporter": "python",
   "pygments_lexer": "ipython3",
   "version": "3.8.4"
  }
 },
 "nbformat": 4,
 "nbformat_minor": 4
}
