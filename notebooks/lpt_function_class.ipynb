{
 "cells": [
  {
   "cell_type": "code",
   "execution_count": null,
   "metadata": {},
   "outputs": [],
   "source": [
    "import numpy as np\n",
    "np.random.seed(1234556)\n",
    "\n",
    "from graspologic.inference import LatentPositionTest, lpt_function\n",
    "from graspologic.embed import AdjacencySpectralEmbed\n",
    "from graspologic.simulations import sbm, rdpg\n",
    "from graspologic.utils import symmetrize\n",
    "from graspologic.plot import heatmap, pairplot\n",
    "from matplotlib import pyplot as plt\n",
    "import pandas as pd\n",
    "\n",
    "%matplotlib inline"
   ]
  },
  {
   "cell_type": "code",
   "execution_count": null,
   "metadata": {},
   "outputs": [],
   "source": [
    "n_components = 4 # the number of embedding dimensions for ASE\n",
    "P = np.array([[0.9, 0.11, 0.13, 0.2],\n",
    "              [0, 0.7, 0.1, 0.1],\n",
    "              [0, 0, 0.8, 0.1],\n",
    "              [0, 0, 0, 0.85]])\n",
    "\n",
    "P = symmetrize(P)\n",
    "p_vals_class = []\n",
    "p_vals_function = []\n",
    "p_val_diff = []\n",
    "n_verts_list = []"
   ]
  },
  {
   "cell_type": "code",
   "execution_count": null,
   "metadata": {},
   "outputs": [],
   "source": [
    "for n in range(50, 201, 10):\n",
    "    n_verts_list.append(n)\n",
    "    p_val_class = 0\n",
    "    p_val_function = 0\n",
    "    for _ in range(100):\n",
    "        \n",
    "        A = sbm([n]*4, P)\n",
    "        X = AdjacencySpectralEmbed(n_components=n_components).fit_transform(A)\n",
    "        A1 = rdpg(X,\n",
    "              loops=False,\n",
    "              rescale=False,\n",
    "              directed=False)\n",
    "        A2 = rdpg(X,\n",
    "              loops=False,\n",
    "              rescale=False,\n",
    "              directed=False)\n",
    "        lpt_class = LatentPositionTest(n_bootstraps=150, n_components=n_components)\n",
    "        lpt_class.fit(A1, A2)\n",
    "        p_val_class += lpt_class.p_value_\n",
    "\n",
    "        p_val, _, _ = lpt_function(A1, A2, n_bootstraps=150, n_components=n_components)\n",
    "        p_val_function += p_val\n",
    "    \n",
    "    p_val_class /= 100 \n",
    "    p_val_function /= 100\n",
    "    print(\"c: {}\".format(p_val_class))\n",
    "    print(\"f: {}\".format(p_val_function))\n",
    "    p_vals_class.append(p_val_class)\n",
    "    p_vals_function.append(p_val_function)\n",
    "    p_val_diff.append(p_val_class-p_val_function)\n",
    "    \n",
    "p_vals_dict = {\"p-values class\": p_vals_class, \"p-values function\": p_vals_function}\n",
    "df = pd.DataFrame(p_vals_dict)\n",
    "df.to_csv('p_values_lpt.csv')"
   ]
  },
  {
   "cell_type": "code",
   "execution_count": null,
   "metadata": {},
   "outputs": [],
   "source": [
    "print(len(p_val_diff))\n",
    "print(len(n_verts_list))"
   ]
  },
  {
   "cell_type": "code",
   "execution_count": null,
   "metadata": {},
   "outputs": [],
   "source": [
    "print(n_verts_list)\n",
    "print(p_val_diff)"
   ]
  },
  {
   "cell_type": "code",
   "execution_count": null,
   "metadata": {},
   "outputs": [],
   "source": [
    "plt.plot(n_verts_list, p_val_diff)\n",
    "plt.xlabel(\"n_verts\")\n",
    "plt.ylabel(\"p-value difference\")\n",
    "plt.title(\"lpt class vs function\")\n",
    "plt.show()"
   ]
  },
  {
   "cell_type": "code",
   "execution_count": null,
   "metadata": {},
   "outputs": [],
   "source": []
  }
 ],
 "metadata": {
  "kernelspec": {
   "display_name": "Python 3",
   "language": "python",
   "name": "python3"
  },
  "language_info": {
   "codemirror_mode": {
    "name": "ipython",
    "version": 3
   },
   "file_extension": ".py",
   "mimetype": "text/x-python",
   "name": "python",
   "nbconvert_exporter": "python",
   "pygments_lexer": "ipython3",
   "version": "3.8.4"
  }
 },
 "nbformat": 4,
 "nbformat_minor": 4
}
