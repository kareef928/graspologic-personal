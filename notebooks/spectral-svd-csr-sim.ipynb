{
 "cells": [
  {
   "cell_type": "code",
   "execution_count": 1,
   "metadata": {},
   "outputs": [],
   "source": [
    "import numpy as np\n",
    "import timeit\n",
    "\n",
    "from scipy.sparse import csr_matrix\n",
    "from graspologic.inference import latent_position_test\n",
    "from graspologic.embed import AdjacencySpectralEmbed, LaplacianSpectralEmbed\n",
    "from graspologic.simulations import er_np, sbm, rdpg\n",
    "from graspologic.utils import symmetrize\n",
    "from graspologic.plot import heatmap, pairplot\n",
    "from graspologic.align import OrthogonalProcrustes\n",
    "\n",
    "from matplotlib import pyplot as plt\n",
    "import pandas as pd\n",
    "import seaborn as sns\n",
    "\n",
    "from sknetwork.data import erdos_renyi, painters, movie_actor\n",
    "from sknetwork.embedding import Spectral, SVD\n",
    "from sknetwork.visualization import svg_graph, svg_digraph, svg_bigraph\n",
    "from IPython.display import SVG"
   ]
  },
  {
   "cell_type": "markdown",
   "metadata": {},
   "source": [
    "# Simulation 1: ASE vs SVD\n",
    "\n",
    "1. n_verts = [100, 500, 1000, 10000]\n",
    "2. Generate an nx1 2D numpy array of latent positions of uniform distribution between 0.1 and 1\n",
    "3. Divide each column by the array by the column's frobenius norm\n",
    "4. Generate an RDPG from the 2D array\n",
    "5. Generate a csr_matrix from the RDPG\n",
    "6. Perform ASE (n_components=1, check LCC=false) and SVD (n_componnets=1) on the RDPG  \n",
    "7. Save the runtimes for each embedding method using the timeit.default_timer() method\n",
    "8. From the generated latent positions of ASE, divide each column by the column's frobenius norm\n",
    "9. Align the latent positions of ASE with the true latent positions using orthogonal procrustes\n",
    "10. Save the frobenius norm of the aligned difference (true @ Q - ASE)\n",
    "11. Repeat steps 8-10 using SVD instead of ASE\n",
    "12. Repeat steps 2-11 for 15 trials per n in n_verts\n",
    "13. Plot stripplots for times vs n_verts for ASE and SVD\n",
    "14. Plot stripplots for frobenius norms of aligned differece of true and embedding latent positions vs n_verts for ASE and SVD"
   ]
  },
  {
   "cell_type": "code",
   "execution_count": 2,
   "metadata": {},
   "outputs": [],
   "source": [
    "n_verts = [100, 500, 1000, 10000]\n",
    "total_verts = []\n",
    "time_ASE = []\n",
    "time_SVD = []\n",
    "norms_ASE = []\n",
    "norms_SVD = []"
   ]
  },
  {
   "cell_type": "code",
   "execution_count": 3,
   "metadata": {},
   "outputs": [
    {
     "name": "stdout",
     "output_type": "stream",
     "text": [
      "100\n",
      "100\n",
      "100\n",
      "100\n",
      "100\n",
      "100\n",
      "100\n",
      "100\n",
      "100\n",
      "100\n",
      "100\n",
      "100\n",
      "100\n",
      "100\n",
      "100\n",
      "500\n",
      "500\n",
      "500\n",
      "500\n",
      "500\n",
      "500\n",
      "500\n",
      "500\n",
      "500\n",
      "500\n",
      "500\n",
      "500\n",
      "500\n",
      "500\n",
      "500\n",
      "1000\n",
      "1000\n",
      "1000\n",
      "1000\n",
      "1000\n",
      "1000\n",
      "1000\n",
      "1000\n",
      "1000\n",
      "1000\n",
      "1000\n",
      "1000\n",
      "1000\n",
      "1000\n",
      "1000\n",
      "10000\n",
      "10000\n",
      "10000\n",
      "10000\n",
      "10000\n",
      "10000\n",
      "10000\n",
      "10000\n",
      "10000\n",
      "10000\n",
      "10000\n",
      "10000\n",
      "10000\n",
      "10000\n",
      "10000\n"
     ]
    }
   ],
   "source": [
    "for n in n_verts:\n",
    "    for _ in range(15):\n",
    "        \n",
    "        #csr_matrix\n",
    "        total_verts.append(n)\n",
    "        X = np.random.uniform(low=0.1, high=1, size=(n, 1))\n",
    "        norm = np.linalg.norm(X, axis=0)\n",
    "        X = X/norm\n",
    "        B = rdpg(X)\n",
    "        A = csr_matrix(B)\n",
    "        \n",
    "        #get time for running ASE\n",
    "        start_time = timeit.default_timer()\n",
    "        ase = AdjacencySpectralEmbed(n_components=1, check_lcc=False)\n",
    "        X1 = ase.fit_transform(A)\n",
    "        norm1 = np.linalg.norm(X1, axis=0)\n",
    "        X1 = X1/norm1\n",
    "        elapsed_ASE = timeit.default_timer() - start_time\n",
    "        time_ASE.append(elapsed_ASE)\n",
    "        \n",
    "        #get norm of X@Q-X1\n",
    "        aligner_OP1 = OrthogonalProcrustes()\n",
    "        X_prime_OP1 = aligner_OP1.fit_transform(X, X1)\n",
    "        Q1 = aligner_OP1.Q_\n",
    "        norm_ASE = np.linalg.norm(X@Q1-X1, ord='fro')\n",
    "        norms_ASE.append(norm_ASE)\n",
    "        \n",
    "        #get time for running SVD\n",
    "        start_time = timeit.default_timer()\n",
    "        svd = SVD(1)\n",
    "        X2 = svd.fit_transform(A)\n",
    "        norm2 = np.linalg.norm(X2, axis=0)\n",
    "        X2 = X2/norm2\n",
    "        elapsed_SVD = timeit.default_timer() - start_time\n",
    "        time_SVD.append(elapsed_SVD)\n",
    "        \n",
    "        #get norm of X@Q-X2\n",
    "        aligner_OP2 = OrthogonalProcrustes()\n",
    "        X_prime_OP2 = aligner_OP2.fit_transform(X, X2)\n",
    "        Q2 = aligner_OP2.Q_\n",
    "        norm_SVD = np.linalg.norm(X@Q2-X2, ord='fro')\n",
    "        norms_SVD.append(norm_SVD)\n",
    "        \n",
    "        print(n)"
   ]
  },
  {
   "cell_type": "markdown",
   "metadata": {},
   "source": [
    "Note: When using too few vertices (ex: n=10), get an error at the line X_prime_OP1 = aligner_OP1.fit_transform(X, X1): Input contains NaN, infinity or a value too large for dtype('float64'). When using too large vertices (ex: n=100000), kernel dies."
   ]
  },
  {
   "cell_type": "code",
   "execution_count": 4,
   "metadata": {},
   "outputs": [],
   "source": [
    "time_ASE_dict = {\"time_ASE\": time_ASE, \"n_verts\": total_verts}\n",
    "df_time_ASE = pd.DataFrame(data = time_ASE_dict)"
   ]
  },
  {
   "cell_type": "code",
   "execution_count": 5,
   "metadata": {},
   "outputs": [],
   "source": [
    "norms_ASE_dict = {\"norms_ASE\": norms_ASE, \"n_verts\": total_verts}\n",
    "df_norms_ASE = pd.DataFrame(data = norms_ASE_dict)"
   ]
  },
  {
   "cell_type": "code",
   "execution_count": 6,
   "metadata": {},
   "outputs": [],
   "source": [
    "time_SVD_dict = {\"time_SVD\": time_SVD, \"n_verts\": total_verts}\n",
    "df_time_SVD = pd.DataFrame(data = time_SVD_dict)"
   ]
  },
  {
   "cell_type": "code",
   "execution_count": 7,
   "metadata": {},
   "outputs": [],
   "source": [
    "norms_SVD_dict = {\"norms_SVD\": norms_SVD, \"n_verts\": total_verts}\n",
    "df_norms_SVD = pd.DataFrame(data = norms_SVD_dict)"
   ]
  },
  {
   "cell_type": "code",
   "execution_count": 8,
   "metadata": {},
   "outputs": [
    {
     "data": {
      "image/png": "[encoded data removed]",
      "text/plain": [
       "<Figure size 432x288 with 1 Axes>"
      ]
     },
     "metadata": {
      "needs_background": "light"
     },
     "output_type": "display_data"
    }
   ],
   "source": [
    "ax1 = sns.stripplot(data=df_time_ASE,\n",
    "    x=\"n_verts\",\n",
    "    y=\"time_ASE\",\n",
    "    jitter = 0.25,\n",
    "    alpha = 0.5,\n",
    "    size=5,\n",
    "    color='red'\n",
    ")\n",
    "\n",
    "ax2 = sns.stripplot(data=df_time_SVD,\n",
    "    x=\"n_verts\",\n",
    "    y=\"time_SVD\",\n",
    "    jitter = 0.25,\n",
    "    alpha = 0.5,\n",
    "    size=5,\n",
    "    color='blue'\n",
    ")\n",
    "ax1.set_yscale('log')\n",
    "plt.xticks(rotation='vertical')\n",
    "plt.ylabel('time')\n",
    "plt.title(\"Times vs n_verts\")\n",
    "\n",
    "plt.savefig('timeASESVD_vs_n_verts.png')"
   ]
  },
  {
   "cell_type": "code",
   "execution_count": 9,
   "metadata": {},
   "outputs": [
    {
     "data": {
      "image/png": "[encoded data removed]",
      "text/plain": [
       "<Figure size 432x288 with 1 Axes>"
      ]
     },
     "metadata": {
      "needs_background": "light"
     },
     "output_type": "display_data"
    }
   ],
   "source": [
    "ax1 = sns.stripplot(data=df_norms_ASE,\n",
    "    x=\"n_verts\",\n",
    "    y=\"norms_ASE\",\n",
    "    jitter = 0.25,\n",
    "    alpha = 0.5,\n",
    "    size=5,\n",
    "    color='red'\n",
    ")\n",
    "\n",
    "ax2 = sns.stripplot(data=df_norms_SVD,\n",
    "    x=\"n_verts\",\n",
    "    y=\"norms_SVD\",\n",
    "    jitter = 0.25,\n",
    "    alpha = 0.5,\n",
    "    size=5,\n",
    "    color='blue'\n",
    ")\n",
    "ax1.set_yscale('log')\n",
    "plt.xticks(rotation='vertical')\n",
    "plt.ylabel('Frobenius norm')\n",
    "plt.title(\"Frobenius norms vs n_verts\")\n",
    "\n",
    "plt.savefig('normsASESVD_vs_n_verts.png')"
   ]
  },
  {
   "cell_type": "markdown",
   "metadata": {},
   "source": [
    "# Simulation 2: LSE vs Spectral\n",
    "\n",
    "1. n_verts = [100, 500, 1000, 10000]\n",
    "2. Generate an nx1 2D numpy array of latent positions of uniform distribution between 0.1 and 1\n",
    "3. Divide each column by the array by the column's frobenius norm\n",
    "4. Generate an RDPG from the 2D array\n",
    "5. Generate a csr_matrix from the RDPG\n",
    "6. Perform LSE (n_components=1, check LCC=false) and Specral (n_components=1) on the RDPG\n",
    "7. Save the runtimes for each embedding method using the timeit.default_timer() method\n",
    "8. From the generated latent positions of LSE, divide each column by the column's frobenius norm\n",
    "9. Align the latent positions of LSE with the true latent positions using orthogonal procrustes\n",
    "10. Save the frobenius norm of the aligned difference (true @ Q - LSE)\n",
    "11. Repeat steps 8-10 using Spectral instead of LSE\n",
    "12. Repeat steps 2-11 for 15 trials per n in n_verts\n",
    "13. Plot stripplots for times vs n_verts for LSE and Spectral\n",
    "14. Plot stripplots for frobenius norms of aligned differece of true and embedding latent positions vs n_verts for LSE and Spectral"
   ]
  },
  {
   "cell_type": "code",
   "execution_count": 12,
   "metadata": {},
   "outputs": [],
   "source": [
    "n_verts = [100, 500, 1000, 10000]\n",
    "total_verts = []\n",
    "time_LSE = []\n",
    "time_Spectral = []\n",
    "norms_LSE = []\n",
    "norms_Spectral = []"
   ]
  },
  {
   "cell_type": "code",
   "execution_count": 13,
   "metadata": {},
   "outputs": [
    {
     "name": "stdout",
     "output_type": "stream",
     "text": [
      "100\n",
      "100\n",
      "100\n",
      "100\n",
      "100\n",
      "100\n",
      "100\n",
      "100\n",
      "100\n",
      "100\n",
      "100\n",
      "100\n",
      "100\n",
      "100\n",
      "100\n",
      "500\n",
      "500\n",
      "500\n",
      "500\n",
      "500\n",
      "500\n",
      "500\n",
      "500\n",
      "500\n",
      "500\n",
      "500\n",
      "500\n",
      "500\n",
      "500\n",
      "500\n",
      "1000\n",
      "1000\n",
      "1000\n",
      "1000\n",
      "1000\n",
      "1000\n",
      "1000\n",
      "1000\n",
      "1000\n",
      "1000\n",
      "1000\n",
      "1000\n",
      "1000\n",
      "1000\n",
      "1000\n",
      "10000\n",
      "10000\n",
      "10000\n",
      "10000\n",
      "10000\n",
      "10000\n",
      "10000\n",
      "10000\n",
      "10000\n",
      "10000\n",
      "10000\n",
      "10000\n",
      "10000\n",
      "10000\n",
      "10000\n"
     ]
    }
   ],
   "source": [
    "for n in n_verts:\n",
    "    for _ in range(15):\n",
    "        \n",
    "        total_verts.append(n)\n",
    "        X = np.random.uniform(low=0.1, high=1, size=(n, 1))\n",
    "        norm = np.linalg.norm(X, axis=0)\n",
    "        X = X/norm\n",
    "        B = rdpg(X)\n",
    "        A = csr_matrix(B)\n",
    "        \n",
    "        #get time for running LSE\n",
    "        start_time = timeit.default_timer()\n",
    "        lse = LaplacianSpectralEmbed(n_components=1, check_lcc=False)\n",
    "        X1 = lse.fit_transform(A)\n",
    "        norm1 = np.linalg.norm(X1, axis=0)\n",
    "        X1 = X1/norm1\n",
    "        elapsed_LSE = timeit.default_timer() - start_time\n",
    "        time_LSE.append(elapsed_LSE)\n",
    "        \n",
    "        #get norm of X@Q-X1\n",
    "        aligner_OP1 = OrthogonalProcrustes()\n",
    "        X_prime_OP1 = aligner_OP1.fit_transform(X, X1)\n",
    "        Q1 = aligner_OP1.Q_\n",
    "        norm_LSE = np.linalg.norm(X@Q1-X1, ord='fro')\n",
    "        norms_LSE.append(norm_LSE)\n",
    "        \n",
    "        #get time for running Spectral\n",
    "        start_time = timeit.default_timer()\n",
    "        spectral = Spectral(1)\n",
    "        X2 = spectral.fit_transform(A)\n",
    "        norm2 = np.linalg.norm(X2, axis=0)\n",
    "        X2 = X2/norm1\n",
    "        elapsed_Spectral = timeit.default_timer() - start_time\n",
    "        time_Spectral.append(elapsed_Spectral)\n",
    "        \n",
    "        #get norm of X@Q-X2\n",
    "        aligner_OP2 = OrthogonalProcrustes()\n",
    "        X_prime_OP2 = aligner_OP2.fit_transform(X, X2)\n",
    "        Q2 = aligner_OP2.Q_\n",
    "        norm_Spectral = np.linalg.norm(X@Q2-X2, ord='fro')\n",
    "        norms_Spectral.append(norm_LSE)\n",
    "        \n",
    "        print(n)"
   ]
  },
  {
   "cell_type": "markdown",
   "metadata": {},
   "source": [
    "Note: After 5th iteration of n=10000, error at line X2 = spectral.fit_transform(A): ArpackNoConvergence: ARPACK error -1: No convergence (100001 iterations, 1/2 eigenvectors converged)"
   ]
  },
  {
   "cell_type": "code",
   "execution_count": 14,
   "metadata": {},
   "outputs": [
    {
     "name": "stdout",
     "output_type": "stream",
     "text": [
      "[100, 100, 100, 100, 100, 100, 100, 100, 100, 100, 100, 100, 100, 100, 100, 500, 500, 500, 500, 500, 500, 500, 500, 500, 500, 500, 500, 500, 500, 500, 1000, 1000, 1000, 1000, 1000, 1000, 1000, 1000, 1000, 1000, 1000, 1000, 1000, 1000, 1000, 10000, 10000, 10000, 10000, 10000, 10000, 10000, 10000, 10000, 10000, 10000, 10000, 10000, 10000, 10000]\n",
      "[1.4000700446639285, 1.2276912403880105, 1.3308406658661998, 1.391370901631505, 1.3942388264660959, 1.3230871466845757, 1.380085886037511, 1.3728582591698906, 1.378992534851218, 1.336873317549386, 1.3331705176626487, 1.3519505526689848, 1.3358383892626535, 1.3157520334269253, 1.3056724650992835, 1.413723396988801, 1.3617653317427383, 1.4125300670187382, 1.4075037503541534, 1.4041564369231099, 1.2985046610810738, 1.3120057207312161, 1.3546919935080708, 1.3970615384901541, 1.3980942130765563, 1.3192879819811065, 1.391477743612914, 1.3838111791511776, 1.4133507282585827, 1.3679250433543357, 1.3533169761768002, 1.406080991983271, 1.3398984408356553, 1.3755365068424938, 1.3915754557663524, 1.3859676448172153, 1.4035676357188698, 1.4109491894314392, 1.3954417413314328, 1.3698399156089094, 1.401881388877277, 1.3975648371627618, 1.3964655359348763, 1.406889795946488, 1.402146441155218, 1.3991439320007346, 1.4105828872902477, 1.4078390002573, 1.4064621374388506, 1.4079035775996027, 1.4019068047401402, 1.3854554860691528, 1.4103615680383195, 1.3848362908607275, 1.401253521962777, 1.4015734632800747, 1.4055847381520996, 1.4052740567800401, 1.4052195592281622, 1.4016727057679559]\n"
     ]
    }
   ],
   "source": [
    "print(total_verts)\n",
    "print(norms_LSE)"
   ]
  },
  {
   "cell_type": "code",
   "execution_count": 15,
   "metadata": {},
   "outputs": [],
   "source": [
    "time_LSE_dict = {\"time_LSE\": time_LSE, \"n_verts\": total_verts}\n",
    "df_time_LSE = pd.DataFrame(data = time_LSE_dict)"
   ]
  },
  {
   "cell_type": "code",
   "execution_count": 16,
   "metadata": {},
   "outputs": [],
   "source": [
    "norms_LSE_dict = {\"norms_LSE\": norms_LSE, \"n_verts\": total_verts}\n",
    "df_norms_LSE = pd.DataFrame(data = norms_LSE_dict)"
   ]
  },
  {
   "cell_type": "code",
   "execution_count": 17,
   "metadata": {},
   "outputs": [],
   "source": [
    "time_Spectral_dict = {\"time_Spectral\": time_Spectral, \"n_verts\": total_verts}\n",
    "df_time_Spectral = pd.DataFrame(data = time_Spectral_dict)"
   ]
  },
  {
   "cell_type": "code",
   "execution_count": 18,
   "metadata": {},
   "outputs": [],
   "source": [
    "norms_Spectral_dict = {\"norms_Spectral\": norms_Spectral, \"n_verts\": total_verts}\n",
    "df_norms_Spectral = pd.DataFrame(data = norms_Spectral_dict)"
   ]
  },
  {
   "cell_type": "code",
   "execution_count": 19,
   "metadata": {},
   "outputs": [
    {
     "data": {
      "image/png": "[encoded data removed]",
      "text/plain": [
       "<Figure size 432x288 with 1 Axes>"
      ]
     },
     "metadata": {
      "needs_background": "light"
     },
     "output_type": "display_data"
    }
   ],
   "source": [
    "ax1 = sns.stripplot(data=df_time_LSE,\n",
    "    x=\"n_verts\",\n",
    "    y=\"time_LSE\",\n",
    "    jitter = 0.25,\n",
    "    alpha = 0.5,\n",
    "    size=5,\n",
    "    color='red'\n",
    ")\n",
    "\n",
    "ax2 = sns.stripplot(data=df_time_Spectral,\n",
    "    x=\"n_verts\",\n",
    "    y=\"time_Spectral\",\n",
    "    jitter = 0.25,\n",
    "    alpha = 0.5,\n",
    "    size=5,\n",
    "    color='blue'\n",
    ")\n",
    "ax1.set_yscale('log')\n",
    "plt.xticks(rotation='vertical')\n",
    "plt.ylabel('time')\n",
    "plt.title(\"Times vs n_verts\")\n",
    "\n",
    "plt.savefig('timeLSESpectral_vs_n_verts.png')"
   ]
  },
  {
   "cell_type": "code",
   "execution_count": 20,
   "metadata": {},
   "outputs": [
    {
     "data": {
      "image/png": "[encoded data removed]",
      "text/plain": [
       "<Figure size 432x288 with 1 Axes>"
      ]
     },
     "metadata": {
      "needs_background": "light"
     },
     "output_type": "display_data"
    }
   ],
   "source": [
    "ax1 = sns.stripplot(data=df_norms_LSE,\n",
    "    x=\"n_verts\",\n",
    "    y=\"norms_LSE\",\n",
    "    jitter = 0.25,\n",
    "    alpha = 0.5,\n",
    "    size=5,\n",
    "    color='red'\n",
    ")\n",
    "\n",
    "ax2 = sns.stripplot(data=df_norms_Spectral,\n",
    "    x=\"n_verts\",\n",
    "    y=\"norms_Spectral\",\n",
    "    jitter = 0.25,\n",
    "    alpha = 0.5,\n",
    "    size=5,\n",
    "    color='blue'\n",
    ")\n",
    "ax1.set_yscale('log')\n",
    "plt.xticks(rotation='vertical')\n",
    "plt.ylabel('Frobenius norm')\n",
    "plt.title(\"Frobenius norms vs n_verts\")\n",
    "\n",
    "plt.savefig('normsLSESpectral_vs_n_verts.png')"
   ]
  },
  {
   "cell_type": "code",
   "execution_count": null,
   "metadata": {},
   "outputs": [],
   "source": []
  }
 ],
 "metadata": {
  "kernelspec": {
   "display_name": "Python 3",
   "language": "python",
   "name": "python3"
  },
  "language_info": {
   "codemirror_mode": {
    "name": "ipython",
    "version": 3
   },
   "file_extension": ".py",
   "mimetype": "text/x-python",
   "name": "python",
   "nbconvert_exporter": "python",
   "pygments_lexer": "ipython3",
   "version": "3.8.4"
  }
 },
 "nbformat": 4,
 "nbformat_minor": 4
}
