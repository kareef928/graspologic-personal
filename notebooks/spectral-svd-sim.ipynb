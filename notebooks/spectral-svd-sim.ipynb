{
 "cells": [
  {
   "cell_type": "code",
   "execution_count": 1,
   "metadata": {},
   "outputs": [],
   "source": [
    "import numpy as np\n",
    "import timeit\n",
    "\n",
    "from scipy.sparse import identity\n",
    "from graspologic.inference import latent_position_test\n",
    "from graspologic.embed import AdjacencySpectralEmbed, LaplacianSpectralEmbed\n",
    "from graspologic.simulations import er_np, sbm, rdpg\n",
    "from graspologic.utils import symmetrize\n",
    "from graspologic.plot import heatmap, pairplot\n",
    "from matplotlib import pyplot as plt\n",
    "import pandas as pd\n",
    "import seaborn as sns\n",
    "\n",
    "from sknetwork.data import erdos_renyi, painters, movie_actor\n",
    "from sknetwork.embedding import Spectral, SVD\n",
    "from sknetwork.visualization import svg_graph, svg_digraph, svg_bigraph\n",
    "from IPython.display import SVG"
   ]
  },
  {
   "cell_type": "markdown",
   "metadata": {},
   "source": [
    "Sim setting:\n",
    "\n",
    "Sim 1: SVD vs ASE\n",
    "\n",
    "Generate a scipy csr_matrix with an nxn identity matrix (n=100)\n",
    "Perform ASE and SVD on the graph (with same n_components) and save the runtimes for each using the timeit.default_timer() method\n",
    "Repeat step 2 increasing n by 100 until n=2000\n",
    "Plot line graphs for times vs n_verts for ASE and SVD\n",
    "Sim 2: Spectral vs LSE\n",
    "Exact same process as sim 1 except use spectral instead of SVD and LSE instead of ASE"
   ]
  },
  {
   "cell_type": "code",
   "execution_count": null,
   "metadata": {},
   "outputs": [],
   "source": [
    "n_verts = [10, 100, 1000, 10000, 100000, 1000000]\n",
    "total_verts = []\n",
    "time_ASE = []\n",
    "time_SVD = []"
   ]
  },
  {
   "cell_type": "code",
   "execution_count": null,
   "metadata": {},
   "outputs": [],
   "source": [
    "for n in n_verts:\n",
    "    for _ in range(15):\n",
    "        \n",
    "        total_verts.append(n)\n",
    "        A = identity(n, format='csr')\n",
    "        \n",
    "        #get time for running ASE\n",
    "        start_time = timeit.default_timer()\n",
    "        ase = AdjacencySpectralEmbed(n_components=2)\n",
    "        X1 = ase.fit_transform(A)\n",
    "        elapsed_ASE = timeit.default_timer() - start_time\n",
    "        time_ASE.append(elapsed_ASE)\n",
    "        \n",
    "        #get time for running SVD\n",
    "        start_time = timeit.default_timer()\n",
    "        svd = SVD(2)\n",
    "        X2 = svd.fit_transform(A)\n",
    "        elapsed_SVD = timeit.default_timer() - start_time\n",
    "        time_SVD.append(elapsed_SVD)\n",
    "        \n",
    "        print(n)"
   ]
  },
  {
   "cell_type": "code",
   "execution_count": null,
   "metadata": {},
   "outputs": [],
   "source": [
    "time_ASE_dict = {\"time_ASE\": time_ASE, \"n_verts\": total_verts}\n",
    "df_ASE = pd.DataFrame(data = time_ASE_dict)"
   ]
  },
  {
   "cell_type": "code",
   "execution_count": null,
   "metadata": {},
   "outputs": [],
   "source": [
    "time_SVD_dict = {\"time_SVD\": time_SVD, \"n_verts\": total_verts}\n",
    "df_SVD = pd.DataFrame(data = time_SVD_dict)"
   ]
  },
  {
   "cell_type": "code",
   "execution_count": null,
   "metadata": {},
   "outputs": [],
   "source": [
    "ax1 = sns.stripplot(data=df_ASE,\n",
    "    x=\"n_verts\",\n",
    "    y=\"time_ASE\",\n",
    "    jitter = 0.25,\n",
    "    alpha = 0.5,\n",
    "    size=5,\n",
    "    color='red'\n",
    ")\n",
    "\n",
    "ax2 = sns.stripplot(data=df_SVD,\n",
    "    x=\"n_verts\",\n",
    "    y=\"time_SVD\",\n",
    "    jitter = 0.25,\n",
    "    alpha = 0.5,\n",
    "    size=5,\n",
    "    color='blue'\n",
    ")\n",
    "ax1.set_yscale('log')\n",
    "plt.xticks(rotation='vertical')\n",
    "plt.ylabel('time')\n",
    "plt.title(\"Times vs n_verts\")\n",
    "\n",
    "plt.savefig('timeASESVD_vs_n_verts.png')"
   ]
  },
  {
   "cell_type": "code",
   "execution_count": 2,
   "metadata": {},
   "outputs": [],
   "source": [
    "n_verts = [10, 100, 1000, 10000, 100000, 1000000]\n",
    "total_verts = []\n",
    "time_LSE = []\n",
    "time_Spectral = []"
   ]
  },
  {
   "cell_type": "code",
   "execution_count": 4,
   "metadata": {},
   "outputs": [
    {
     "name": "stdout",
     "output_type": "stream",
     "text": [
      "10\n",
      "10\n",
      "10\n",
      "10\n",
      "10\n",
      "10\n",
      "10\n",
      "10\n",
      "10\n",
      "10\n",
      "10\n",
      "10\n",
      "10\n",
      "10\n",
      "10\n",
      "100\n",
      "100\n",
      "100\n",
      "100\n",
      "100\n",
      "100\n",
      "100\n",
      "100\n",
      "100\n",
      "100\n",
      "100\n",
      "100\n",
      "100\n",
      "100\n",
      "100\n",
      "1000\n",
      "1000\n",
      "1000\n",
      "1000\n",
      "1000\n",
      "1000\n",
      "1000\n",
      "1000\n",
      "1000\n",
      "1000\n",
      "1000\n",
      "1000\n",
      "1000\n",
      "1000\n"
     ]
    },
    {
     "ename": "ArpackError",
     "evalue": "ARPACK error 3: No shifts could be applied during a cycle of the Implicitly restarted Arnoldi iteration. One possibility is to increase the size of NCV relative to NEV. ",
     "output_type": "error",
     "traceback": [
      "\u001b[0;31m---------------------------------------------------------------------------\u001b[0m",
      "\u001b[0;31mArpackError\u001b[0m                               Traceback (most recent call last)",
      "\u001b[0;32m<ipython-input-4-70af1402db1e>\u001b[0m in \u001b[0;36m<module>\u001b[0;34m\u001b[0m\n\u001b[1;32m     15\u001b[0m         \u001b[0mstart_time\u001b[0m \u001b[0;34m=\u001b[0m \u001b[0mtimeit\u001b[0m\u001b[0;34m.\u001b[0m\u001b[0mdefault_timer\u001b[0m\u001b[0;34m(\u001b[0m\u001b[0;34m)\u001b[0m\u001b[0;34m\u001b[0m\u001b[0;34m\u001b[0m\u001b[0m\n\u001b[1;32m     16\u001b[0m         \u001b[0mspectral\u001b[0m \u001b[0;34m=\u001b[0m \u001b[0mSpectral\u001b[0m\u001b[0;34m(\u001b[0m\u001b[0;36m2\u001b[0m\u001b[0;34m)\u001b[0m\u001b[0;34m\u001b[0m\u001b[0;34m\u001b[0m\u001b[0m\n\u001b[0;32m---> 17\u001b[0;31m         \u001b[0mX2\u001b[0m \u001b[0;34m=\u001b[0m \u001b[0mspectral\u001b[0m\u001b[0;34m.\u001b[0m\u001b[0mfit_transform\u001b[0m\u001b[0;34m(\u001b[0m\u001b[0mA\u001b[0m\u001b[0;34m)\u001b[0m\u001b[0;34m\u001b[0m\u001b[0;34m\u001b[0m\u001b[0m\n\u001b[0m\u001b[1;32m     18\u001b[0m         \u001b[0melapsed_Spectral\u001b[0m \u001b[0;34m=\u001b[0m \u001b[0mtimeit\u001b[0m\u001b[0;34m.\u001b[0m\u001b[0mdefault_timer\u001b[0m\u001b[0;34m(\u001b[0m\u001b[0;34m)\u001b[0m \u001b[0;34m-\u001b[0m \u001b[0mstart_time\u001b[0m\u001b[0;34m\u001b[0m\u001b[0;34m\u001b[0m\u001b[0m\n\u001b[1;32m     19\u001b[0m         \u001b[0mtime_Spectral\u001b[0m\u001b[0;34m.\u001b[0m\u001b[0mappend\u001b[0m\u001b[0;34m(\u001b[0m\u001b[0melapsed_Spectral\u001b[0m\u001b[0;34m)\u001b[0m\u001b[0;34m\u001b[0m\u001b[0;34m\u001b[0m\u001b[0m\n",
      "\u001b[0;32m/Library/Frameworks/Python.framework/Versions/3.8/lib/python3.8/site-packages/sknetwork/embedding/base.py\u001b[0m in \u001b[0;36mfit_transform\u001b[0;34m(self, *args, **kwargs)\u001b[0m\n\u001b[1;32m     26\u001b[0m             \u001b[0mEmbedding\u001b[0m\u001b[0;34m.\u001b[0m\u001b[0;34m\u001b[0m\u001b[0;34m\u001b[0m\u001b[0m\n\u001b[1;32m     27\u001b[0m         \"\"\"\n\u001b[0;32m---> 28\u001b[0;31m         \u001b[0mself\u001b[0m\u001b[0;34m.\u001b[0m\u001b[0mfit\u001b[0m\u001b[0;34m(\u001b[0m\u001b[0;34m*\u001b[0m\u001b[0margs\u001b[0m\u001b[0;34m,\u001b[0m \u001b[0;34m**\u001b[0m\u001b[0mkwargs\u001b[0m\u001b[0;34m)\u001b[0m\u001b[0;34m\u001b[0m\u001b[0;34m\u001b[0m\u001b[0m\n\u001b[0m\u001b[1;32m     29\u001b[0m         \u001b[0;32mreturn\u001b[0m \u001b[0mself\u001b[0m\u001b[0;34m.\u001b[0m\u001b[0membedding_\u001b[0m\u001b[0;34m\u001b[0m\u001b[0;34m\u001b[0m\u001b[0m\n\u001b[1;32m     30\u001b[0m \u001b[0;34m\u001b[0m\u001b[0m\n",
      "\u001b[0;32m/Library/Frameworks/Python.framework/Versions/3.8/lib/python3.8/site-packages/sknetwork/embedding/spectral.py\u001b[0m in \u001b[0;36mfit\u001b[0;34m(self, adjacency)\u001b[0m\n\u001b[1;32m    275\u001b[0m \u001b[0;34m\u001b[0m\u001b[0m\n\u001b[1;32m    276\u001b[0m         \u001b[0msolver\u001b[0m\u001b[0;34m.\u001b[0m\u001b[0mwhich\u001b[0m \u001b[0;34m=\u001b[0m \u001b[0;34m'LA'\u001b[0m\u001b[0;34m\u001b[0m\u001b[0;34m\u001b[0m\u001b[0m\n\u001b[0;32m--> 277\u001b[0;31m         \u001b[0msolver\u001b[0m\u001b[0;34m.\u001b[0m\u001b[0mfit\u001b[0m\u001b[0;34m(\u001b[0m\u001b[0mmatrix\u001b[0m\u001b[0;34m=\u001b[0m\u001b[0mnorm_adjacency\u001b[0m\u001b[0;34m,\u001b[0m \u001b[0mn_components\u001b[0m\u001b[0;34m=\u001b[0m\u001b[0mn_components\u001b[0m\u001b[0;34m)\u001b[0m\u001b[0;34m\u001b[0m\u001b[0;34m\u001b[0m\u001b[0m\n\u001b[0m\u001b[1;32m    278\u001b[0m         \u001b[0meigenvalues\u001b[0m \u001b[0;34m=\u001b[0m \u001b[0msolver\u001b[0m\u001b[0;34m.\u001b[0m\u001b[0meigenvalues_\u001b[0m\u001b[0;34m\u001b[0m\u001b[0;34m\u001b[0m\u001b[0m\n\u001b[1;32m    279\u001b[0m         \u001b[0mindex\u001b[0m \u001b[0;34m=\u001b[0m \u001b[0mnp\u001b[0m\u001b[0;34m.\u001b[0m\u001b[0margsort\u001b[0m\u001b[0;34m(\u001b[0m\u001b[0;34m-\u001b[0m\u001b[0meigenvalues\u001b[0m\u001b[0;34m)\u001b[0m\u001b[0;34m[\u001b[0m\u001b[0;36m1\u001b[0m\u001b[0;34m:\u001b[0m\u001b[0;34m]\u001b[0m  \u001b[0;31m# skip first eigenvalue\u001b[0m\u001b[0;34m\u001b[0m\u001b[0;34m\u001b[0m\u001b[0m\n",
      "\u001b[0;32m/Library/Frameworks/Python.framework/Versions/3.8/lib/python3.8/site-packages/sknetwork/linalg/eig_solver.py\u001b[0m in \u001b[0;36mfit\u001b[0;34m(self, matrix, n_components, v0)\u001b[0m\n\u001b[1;32m     89\u001b[0m         \u001b[0mself\u001b[0m\u001b[0;34m:\u001b[0m \u001b[0;34m:\u001b[0m\u001b[0;32mclass\u001b[0m\u001b[0;34m:\u001b[0m\u001b[0;31m`\u001b[0m\u001b[0mEigSolver\u001b[0m\u001b[0;31m`\u001b[0m\u001b[0;34m\u001b[0m\u001b[0;34m\u001b[0m\u001b[0m\n\u001b[1;32m     90\u001b[0m         \"\"\"\n\u001b[0;32m---> 91\u001b[0;31m         eigenvalues, eigenvectors = eigsh(matrix.astype(np.float), n_components, which=self.which, maxiter=self.maxiter,\n\u001b[0m\u001b[1;32m     92\u001b[0m                                           tol=self.tol, v0=v0)\n\u001b[1;32m     93\u001b[0m         \u001b[0mself\u001b[0m\u001b[0;34m.\u001b[0m\u001b[0meigenvectors_\u001b[0m \u001b[0;34m=\u001b[0m \u001b[0meigenvectors\u001b[0m\u001b[0;34m\u001b[0m\u001b[0;34m\u001b[0m\u001b[0m\n",
      "\u001b[0;32m/Library/Frameworks/Python.framework/Versions/3.8/lib/python3.8/site-packages/scipy-1.5.2-py3.8-macosx-10.9-x86_64.egg/scipy/sparse/linalg/eigen/arpack/arpack.py\u001b[0m in \u001b[0;36meigsh\u001b[0;34m(A, k, M, sigma, which, v0, ncv, maxiter, tol, return_eigenvectors, Minv, OPinv, mode)\u001b[0m\n\u001b[1;32m   1685\u001b[0m     \u001b[0;32mwith\u001b[0m \u001b[0m_ARPACK_LOCK\u001b[0m\u001b[0;34m:\u001b[0m\u001b[0;34m\u001b[0m\u001b[0;34m\u001b[0m\u001b[0m\n\u001b[1;32m   1686\u001b[0m         \u001b[0;32mwhile\u001b[0m \u001b[0;32mnot\u001b[0m \u001b[0mparams\u001b[0m\u001b[0;34m.\u001b[0m\u001b[0mconverged\u001b[0m\u001b[0;34m:\u001b[0m\u001b[0;34m\u001b[0m\u001b[0;34m\u001b[0m\u001b[0m\n\u001b[0;32m-> 1687\u001b[0;31m             \u001b[0mparams\u001b[0m\u001b[0;34m.\u001b[0m\u001b[0miterate\u001b[0m\u001b[0;34m(\u001b[0m\u001b[0;34m)\u001b[0m\u001b[0;34m\u001b[0m\u001b[0;34m\u001b[0m\u001b[0m\n\u001b[0m\u001b[1;32m   1688\u001b[0m \u001b[0;34m\u001b[0m\u001b[0m\n\u001b[1;32m   1689\u001b[0m         \u001b[0;32mreturn\u001b[0m \u001b[0mparams\u001b[0m\u001b[0;34m.\u001b[0m\u001b[0mextract\u001b[0m\u001b[0;34m(\u001b[0m\u001b[0mreturn_eigenvectors\u001b[0m\u001b[0;34m)\u001b[0m\u001b[0;34m\u001b[0m\u001b[0;34m\u001b[0m\u001b[0m\n",
      "\u001b[0;32m/Library/Frameworks/Python.framework/Versions/3.8/lib/python3.8/site-packages/scipy-1.5.2-py3.8-macosx-10.9-x86_64.egg/scipy/sparse/linalg/eigen/arpack/arpack.py\u001b[0m in \u001b[0;36miterate\u001b[0;34m(self)\u001b[0m\n\u001b[1;32m    571\u001b[0m                 \u001b[0mself\u001b[0m\u001b[0;34m.\u001b[0m\u001b[0m_raise_no_convergence\u001b[0m\u001b[0;34m(\u001b[0m\u001b[0;34m)\u001b[0m\u001b[0;34m\u001b[0m\u001b[0;34m\u001b[0m\u001b[0m\n\u001b[1;32m    572\u001b[0m             \u001b[0;32melse\u001b[0m\u001b[0;34m:\u001b[0m\u001b[0;34m\u001b[0m\u001b[0;34m\u001b[0m\u001b[0m\n\u001b[0;32m--> 573\u001b[0;31m                 \u001b[0;32mraise\u001b[0m \u001b[0mArpackError\u001b[0m\u001b[0;34m(\u001b[0m\u001b[0mself\u001b[0m\u001b[0;34m.\u001b[0m\u001b[0minfo\u001b[0m\u001b[0;34m,\u001b[0m \u001b[0minfodict\u001b[0m\u001b[0;34m=\u001b[0m\u001b[0mself\u001b[0m\u001b[0;34m.\u001b[0m\u001b[0miterate_infodict\u001b[0m\u001b[0;34m)\u001b[0m\u001b[0;34m\u001b[0m\u001b[0;34m\u001b[0m\u001b[0m\n\u001b[0m\u001b[1;32m    574\u001b[0m \u001b[0;34m\u001b[0m\u001b[0m\n\u001b[1;32m    575\u001b[0m     \u001b[0;32mdef\u001b[0m \u001b[0mextract\u001b[0m\u001b[0;34m(\u001b[0m\u001b[0mself\u001b[0m\u001b[0;34m,\u001b[0m \u001b[0mreturn_eigenvectors\u001b[0m\u001b[0;34m)\u001b[0m\u001b[0;34m:\u001b[0m\u001b[0;34m\u001b[0m\u001b[0;34m\u001b[0m\u001b[0m\n",
      "\u001b[0;31mArpackError\u001b[0m: ARPACK error 3: No shifts could be applied during a cycle of the Implicitly restarted Arnoldi iteration. One possibility is to increase the size of NCV relative to NEV. "
     ]
    }
   ],
   "source": [
    "for n in n_verts:\n",
    "    for _ in range(15):\n",
    "        \n",
    "        total_verts.append(n)\n",
    "        A = identity(n, format='csr')\n",
    "        \n",
    "        #get time for running LSE\n",
    "        start_time = timeit.default_timer()\n",
    "        lse = LaplacianSpectralEmbed(n_components=2)\n",
    "        X1 = lse.fit_transform(A)\n",
    "        elapsed_LSE = timeit.default_timer() - start_time\n",
    "        time_LSE.append(elapsed_LSE)\n",
    "        \n",
    "        #get time for running Spectral\n",
    "        start_time = timeit.default_timer()\n",
    "        spectral = Spectral(2)\n",
    "        X2 = spectral.fit_transform(A)\n",
    "        elapsed_Spectral = timeit.default_timer() - start_time\n",
    "        time_Spectral.append(elapsed_Spectral)\n",
    "        \n",
    "        print(n)"
   ]
  },
  {
   "cell_type": "code",
   "execution_count": null,
   "metadata": {},
   "outputs": [],
   "source": [
    "time_LSE_dict = {\"time_LSE\": time_LSE, \"n_verts\": total_verts}\n",
    "df_LSE = pd.DataFrame(data = time_LSE_dict)"
   ]
  },
  {
   "cell_type": "code",
   "execution_count": null,
   "metadata": {},
   "outputs": [],
   "source": [
    "time_Spectral_dict = {\"time_Spectral\": time_Spectral, \"n_verts\": total_verts}\n",
    "df_Spectral = pd.DataFrame(data = time_Spectral_dict)"
   ]
  },
  {
   "cell_type": "code",
   "execution_count": null,
   "metadata": {},
   "outputs": [],
   "source": [
    "ax1 = sns.stripplot(data=df_LSE,\n",
    "    x=\"n_verts\",\n",
    "    y=\"time_LSE\",\n",
    "    jitter = 0.25,\n",
    "    alpha = 0.5,\n",
    "    size=5,\n",
    "    color='red'\n",
    ")\n",
    "\n",
    "ax2 = sns.stripplot(data=df_Spectral,\n",
    "    x=\"n_verts\",\n",
    "    y=\"time_Spectral\",\n",
    "    jitter = 0.25,\n",
    "    alpha = 0.5,\n",
    "    size=5,\n",
    "    color='blue'\n",
    ")\n",
    "ax1.set_yscale('log')\n",
    "plt.xticks(rotation='vertical')\n",
    "plt.ylabel('time')\n",
    "plt.title(\"Times vs n_verts\")\n",
    "\n",
    "plt.savefig('timeLSESpectral_vs_n_verts.png')"
   ]
  },
  {
   "cell_type": "code",
   "execution_count": null,
   "metadata": {},
   "outputs": [],
   "source": []
  }
 ],
 "metadata": {
  "kernelspec": {
   "display_name": "Python 3",
   "language": "python",
   "name": "python3"
  },
  "language_info": {
   "codemirror_mode": {
    "name": "ipython",
    "version": 3
   },
   "file_extension": ".py",
   "mimetype": "text/x-python",
   "name": "python",
   "nbconvert_exporter": "python",
   "pygments_lexer": "ipython3",
   "version": "3.8.4"
  }
 },
 "nbformat": 4,
 "nbformat_minor": 4
}
