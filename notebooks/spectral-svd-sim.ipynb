{
 "cells": [
  {
   "cell_type": "code",
   "execution_count": 1,
   "metadata": {},
   "outputs": [],
   "source": [
    "import numpy as np\n",
    "import timeit\n",
    "\n",
    "from scipy.sparse import identity\n",
    "from graspologic.inference import latent_position_test\n",
    "from graspologic.embed import AdjacencySpectralEmbed, LaplacianSpectralEmbed\n",
    "from graspologic.simulations import er_np, sbm, rdpg\n",
    "from graspologic.utils import symmetrize\n",
    "from graspologic.plot import heatmap, pairplot\n",
    "from matplotlib import pyplot as plt\n",
    "import pandas as pd\n",
    "import seaborn as sns\n",
    "\n",
    "from sknetwork.data import erdos_renyi, painters, movie_actor\n",
    "from sknetwork.embedding import Spectral, SVD\n",
    "from sknetwork.visualization import svg_graph, svg_digraph, svg_bigraph\n",
    "from IPython.display import SVG"
   ]
  },
  {
   "cell_type": "markdown",
   "metadata": {},
   "source": [
    "Sim setting:\n",
    "\n",
    "Sim 1: SVD vs ASE\n",
    "\n",
    "n_verts = [10, 100, 1000, 10000, 100000]\n",
    "Generate an nx1 2D array of latent positions of uniform distribution between 0.1 and 1\n",
    "Generate an RDPG from the 2D array\n",
    "Perform ASE and SVD on the RDPG (with n_components=1) and save the runtimes for each using the timeit.default_timer() method\n",
    "Take the frobenius norm of the latent positions from ASE/SVD and the true latent positions\n",
    "Repeat steps 2-5 for 15 trials per n\n",
    "Plot stripplots for times vs n_verts for ASE and SVD\n",
    "Plot stripplots for frobenius norms vs n_verts for ASE and SVD"
   ]
  },
  {
   "cell_type": "code",
   "execution_count": 2,
   "metadata": {},
   "outputs": [],
   "source": [
    "n_verts = [10, 100, 1000, 10000]\n",
    "total_verts = []\n",
    "time_ASE = []\n",
    "time_SVD = []\n",
    "norms_ASE = []\n",
    "norms_SVD = []"
   ]
  },
  {
   "cell_type": "code",
   "execution_count": 3,
   "metadata": {},
   "outputs": [
    {
     "name": "stdout",
     "output_type": "stream",
     "text": [
      "10\n",
      "10\n",
      "10\n",
      "10\n",
      "10\n",
      "10\n",
      "10\n",
      "10\n",
      "10\n",
      "10\n",
      "10\n",
      "10\n",
      "10\n",
      "10\n",
      "10\n",
      "100\n",
      "100\n",
      "100\n",
      "100\n"
     ]
    },
    {
     "name": "stderr",
     "output_type": "stream",
     "text": [
      "/Users/kareefullah/Desktop/Graspy_Workspace/graspologic/graspologic/embed/ase.py:166: UserWarning: Input graph is not fully connected. Results may notbe optimal. You can compute the largest connected component byusing ``graspologic.utils.largest_connected_component``.\n",
      "  warnings.warn(msg, UserWarning)\n",
      "/Users/kareefullah/Desktop/Graspy_Workspace/graspologic/graspologic/embed/ase.py:166: UserWarning: Input graph is not fully connected. Results may notbe optimal. You can compute the largest connected component byusing ``graspologic.utils.largest_connected_component``.\n",
      "  warnings.warn(msg, UserWarning)\n",
      "/Users/kareefullah/Desktop/Graspy_Workspace/graspologic/graspologic/embed/ase.py:166: UserWarning: Input graph is not fully connected. Results may notbe optimal. You can compute the largest connected component byusing ``graspologic.utils.largest_connected_component``.\n",
      "  warnings.warn(msg, UserWarning)\n",
      "/Users/kareefullah/Desktop/Graspy_Workspace/graspologic/graspologic/embed/ase.py:166: UserWarning: Input graph is not fully connected. Results may notbe optimal. You can compute the largest connected component byusing ``graspologic.utils.largest_connected_component``.\n",
      "  warnings.warn(msg, UserWarning)\n",
      "/Users/kareefullah/Desktop/Graspy_Workspace/graspologic/graspologic/embed/ase.py:166: UserWarning: Input graph is not fully connected. Results may notbe optimal. You can compute the largest connected component byusing ``graspologic.utils.largest_connected_component``.\n",
      "  warnings.warn(msg, UserWarning)\n",
      "/Users/kareefullah/Desktop/Graspy_Workspace/graspologic/graspologic/embed/ase.py:166: UserWarning: Input graph is not fully connected. Results may notbe optimal. You can compute the largest connected component byusing ``graspologic.utils.largest_connected_component``.\n",
      "  warnings.warn(msg, UserWarning)\n",
      "/Users/kareefullah/Desktop/Graspy_Workspace/graspologic/graspologic/embed/ase.py:166: UserWarning: Input graph is not fully connected. Results may notbe optimal. You can compute the largest connected component byusing ``graspologic.utils.largest_connected_component``.\n",
      "  warnings.warn(msg, UserWarning)\n",
      "/Users/kareefullah/Desktop/Graspy_Workspace/graspologic/graspologic/embed/ase.py:166: UserWarning: Input graph is not fully connected. Results may notbe optimal. You can compute the largest connected component byusing ``graspologic.utils.largest_connected_component``.\n",
      "  warnings.warn(msg, UserWarning)\n",
      "/Users/kareefullah/Desktop/Graspy_Workspace/graspologic/graspologic/embed/ase.py:166: UserWarning: Input graph is not fully connected. Results may notbe optimal. You can compute the largest connected component byusing ``graspologic.utils.largest_connected_component``.\n",
      "  warnings.warn(msg, UserWarning)\n"
     ]
    },
    {
     "name": "stdout",
     "output_type": "stream",
     "text": [
      "100\n",
      "100\n",
      "100\n",
      "100\n",
      "100\n",
      "100\n",
      "100\n",
      "100\n",
      "100\n",
      "100\n",
      "100\n",
      "1000\n",
      "1000\n",
      "1000\n",
      "1000\n",
      "1000\n",
      "1000\n",
      "1000\n",
      "1000\n",
      "1000\n",
      "1000\n",
      "1000\n",
      "1000\n",
      "1000\n",
      "1000\n",
      "1000\n",
      "10000\n",
      "10000\n",
      "10000\n",
      "10000\n",
      "10000\n",
      "10000\n",
      "10000\n",
      "10000\n",
      "10000\n",
      "10000\n",
      "10000\n",
      "10000\n",
      "10000\n",
      "10000\n",
      "10000\n"
     ]
    }
   ],
   "source": [
    "for n in n_verts:\n",
    "    for _ in range(15):\n",
    "        \n",
    "        total_verts.append(n)\n",
    "        X = np.random.uniform(low=0.1, high=1, size=(n, 1))\n",
    "        A = rdpg(X)\n",
    "        \n",
    "        #get time for running ASE\n",
    "        start_time = timeit.default_timer()\n",
    "        ase = AdjacencySpectralEmbed(n_components=1)\n",
    "        X1 = ase.fit_transform(A)\n",
    "        elapsed_ASE = timeit.default_timer() - start_time\n",
    "        time_ASE.append(elapsed_ASE)\n",
    "        \n",
    "        #get norm of X1-X\n",
    "        norm_ASE = np.linalg.norm(X1-X, ord='fro')\n",
    "        norms_ASE.append(norm_ASE)\n",
    "        \n",
    "        #get time for running SVD\n",
    "        start_time = timeit.default_timer()\n",
    "        svd = SVD(1)\n",
    "        X2 = svd.fit_transform(A)\n",
    "        elapsed_SVD = timeit.default_timer() - start_time\n",
    "        time_SVD.append(elapsed_SVD)\n",
    "        \n",
    "        #get norm of X2-X\n",
    "        norm_SVD = np.linalg.norm(X2-X, ord='fro')\n",
    "        norms_SVD.append(norm_SVD)\n",
    "        \n",
    "        print(n)"
   ]
  },
  {
   "cell_type": "code",
   "execution_count": 4,
   "metadata": {},
   "outputs": [],
   "source": [
    "time_ASE_dict = {\"time_ASE\": time_ASE, \"n_verts\": total_verts}\n",
    "df_time_ASE = pd.DataFrame(data = time_ASE_dict)"
   ]
  },
  {
   "cell_type": "code",
   "execution_count": 5,
   "metadata": {},
   "outputs": [],
   "source": [
    "norms_ASE_dict = {\"norms_ASE\": norms_ASE, \"n_verts\": total_verts}\n",
    "df_norms_ASE = pd.DataFrame(data = norms_ASE_dict)"
   ]
  },
  {
   "cell_type": "code",
   "execution_count": 6,
   "metadata": {},
   "outputs": [],
   "source": [
    "time_SVD_dict = {\"time_SVD\": time_SVD, \"n_verts\": total_verts}\n",
    "df_time_SVD = pd.DataFrame(data = time_SVD_dict)"
   ]
  },
  {
   "cell_type": "code",
   "execution_count": 7,
   "metadata": {},
   "outputs": [],
   "source": [
    "norms_SVD_dict = {\"norms_SVD\": norms_SVD, \"n_verts\": total_verts}\n",
    "df_norms_SVD = pd.DataFrame(data = norms_SVD_dict)"
   ]
  },
  {
   "cell_type": "code",
   "execution_count": 8,
   "metadata": {},
   "outputs": [
    {
     "data": {
      "image/png": "[encoded data removed]",
      "text/plain": [
       "<Figure size 432x288 with 1 Axes>"
      ]
     },
     "metadata": {
      "needs_background": "light"
     },
     "output_type": "display_data"
    }
   ],
   "source": [
    "ax1 = sns.stripplot(data=df_time_ASE,\n",
    "    x=\"n_verts\",\n",
    "    y=\"time_ASE\",\n",
    "    jitter = 0.25,\n",
    "    alpha = 0.5,\n",
    "    size=5,\n",
    "    color='red'\n",
    ")\n",
    "\n",
    "ax2 = sns.stripplot(data=df_time_SVD,\n",
    "    x=\"n_verts\",\n",
    "    y=\"time_SVD\",\n",
    "    jitter = 0.25,\n",
    "    alpha = 0.5,\n",
    "    size=5,\n",
    "    color='blue'\n",
    ")\n",
    "ax1.set_yscale('log')\n",
    "plt.xticks(rotation='vertical')\n",
    "plt.ylabel('time')\n",
    "plt.title(\"Times vs n_verts\")\n",
    "\n",
    "plt.savefig('timeASESVD_vs_n_verts.png')"
   ]
  },
  {
   "cell_type": "code",
   "execution_count": 9,
   "metadata": {},
   "outputs": [
    {
     "data": {
      "image/png": "[encoded data removed]",
      "text/plain": [
       "<Figure size 432x288 with 1 Axes>"
      ]
     },
     "metadata": {
      "needs_background": "light"
     },
     "output_type": "display_data"
    }
   ],
   "source": [
    "ax1 = sns.stripplot(data=df_norms_ASE,\n",
    "    x=\"n_verts\",\n",
    "    y=\"norms_ASE\",\n",
    "    jitter = 0.25,\n",
    "    alpha = 0.5,\n",
    "    size=5,\n",
    "    color='red'\n",
    ")\n",
    "\n",
    "ax2 = sns.stripplot(data=df_norms_SVD,\n",
    "    x=\"n_verts\",\n",
    "    y=\"norms_SVD\",\n",
    "    jitter = 0.25,\n",
    "    alpha = 0.5,\n",
    "    size=5,\n",
    "    color='blue'\n",
    ")\n",
    "ax1.set_yscale('log')\n",
    "plt.xticks(rotation='vertical')\n",
    "plt.ylabel('Frobenius norm')\n",
    "plt.title(\"Frobenius norms vs n_verts\")\n",
    "\n",
    "plt.savefig('normsASESVD_vs_n_verts.png')"
   ]
  },
  {
   "cell_type": "code",
   "execution_count": 10,
   "metadata": {},
   "outputs": [],
   "source": [
    "n_verts = [10, 100, 1000, 10000]\n",
    "total_verts = []\n",
    "time_LSE = []\n",
    "time_Spectral = []\n",
    "norms_LSE = []\n",
    "norms_Spectral = []"
   ]
  },
  {
   "cell_type": "code",
   "execution_count": 11,
   "metadata": {},
   "outputs": [
    {
     "name": "stderr",
     "output_type": "stream",
     "text": [
      "/Users/kareefullah/Desktop/Graspy_Workspace/graspologic/graspologic/embed/lse.py:159: UserWarning: Input graph is not fully connected. Results may notbe optimal. You can compute the largest connected component byusing ``graspologic.utils.largest_connected_component``.\n",
      "  warnings.warn(msg, UserWarning)\n",
      "/Users/kareefullah/Desktop/Graspy_Workspace/graspologic/graspologic/embed/lse.py:159: UserWarning: Input graph is not fully connected. Results may notbe optimal. You can compute the largest connected component byusing ``graspologic.utils.largest_connected_component``.\n",
      "  warnings.warn(msg, UserWarning)\n",
      "/Users/kareefullah/Desktop/Graspy_Workspace/graspologic/graspologic/embed/lse.py:159: UserWarning: Input graph is not fully connected. Results may notbe optimal. You can compute the largest connected component byusing ``graspologic.utils.largest_connected_component``.\n",
      "  warnings.warn(msg, UserWarning)\n",
      "/Users/kareefullah/Desktop/Graspy_Workspace/graspologic/graspologic/embed/lse.py:159: UserWarning: Input graph is not fully connected. Results may notbe optimal. You can compute the largest connected component byusing ``graspologic.utils.largest_connected_component``.\n",
      "  warnings.warn(msg, UserWarning)\n",
      "/Users/kareefullah/Desktop/Graspy_Workspace/graspologic/graspologic/embed/lse.py:159: UserWarning: Input graph is not fully connected. Results may notbe optimal. You can compute the largest connected component byusing ``graspologic.utils.largest_connected_component``.\n",
      "  warnings.warn(msg, UserWarning)\n",
      "/Users/kareefullah/Desktop/Graspy_Workspace/graspologic/graspologic/embed/lse.py:159: UserWarning: Input graph is not fully connected. Results may notbe optimal. You can compute the largest connected component byusing ``graspologic.utils.largest_connected_component``.\n",
      "  warnings.warn(msg, UserWarning)\n",
      "/Users/kareefullah/Desktop/Graspy_Workspace/graspologic/graspologic/embed/lse.py:159: UserWarning: Input graph is not fully connected. Results may notbe optimal. You can compute the largest connected component byusing ``graspologic.utils.largest_connected_component``.\n",
      "  warnings.warn(msg, UserWarning)\n",
      "/Users/kareefullah/Desktop/Graspy_Workspace/graspologic/graspologic/embed/lse.py:159: UserWarning: Input graph is not fully connected. Results may notbe optimal. You can compute the largest connected component byusing ``graspologic.utils.largest_connected_component``.\n",
      "  warnings.warn(msg, UserWarning)\n",
      "/Users/kareefullah/Desktop/Graspy_Workspace/graspologic/graspologic/embed/lse.py:159: UserWarning: Input graph is not fully connected. Results may notbe optimal. You can compute the largest connected component byusing ``graspologic.utils.largest_connected_component``.\n",
      "  warnings.warn(msg, UserWarning)\n",
      "/Users/kareefullah/Desktop/Graspy_Workspace/graspologic/graspologic/embed/lse.py:159: UserWarning: Input graph is not fully connected. Results may notbe optimal. You can compute the largest connected component byusing ``graspologic.utils.largest_connected_component``.\n",
      "  warnings.warn(msg, UserWarning)\n"
     ]
    },
    {
     "name": "stdout",
     "output_type": "stream",
     "text": [
      "10\n",
      "10\n",
      "10\n",
      "10\n",
      "10\n",
      "10\n",
      "10\n",
      "10\n",
      "10\n",
      "10\n",
      "10\n",
      "10\n",
      "10\n",
      "10\n",
      "10\n",
      "100\n",
      "100\n",
      "100\n",
      "100\n",
      "100\n",
      "100\n",
      "100\n",
      "100\n",
      "100\n",
      "100\n",
      "100\n",
      "100\n",
      "100\n",
      "100\n",
      "100\n",
      "1000\n",
      "1000\n",
      "1000\n",
      "1000\n",
      "1000\n",
      "1000\n",
      "1000\n",
      "1000\n",
      "1000\n",
      "1000\n",
      "1000\n",
      "1000\n",
      "1000\n",
      "1000\n",
      "1000\n",
      "10000\n",
      "10000\n",
      "10000\n",
      "10000\n",
      "10000\n",
      "10000\n",
      "10000\n",
      "10000\n",
      "10000\n",
      "10000\n",
      "10000\n",
      "10000\n",
      "10000\n",
      "10000\n",
      "10000\n"
     ]
    }
   ],
   "source": [
    "for n in n_verts:\n",
    "    for _ in range(15):\n",
    "        \n",
    "        total_verts.append(n)\n",
    "        X = np.random.uniform(low=0.1, high=1, size=(n, 1))\n",
    "        A = rdpg(X)\n",
    "        \n",
    "        #get time for running LSE\n",
    "        start_time = timeit.default_timer()\n",
    "        lse = LaplacianSpectralEmbed(n_components=1)\n",
    "        X1 = lse.fit_transform(A)\n",
    "        elapsed_LSE = timeit.default_timer() - start_time\n",
    "        time_LSE.append(elapsed_LSE)\n",
    "        \n",
    "        #get norm of X1-X\n",
    "        norm_LSE = np.linalg.norm(X1-X, ord='fro')\n",
    "        norms_LSE.append(norm_LSE)\n",
    "        \n",
    "        #get time for running Spectral\n",
    "        start_time = timeit.default_timer()\n",
    "        spectral = Spectral(1)\n",
    "        X2 = spectral.fit_transform(A)\n",
    "        elapsed_Spectral = timeit.default_timer() - start_time\n",
    "        time_Spectral.append(elapsed_Spectral)\n",
    "        \n",
    "        #get norm of X2-X\n",
    "        norm_Spectral = np.linalg.norm(X2-X, ord='fro')\n",
    "        norms_Spectral.append(norm_LSE)\n",
    "        \n",
    "        print(n)"
   ]
  },
  {
   "cell_type": "code",
   "execution_count": 12,
   "metadata": {},
   "outputs": [
    {
     "name": "stdout",
     "output_type": "stream",
     "text": [
      "[10, 10, 10, 10, 10, 10, 10, 10, 10, 10, 10, 10, 10, 10, 10, 100, 100, 100, 100, 100, 100, 100, 100, 100, 100, 100, 100, 100, 100, 100, 1000, 1000, 1000, 1000, 1000, 1000, 1000, 1000, 1000, 1000, 1000, 1000, 1000, 1000, 1000, 10000, 10000, 10000, 10000, 10000, 10000, 10000, 10000, 10000, 10000, 10000, 10000, 10000, 10000, 10000]\n",
      "[0.9309805294494149, 1.2285504806522332, 0.733068479371801, 1.0728775412856881, 1.3666865067528506, 1.7047390285758954, 1.3733932549879369, 1.0515886771621323, 0.956884306974702, 1.9769800152175518, 0.8702032495859492, 0.9149566832812059, 0.8946694124104292, 1.2297205371834976, 0.971542079262798, 5.166907211223409, 4.995142099022034, 5.120642868937707, 5.118056395086059, 4.839898930320032, 5.284443565517392, 4.757924780501066, 5.374646093606995, 4.996473453636623, 4.668029290904862, 4.569387453706465, 5.100146924151874, 5.308783628927996, 5.025401186784818, 4.8489875889300755, 18.624673482898995, 18.032052347779796, 18.041302752523404, 18.148909684065874, 18.402093597820933, 18.79345844830912, 18.327425358925066, 18.6988699229376, 18.68888566395327, 18.588885161864642, 18.50697479985465, 18.06358274992447, 18.302046779543947, 18.182436750428938, 18.2870373706718, 60.135339942504515, 59.848730003064965, 59.91875377854915, 59.677348242863445, 59.470455458188475, 59.9401438866973, 59.77985616912151, 59.80371638109273, 60.014807344892176, 59.345706911604445, 60.00945312994434, 59.593844697576536, 59.98973731637899, 60.06797570011771, 59.90178981217943]\n"
     ]
    }
   ],
   "source": [
    "print(total_verts)\n",
    "print(norms_LSE)"
   ]
  },
  {
   "cell_type": "code",
   "execution_count": 13,
   "metadata": {},
   "outputs": [],
   "source": [
    "time_LSE_dict = {\"time_LSE\": time_LSE, \"n_verts\": total_verts}\n",
    "df_time_LSE = pd.DataFrame(data = time_LSE_dict)"
   ]
  },
  {
   "cell_type": "code",
   "execution_count": 14,
   "metadata": {},
   "outputs": [],
   "source": [
    "norms_LSE_dict = {\"norms_LSE\": norms_LSE, \"n_verts\": total_verts}\n",
    "df_norms_LSE = pd.DataFrame(data = norms_LSE_dict)"
   ]
  },
  {
   "cell_type": "code",
   "execution_count": 15,
   "metadata": {},
   "outputs": [],
   "source": [
    "time_Spectral_dict = {\"time_Spectral\": time_Spectral, \"n_verts\": total_verts}\n",
    "df_time_Spectral = pd.DataFrame(data = time_Spectral_dict)"
   ]
  },
  {
   "cell_type": "code",
   "execution_count": 16,
   "metadata": {},
   "outputs": [],
   "source": [
    "norms_Spectral_dict = {\"norms_Spectral\": norms_Spectral, \"n_verts\": total_verts}\n",
    "df_norms_Spectral = pd.DataFrame(data = norms_Spectral_dict)"
   ]
  },
  {
   "cell_type": "code",
   "execution_count": 17,
   "metadata": {},
   "outputs": [
    {
     "data": {
      "image/png": "[encoded data removed]",
      "text/plain": [
       "<Figure size 432x288 with 1 Axes>"
      ]
     },
     "metadata": {
      "needs_background": "light"
     },
     "output_type": "display_data"
    }
   ],
   "source": [
    "ax1 = sns.stripplot(data=df_time_LSE,\n",
    "    x=\"n_verts\",\n",
    "    y=\"time_LSE\",\n",
    "    jitter = 0.25,\n",
    "    alpha = 0.5,\n",
    "    size=5,\n",
    "    color='red'\n",
    ")\n",
    "\n",
    "ax2 = sns.stripplot(data=df_time_Spectral,\n",
    "    x=\"n_verts\",\n",
    "    y=\"time_Spectral\",\n",
    "    jitter = 0.25,\n",
    "    alpha = 0.5,\n",
    "    size=5,\n",
    "    color='blue'\n",
    ")\n",
    "ax1.set_yscale('log')\n",
    "plt.xticks(rotation='vertical')\n",
    "plt.ylabel('time')\n",
    "plt.title(\"Times vs n_verts\")\n",
    "\n",
    "plt.savefig('timeLSESpectral_vs_n_verts.png')"
   ]
  },
  {
   "cell_type": "code",
   "execution_count": 18,
   "metadata": {},
   "outputs": [
    {
     "data": {
      "image/png": "[encoded data removed]",
      "text/plain": [
       "<Figure size 432x288 with 1 Axes>"
      ]
     },
     "metadata": {
      "needs_background": "light"
     },
     "output_type": "display_data"
    }
   ],
   "source": [
    "ax1 = sns.stripplot(data=df_norms_LSE,\n",
    "    x=\"n_verts\",\n",
    "    y=\"norms_LSE\",\n",
    "    jitter = 0.25,\n",
    "    alpha = 0.5,\n",
    "    size=5,\n",
    "    color='red'\n",
    ")\n",
    "\n",
    "ax2 = sns.stripplot(data=df_norms_Spectral,\n",
    "    x=\"n_verts\",\n",
    "    y=\"norms_Spectral\",\n",
    "    jitter = 0.25,\n",
    "    alpha = 0.5,\n",
    "    size=5,\n",
    "    color='blue'\n",
    ")\n",
    "ax1.set_yscale('log')\n",
    "plt.xticks(rotation='vertical')\n",
    "plt.ylabel('Frobenius norm')\n",
    "plt.title(\"Frobenius norms vs n_verts\")\n",
    "\n",
    "plt.savefig('normsLSESpectral_vs_n_verts.png')"
   ]
  },
  {
   "cell_type": "code",
   "execution_count": null,
   "metadata": {},
   "outputs": [],
   "source": []
  },
  {
   "cell_type": "code",
   "execution_count": null,
   "metadata": {},
   "outputs": [],
   "source": []
  }
 ],
 "metadata": {
  "kernelspec": {
   "display_name": "Python 3",
   "language": "python",
   "name": "python3"
  },
  "language_info": {
   "codemirror_mode": {
    "name": "ipython",
    "version": 3
   },
   "file_extension": ".py",
   "mimetype": "text/x-python",
   "name": "python",
   "nbconvert_exporter": "python",
   "pygments_lexer": "ipython3",
   "version": "3.8.4"
  }
 },
 "nbformat": 4,
 "nbformat_minor": 4
}
