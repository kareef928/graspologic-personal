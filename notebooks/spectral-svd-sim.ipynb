{
 "cells": [
  {
   "cell_type": "code",
   "execution_count": 1,
   "metadata": {},
   "outputs": [],
   "source": [
    "import numpy as np\n",
    "import timeit\n",
    "\n",
    "from scipy.sparse import identity\n",
    "from graspologic.inference import latent_position_test\n",
    "from graspologic.embed import AdjacencySpectralEmbed, LaplacianSpectralEmbed\n",
    "from graspologic.simulations import er_np, sbm, rdpg\n",
    "from graspologic.utils import symmetrize\n",
    "from graspologic.plot import heatmap, pairplot\n",
    "from matplotlib import pyplot as plt\n",
    "import pandas as pd\n",
    "import seaborn as sns\n",
    "\n",
    "from sknetwork.data import erdos_renyi, painters, movie_actor\n",
    "from sknetwork.embedding import Spectral, SVD\n",
    "from sknetwork.visualization import svg_graph, svg_digraph, svg_bigraph\n",
    "from IPython.display import SVG"
   ]
  },
  {
   "cell_type": "markdown",
   "metadata": {},
   "source": [
    "Sim setting:\n",
    "\n",
    "Sim 1: SVD vs ASE\n",
    "\n",
    "Generate a scipy csr_matrix with an nxn identity matrix (n=100)\n",
    "Perform ASE and SVD on the graph (with same n_components) and save the runtimes for each using the timeit.default_timer() method\n",
    "Repeat step 2 increasing n by 100 until n=2000\n",
    "Plot line graphs for times vs n_verts for ASE and SVD\n",
    "Sim 2: Spectral vs LSE\n",
    "Exact same process as sim 1 except use spectral instead of SVD and LSE instead of ASE"
   ]
  },
  {
   "cell_type": "code",
   "execution_count": 30,
   "metadata": {},
   "outputs": [],
   "source": [
    "n_verts = [10, 100, 1000, 10000, 100000, 1000000]\n",
    "total_verts = []\n",
    "time_ASE = []\n",
    "time_SVD = []"
   ]
  },
  {
   "cell_type": "code",
   "execution_count": 31,
   "metadata": {},
   "outputs": [
    {
     "name": "stderr",
     "output_type": "stream",
     "text": [
      "/Users/kareefullah/Desktop/Graspy_Workspace/graspologic/graspologic/embed/ase.py:166: UserWarning: Input graph is not fully connected. Results may notbe optimal. You can compute the largest connected component byusing ``graspologic.utils.largest_connected_component``.\n",
      "  warnings.warn(msg, UserWarning)\n",
      "/Users/kareefullah/Desktop/Graspy_Workspace/graspologic/graspologic/embed/ase.py:175: RuntimeWarning: divide by zero encountered in true_divide\n",
      "  inv_eigs = np.diag(1 / self.singular_values_)\n",
      "/Users/kareefullah/Desktop/Graspy_Workspace/graspologic/graspologic/embed/ase.py:176: RuntimeWarning: invalid value encountered in matmul\n",
      "  self._pinv_left = self.latent_left_ @ inv_eigs\n"
     ]
    },
    {
     "name": "stdout",
     "output_type": "stream",
     "text": [
      "10\n",
      "10\n",
      "10\n",
      "10\n",
      "10\n",
      "10\n",
      "10\n",
      "10\n",
      "10\n",
      "10\n",
      "10\n",
      "10\n",
      "10\n",
      "10\n",
      "10\n",
      "100\n",
      "100\n",
      "100\n",
      "100\n",
      "100\n",
      "100\n",
      "100\n",
      "100\n",
      "100\n",
      "100\n",
      "100\n",
      "100\n",
      "100\n",
      "100\n",
      "100\n",
      "1000\n",
      "1000\n",
      "1000\n",
      "1000\n",
      "1000\n",
      "1000\n",
      "1000\n",
      "1000\n",
      "1000\n",
      "1000\n",
      "1000\n",
      "1000\n",
      "1000\n",
      "1000\n",
      "1000\n",
      "10000\n",
      "10000\n",
      "10000\n",
      "10000\n",
      "10000\n",
      "10000\n",
      "10000\n",
      "10000\n",
      "10000\n",
      "10000\n",
      "10000\n",
      "10000\n",
      "10000\n",
      "10000\n",
      "10000\n",
      "100000\n",
      "100000\n",
      "100000\n",
      "100000\n",
      "100000\n",
      "100000\n",
      "100000\n",
      "100000\n",
      "100000\n",
      "100000\n",
      "100000\n",
      "100000\n",
      "100000\n",
      "100000\n",
      "100000\n",
      "1000000\n",
      "1000000\n",
      "1000000\n",
      "1000000\n",
      "1000000\n",
      "1000000\n",
      "1000000\n",
      "1000000\n",
      "1000000\n",
      "1000000\n",
      "1000000\n",
      "1000000\n",
      "1000000\n",
      "1000000\n",
      "1000000\n"
     ]
    }
   ],
   "source": [
    "for n in n_verts:\n",
    "    for _ in range(15):\n",
    "        \n",
    "        total_verts.append(n)\n",
    "        A = identity(n, format='csr')\n",
    "        \n",
    "        #get time for running ASE\n",
    "        start_time = timeit.default_timer()\n",
    "        ase = AdjacencySpectralEmbed(n_components=2)\n",
    "        X1 = ase.fit_transform(A)\n",
    "        elapsed_ASE = timeit.default_timer() - start_time\n",
    "        time_ASE.append(elapsed_ASE)\n",
    "        \n",
    "        #get time for running SVD\n",
    "        start_time = timeit.default_timer()\n",
    "        svd = SVD(2)\n",
    "        X2 = svd.fit_transform(A)\n",
    "        elapsed_SVD = timeit.default_timer() - start_time\n",
    "        time_SVD.append(elapsed_SVD)\n",
    "        \n",
    "        print(n)"
   ]
  },
  {
   "cell_type": "code",
   "execution_count": 32,
   "metadata": {},
   "outputs": [],
   "source": [
    "time_ASE_dict = {\"time_ASE\": time_ASE, \"n_verts\": total_verts}\n",
    "df_ASE = pd.DataFrame(data = time_ASE_dict)"
   ]
  },
  {
   "cell_type": "code",
   "execution_count": 33,
   "metadata": {},
   "outputs": [],
   "source": [
    "time_SVD_dict = {\"time_SVD\": time_SVD, \"n_verts\": total_verts}\n",
    "df_SVD = pd.DataFrame(data = time_SVD_dict)"
   ]
  },
  {
   "cell_type": "code",
   "execution_count": 34,
   "metadata": {},
   "outputs": [
    {
     "data": {
      "image/png": "[encoded data removed]",
      "text/plain": [
       "<Figure size 432x288 with 1 Axes>"
      ]
     },
     "metadata": {
      "needs_background": "light"
     },
     "output_type": "display_data"
    }
   ],
   "source": [
    "ax1 = sns.stripplot(data=df_ASE,\n",
    "    x=\"n_verts\",\n",
    "    y=\"time_ASE\",\n",
    "    jitter = 0.25,\n",
    "    alpha = 0.5,\n",
    "    size=5,\n",
    "    color='red'\n",
    ")\n",
    "\n",
    "ax2 = sns.stripplot(data=df_SVD,\n",
    "    x=\"n_verts\",\n",
    "    y=\"time_SVD\",\n",
    "    jitter = 0.25,\n",
    "    alpha = 0.5,\n",
    "    size=5,\n",
    "    color='blue'\n",
    ")\n",
    "ax1.set_yscale('log')\n",
    "plt.xticks(rotation='vertical')\n",
    "plt.ylabel('time')\n",
    "plt.title(\"Times vs n_verts\")\n",
    "\n",
    "plt.savefig('timeASESVD_vs_n_verts.png')"
   ]
  },
  {
   "cell_type": "code",
   "execution_count": 25,
   "metadata": {},
   "outputs": [],
   "source": [
    "n_verts = [10, 100, 1000, 10000]\n",
    "total_verts = []\n",
    "time_LSE = []\n",
    "time_Spectral = []"
   ]
  },
  {
   "cell_type": "code",
   "execution_count": 26,
   "metadata": {},
   "outputs": [
    {
     "name": "stdout",
     "output_type": "stream",
     "text": [
      "10\n",
      "10\n",
      "10\n",
      "10\n",
      "10\n",
      "10\n",
      "10\n",
      "10\n",
      "10\n",
      "10\n",
      "10\n",
      "10\n",
      "10\n",
      "10\n",
      "10\n",
      "100\n",
      "100\n",
      "100\n",
      "100\n",
      "100\n",
      "100\n",
      "100\n",
      "100\n",
      "100\n",
      "100\n",
      "100\n",
      "100\n",
      "100\n",
      "100\n",
      "100\n",
      "1000\n",
      "1000\n",
      "1000\n",
      "1000\n",
      "1000\n",
      "1000\n",
      "1000\n",
      "1000\n",
      "1000\n",
      "1000\n",
      "1000\n",
      "1000\n",
      "1000\n",
      "1000\n",
      "1000\n",
      "10000\n",
      "10000\n",
      "10000\n",
      "10000\n",
      "10000\n",
      "10000\n",
      "10000\n",
      "10000\n",
      "10000\n",
      "10000\n",
      "10000\n",
      "10000\n",
      "10000\n",
      "10000\n",
      "10000\n"
     ]
    }
   ],
   "source": [
    "for n in n_verts:\n",
    "    for _ in range(15):\n",
    "        \n",
    "        total_verts.append(n)\n",
    "        A = identity(n, format='csr')\n",
    "        \n",
    "        #get time for running LSE\n",
    "        start_time = timeit.default_timer()\n",
    "        lse = LaplacianSpectralEmbed(n_components=2)\n",
    "        X1 = lse.fit_transform(A)\n",
    "        elapsed_LSE = timeit.default_timer() - start_time\n",
    "        time_LSE.append(elapsed_LSE)\n",
    "        \n",
    "        #get time for running Spectral\n",
    "        start_time = timeit.default_timer()\n",
    "        spectral = Spectral(2)\n",
    "        X2 = spectral.fit_transform(A)\n",
    "        elapsed_Spectral = timeit.default_timer() - start_time\n",
    "        time_Spectral.append(elapsed_Spectral)\n",
    "        \n",
    "        print(n)"
   ]
  },
  {
   "cell_type": "code",
   "execution_count": 27,
   "metadata": {},
   "outputs": [],
   "source": [
    "time_LSE_dict = {\"time_LSE\": time_LSE, \"n_verts\": total_verts}\n",
    "df_LSE = pd.DataFrame(data = time_LSE_dict)"
   ]
  },
  {
   "cell_type": "code",
   "execution_count": 28,
   "metadata": {},
   "outputs": [],
   "source": [
    "time_Spectral_dict = {\"time_Spectral\": time_Spectral, \"n_verts\": total_verts}\n",
    "df_Spectral = pd.DataFrame(data = time_Spectral_dict)"
   ]
  },
  {
   "cell_type": "code",
   "execution_count": 29,
   "metadata": {},
   "outputs": [
    {
     "data": {
      "image/png": "[encoded data removed]",
      "text/plain": [
       "<Figure size 432x288 with 1 Axes>"
      ]
     },
     "metadata": {
      "needs_background": "light"
     },
     "output_type": "display_data"
    }
   ],
   "source": [
    "ax1 = sns.stripplot(data=df_LSE,\n",
    "    x=\"n_verts\",\n",
    "    y=\"time_LSE\",\n",
    "    jitter = 0.25,\n",
    "    alpha = 0.5,\n",
    "    size=5,\n",
    "    color='red'\n",
    ")\n",
    "\n",
    "ax2 = sns.stripplot(data=df_Spectral,\n",
    "    x=\"n_verts\",\n",
    "    y=\"time_Spectral\",\n",
    "    jitter = 0.25,\n",
    "    alpha = 0.5,\n",
    "    size=5,\n",
    "    color='blue'\n",
    ")\n",
    "ax1.set_yscale('log')\n",
    "plt.xticks(rotation='vertical')\n",
    "plt.ylabel('time')\n",
    "plt.title(\"Times vs n_verts\")\n",
    "\n",
    "plt.savefig('timeLSESpectral_vs_n_verts.png')"
   ]
  },
  {
   "cell_type": "code",
   "execution_count": null,
   "metadata": {},
   "outputs": [],
   "source": []
  }
 ],
 "metadata": {
  "kernelspec": {
   "display_name": "Python 3",
   "language": "python",
   "name": "python3"
  },
  "language_info": {
   "codemirror_mode": {
    "name": "ipython",
    "version": 3
   },
   "file_extension": ".py",
   "mimetype": "text/x-python",
   "name": "python",
   "nbconvert_exporter": "python",
   "pygments_lexer": "ipython3",
   "version": "3.8.4"
  }
 },
 "nbformat": 4,
 "nbformat_minor": 4
}
