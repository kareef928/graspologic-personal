{
 "cells": [
  {
   "cell_type": "code",
   "execution_count": 1,
   "metadata": {},
   "outputs": [],
   "source": [
    "import numpy as np\n",
    "import scipy\n",
    "\n",
    "from graspologic.inference import latent_position_test\n",
    "from graspologic.embed import AdjacencySpectralEmbed, LaplacianSpectralEmbed\n",
    "from graspologic.simulations import er_np, sbm, rdpg\n",
    "from graspologic.utils import symmetrize\n",
    "from graspologic.plot import heatmap, pairplot\n",
    "from matplotlib import pyplot as plt\n",
    "import pandas as pd\n",
    "import seaborn as sns\n",
    "\n",
    "from sknetwork.data import erdos_renyi, painters, movie_actor\n",
    "from sknetwork.embedding import Spectral, SVD\n",
    "from sknetwork.visualization import svg_graph, svg_digraph, svg_bigraph\n",
    "from IPython.display import SVG\n",
    "%matplotlib inline"
   ]
  },
  {
   "cell_type": "code",
   "execution_count": 12,
   "metadata": {},
   "outputs": [],
   "source": [
    "X = np.random.uniform(low=0.1, high=1, size=(20, 1))\n",
    "A = rdpg(X)"
   ]
  },
  {
   "cell_type": "code",
   "execution_count": 13,
   "metadata": {},
   "outputs": [
    {
     "name": "stdout",
     "output_type": "stream",
     "text": [
      "[[1.01539536]\n",
      " [0.94936968]\n",
      " [0.76407917]\n",
      " [0.66831337]\n",
      " [0.6209419 ]\n",
      " [0.94668067]\n",
      " [0.21368968]\n",
      " [0.5866866 ]\n",
      " [0.63328241]\n",
      " [0.63109462]\n",
      " [0.65015278]\n",
      " [0.06871388]\n",
      " [1.00199133]\n",
      " [0.11055673]\n",
      " [0.44686379]\n",
      " [0.35829739]\n",
      " [0.17014388]\n",
      " [0.18291176]\n",
      " [0.92261701]\n",
      " [1.05732585]]\n",
      "[[2.8813641 ]\n",
      " [2.70608964]\n",
      " [2.21077559]\n",
      " [1.94083142]\n",
      " [1.81138046]\n",
      " [2.70970259]\n",
      " [0.63562527]\n",
      " [1.7154319 ]\n",
      " [1.84642667]\n",
      " [1.82505601]\n",
      " [1.89460229]\n",
      " [0.2091248 ]\n",
      " [2.84108461]\n",
      " [0.3301623 ]\n",
      " [1.31978194]\n",
      " [1.06437379]\n",
      " [0.51058415]\n",
      " [0.54793784]\n",
      " [2.63087012]\n",
      " [3.00023427]]\n",
      "[3.03924572]\n",
      "[8.72711412]\n"
     ]
    }
   ],
   "source": [
    "ase = AdjacencySpectralEmbed(n_components=1)\n",
    "X1 = ase.fit_transform(A)\n",
    "svd = SVD(1)\n",
    "X2 = svd.fit_transform(A)\n",
    "print(X1)\n",
    "print(X2)\n",
    "print(np.linalg.norm(X1, axis=0))\n",
    "print(np.linalg.norm(X2, axis=0))"
   ]
  },
  {
   "cell_type": "code",
   "execution_count": 14,
   "metadata": {},
   "outputs": [
    {
     "name": "stdout",
     "output_type": "stream",
     "text": [
      "[[0.29704423]\n",
      " [0.284398  ]\n",
      " [0.24253575]\n",
      " [0.24253583]\n",
      " [0.22687129]\n",
      " [0.27116313]\n",
      " [0.12126744]\n",
      " [0.21004199]\n",
      " [0.22687128]\n",
      " [0.24253567]\n",
      " [0.22687144]\n",
      " [0.08574943]\n",
      " [0.29704405]\n",
      " [0.08574936]\n",
      " [0.19174125]\n",
      " [0.1714987 ]\n",
      " [0.12126785]\n",
      " [0.12126797]\n",
      " [0.28439824]\n",
      " [0.29704423]]\n",
      "[[-1.]\n",
      " [ 1.]\n",
      " [-1.]\n",
      " [-1.]\n",
      " [-1.]\n",
      " [ 1.]\n",
      " [-1.]\n",
      " [-1.]\n",
      " [-1.]\n",
      " [ 1.]\n",
      " [-1.]\n",
      " [ 1.]\n",
      " [-1.]\n",
      " [-1.]\n",
      " [ 1.]\n",
      " [-1.]\n",
      " [ 1.]\n",
      " [-1.]\n",
      " [ 1.]\n",
      " [-1.]]\n",
      "0.999999999999909\n",
      "4.47213595499958\n"
     ]
    }
   ],
   "source": [
    "lse = LaplacianSpectralEmbed(n_components=1)\n",
    "X1 = lse.fit_transform(A)\n",
    "spectral = Spectral(1)\n",
    "X2 = spectral.fit_transform(A)\n",
    "print(X1)\n",
    "print(X2)\n",
    "print(np.linalg.norm(X1))\n",
    "print(np.linalg.norm(X2))"
   ]
  },
  {
   "cell_type": "code",
   "execution_count": null,
   "metadata": {},
   "outputs": [],
   "source": []
  },
  {
   "cell_type": "code",
   "execution_count": null,
   "metadata": {},
   "outputs": [],
   "source": []
  },
  {
   "cell_type": "code",
   "execution_count": null,
   "metadata": {},
   "outputs": [],
   "source": []
  }
 ],
 "metadata": {
  "kernelspec": {
   "display_name": "Python 3",
   "language": "python",
   "name": "python3"
  },
  "language_info": {
   "codemirror_mode": {
    "name": "ipython",
    "version": 3
   },
   "file_extension": ".py",
   "mimetype": "text/x-python",
   "name": "python",
   "nbconvert_exporter": "python",
   "pygments_lexer": "ipython3",
   "version": "3.8.4"
  }
 },
 "nbformat": 4,
 "nbformat_minor": 4
}
