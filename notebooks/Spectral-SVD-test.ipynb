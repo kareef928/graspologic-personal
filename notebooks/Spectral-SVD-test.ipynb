{
 "cells": [
  {
   "cell_type": "code",
   "execution_count": 46,
   "metadata": {},
   "outputs": [],
   "source": [
    "import numpy as np\n",
    "import scipy\n",
    "\n",
    "from graspologic.inference import latent_position_test\n",
    "from graspologic.embed import AdjacencySpectralEmbed, LaplacianSpectralEmbed\n",
    "from graspologic.simulations import er_np, sbm, rdpg\n",
    "from graspologic.utils import symmetrize\n",
    "from graspologic.plot import heatmap, pairplot\n",
    "from matplotlib import pyplot as plt\n",
    "import pandas as pd\n",
    "import seaborn as sns\n",
    "\n",
    "from sknetwork.data import erdos_renyi, painters, movie_actor\n",
    "from sknetwork.embedding import Spectral, SVD\n",
    "from sknetwork.visualization import svg_graph, svg_digraph, svg_bigraph\n",
    "from IPython.display import SVG\n",
    "%matplotlib inline"
   ]
  },
  {
   "cell_type": "code",
   "execution_count": 47,
   "metadata": {},
   "outputs": [
    {
     "data": {
      "text/plain": [
       "<AxesSubplot:>"
      ]
     },
     "execution_count": 47,
     "metadata": {},
     "output_type": "execute_result"
    },
    {
     "data": {
      "image/png": "[encoded data removed]",
      "text/plain": [
       "<Figure size 720x720 with 2 Axes>"
      ]
     },
     "metadata": {
      "needs_background": "light"
     },
     "output_type": "display_data"
    }
   ],
   "source": [
    "A = er_np(20, 0.2)\n",
    "heatmap(A)\n",
    "#B = scipy.sparse.csr_matrix(A)\n",
    "#image = svg_graph(B)\n",
    "#SVG(image)\n"
   ]
  },
  {
   "cell_type": "code",
   "execution_count": 48,
   "metadata": {},
   "outputs": [
    {
     "name": "stdout",
     "output_type": "stream",
     "text": [
      "[[ 0.28418768  0.17750693]\n",
      " [ 0.2045526  -0.15718684]\n",
      " [ 0.50092647  0.65541761]\n",
      " [ 0.84141888 -0.44943002]\n",
      " [ 0.28779871  0.11900115]\n",
      " [ 0.4510856   0.42306435]\n",
      " [ 0.05333657  0.1234841 ]\n",
      " [ 0.58086516 -0.02132634]\n",
      " [ 0.17606977  0.37358993]\n",
      " [ 0.65959984 -0.53757976]\n",
      " [ 0.11250138  0.21957876]\n",
      " [ 0.73415193 -0.01130745]\n",
      " [ 0.38747831  0.71836197]\n",
      " [ 0.60424926 -0.50091287]\n",
      " [ 0.5278627   0.36994611]\n",
      " [ 0.80627151 -0.54807115]\n",
      " [ 0.16488059 -0.00378931]\n",
      " [ 0.05861132 -0.01149083]\n",
      " [ 0.19583054  0.42052021]\n",
      " [ 0.51627284  0.53181395]]\n",
      "[[-6.12570744e-01 -7.90415766e-01]\n",
      " [ 8.39401480e-01  5.43511872e-01]\n",
      " [-4.91523221e-01 -8.70864469e-01]\n",
      " [ 3.01016578e-04  9.99999955e-01]\n",
      " [-2.99619166e-01 -9.54058885e-01]\n",
      " [-6.20103034e-01 -7.84520380e-01]\n",
      " [ 9.99919416e-01 -1.26949791e-02]\n",
      " [-9.21245804e-01  3.88980935e-01]\n",
      " [ 8.64428189e-01 -5.02756309e-01]\n",
      " [-4.35744530e-01  9.00070389e-01]\n",
      " [-4.45531511e-01 -8.95266258e-01]\n",
      " [-9.31774988e-01  3.63036324e-01]\n",
      " [-5.95802466e-02 -9.98223519e-01]\n",
      " [-3.87899338e-01  9.21701743e-01]\n",
      " [-9.07150902e-01 -4.20805468e-01]\n",
      " [-4.99247573e-01  8.66459382e-01]\n",
      " [-9.16193777e-01  4.00735527e-01]\n",
      " [ 9.63145674e-01  2.68980317e-01]\n",
      " [ 4.36061933e-01 -8.99916658e-01]\n",
      " [ 2.60722475e-01 -9.65413793e-01]]\n"
     ]
    }
   ],
   "source": [
    "ase = AdjacencySpectralEmbed(n_components=2)\n",
    "X1 = ase.fit_transform(A)\n",
    "spectral = Spectral(2)\n",
    "X2 = spectral.fit_transform(A)\n",
    "print(X1)\n",
    "print(X2)"
   ]
  },
  {
   "cell_type": "code",
   "execution_count": 49,
   "metadata": {},
   "outputs": [
    {
     "name": "stdout",
     "output_type": "stream",
     "text": [
      "[[ 0.16903119  0.11690572]\n",
      " [ 0.16903122 -0.30561852]\n",
      " [ 0.26726137 -0.0042855 ]\n",
      " [ 0.29277036  0.19483299]\n",
      " [ 0.20701943  0.17557896]\n",
      " [ 0.23904548 -0.10832781]\n",
      " [ 0.16903052 -0.4168672 ]\n",
      " [ 0.23904493 -0.01365371]\n",
      " [ 0.20701907  0.37383928]\n",
      " [ 0.23904579 -0.0151007 ]\n",
      " [ 0.11952298  0.0022115 ]\n",
      " [ 0.2927701  -0.0855198 ]\n",
      " [ 0.23904629  0.18598439]\n",
      " [ 0.23904625 -0.10288461]\n",
      " [ 0.23904607  0.05646297]\n",
      " [ 0.26726069  0.01094118]\n",
      " [ 0.11952245  0.04030317]\n",
      " [ 0.16903104  0.41700755]\n",
      " [ 0.20701998 -0.27338674]\n",
      " [ 0.26726096 -0.24218345]]\n",
      "[[-0.58353671 -0.75618684]\n",
      " [-0.41814516  0.49585499]\n",
      " [-1.01330739 -0.07153176]\n",
      " [-1.65548664 -1.11124726]\n",
      " [-0.59847746 -0.62799115]\n",
      " [-0.91841505  0.35760694]\n",
      " [-0.11573473  0.40736301]\n",
      " [-1.17717125  0.2427021 ]\n",
      " [-0.36754781 -0.85685813]\n",
      " [-1.32724291  0.18333621]\n",
      " [-0.23792646  0.02488309]\n",
      " [-1.44885632  0.91787311]\n",
      " [-0.7939451  -0.81466686]\n",
      " [-1.21720227  0.64777677]\n",
      " [-1.07016819 -0.5032328 ]\n",
      " [-1.60274797 -0.30627078]\n",
      " [-0.34019416 -0.31929197]\n",
      " [-0.12535599 -0.31419403]\n",
      " [-0.41324432  0.79991126]\n",
      " [-1.03637401  1.25594782]]\n"
     ]
    }
   ],
   "source": [
    "lse = LaplacianSpectralEmbed(n_components=2)\n",
    "X1 = lse.fit_transform(A)\n",
    "svd = SVD(2)\n",
    "X2 = svd.fit_transform(A)\n",
    "print(X1)\n",
    "print(X2)\n"
   ]
  },
  {
   "cell_type": "code",
   "execution_count": null,
   "metadata": {},
   "outputs": [],
   "source": []
  }
 ],
 "metadata": {
  "kernelspec": {
   "display_name": "Python 3",
   "language": "python",
   "name": "python3"
  },
  "language_info": {
   "codemirror_mode": {
    "name": "ipython",
    "version": 3
   },
   "file_extension": ".py",
   "mimetype": "text/x-python",
   "name": "python",
   "nbconvert_exporter": "python",
   "pygments_lexer": "ipython3",
   "version": "3.8.4"
  }
 },
 "nbformat": 4,
 "nbformat_minor": 4
}
