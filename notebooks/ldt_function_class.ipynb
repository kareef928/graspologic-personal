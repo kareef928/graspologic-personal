{
 "cells": [
  {
   "cell_type": "code",
   "execution_count": 9,
   "metadata": {},
   "outputs": [],
   "source": [
    "import numpy as np\n",
    "import matplotlib.pyplot as plt\n",
    "import pandas as pd\n",
    "import seaborn as sns\n",
    "from graspologic.inference import ldt_function, LatentDistributionTest\n",
    "from graspologic.embed import AdjacencySpectralEmbed\n",
    "from graspologic.simulations import sbm, rdpg\n",
    "from graspologic.utils import symmetrize\n",
    "from graspologic.plot import heatmap, pairplot"
   ]
  },
  {
   "cell_type": "code",
   "execution_count": 10,
   "metadata": {},
   "outputs": [],
   "source": [
    "n_components = 4 # the number of embedding dimensions for ASE\n",
    "P = np.array([[0.9, 0.11, 0.13, 0.2],\n",
    "              [0, 0.7, 0.1, 0.1],\n",
    "              [0, 0, 0.8, 0.1],\n",
    "              [0, 0, 0, 0.85]])\n",
    "\n",
    "P = symmetrize(P)\n",
    "n_verts_diff = []\n",
    "p_vals_function = []\n",
    "p_vals_class = []\n",
    "p_vals_diff = []\n",
    "A1 = sbm([50]*4, P)"
   ]
  },
  {
   "cell_type": "code",
   "execution_count": null,
   "metadata": {},
   "outputs": [
    {
     "name": "stdout",
     "output_type": "stream",
     "text": [
      "0.0002\n",
      "0.0002\n",
      "0.2406\n",
      "0.0002\n"
     ]
    }
   ],
   "source": [
    "for n in range(50, 201, 10):\n",
    "    for _ in range(1):\n",
    "        A2 = sbm([n]*4, P)\n",
    "        \n",
    "        np.random.seed(888)\n",
    "        ldt_class = LatentDistributionTest(n_bootstraps=5000, n_components=n_components, size_correction=True)\n",
    "        ldt_class.fit(A1, A2)\n",
    "        p_val_class = ldt_class.p_value_\n",
    "        \n",
    "        np.random.seed(888)\n",
    "        p_val_func, _, _ = ldt_function(A1, A2, n_bootstraps=5000, n_components=n_components, size_correction=True)\n",
    "\n",
    "        p_vals_function.append(p_val_func)\n",
    "        p_vals_class.append(p_val_class)\n",
    "        p_vals_diff.append(p_val_func - p_val_class)\n",
    "        n_verts_diff.append(n-50)\n",
    "        \n",
    "        print(ldt_class.p_value_)\n",
    "        \n",
    "    \n",
    "p_vals_dict = {\"p-values class\": p_vals_class, \"p-values function\": p_vals_function}\n",
    "df = pd.DataFrame(data = p_vals_dict, index = n_verts_diff)\n",
    "df.to_csv('p_values_ldt.csv')\n",
    "\n",
    "p_vals_diff_dict = {\"p_value diff\": p_vals_diff, \"n_verts diff\": n_verts_diff}\n",
    "df_diff = pd.DataFrame(data=p_vals_diff_dict)"
   ]
  },
  {
   "cell_type": "code",
   "execution_count": null,
   "metadata": {},
   "outputs": [],
   "source": [
    "fig, ax = plt.subplots(1, 1, figsize=(8, 4))\n",
    "sns.stripplot(data=df_diff,\n",
    "    x=\"n_verts diff\",\n",
    "    y=\"p_value diff\",\n",
    "    jitter = 0.5,\n",
    "    alpha = 0.5,\n",
    "    size=5,\n",
    "    palette=\"deep\",\n",
    ")\n",
    "plt.title(\"LDT class vs function\")\n",
    "ax.axhline(0, color=\"black\", linestyle=\"--\", alpha=0.5)"
   ]
  },
  {
   "cell_type": "code",
   "execution_count": null,
   "metadata": {},
   "outputs": [],
   "source": []
  }
 ],
 "metadata": {
  "kernelspec": {
   "display_name": "Python 3",
   "language": "python",
   "name": "python3"
  },
  "language_info": {
   "codemirror_mode": {
    "name": "ipython",
    "version": 3
   },
   "file_extension": ".py",
   "mimetype": "text/x-python",
   "name": "python",
   "nbconvert_exporter": "python",
   "pygments_lexer": "ipython3",
   "version": "3.8.4"
  }
 },
 "nbformat": 4,
 "nbformat_minor": 4
}
