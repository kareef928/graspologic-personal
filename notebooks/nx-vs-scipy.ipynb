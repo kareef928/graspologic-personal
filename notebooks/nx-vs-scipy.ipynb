{
 "cells": [
  {
   "cell_type": "code",
   "execution_count": 1,
   "metadata": {},
   "outputs": [],
   "source": [
    "import timeit\n",
    "import pandas as pd\n",
    "import seaborn as sns\n",
    "import graspologic\n",
    "from graspologic.simulations import er_np\n",
    "from graspologic.plot import heatmap\n",
    "from graspologic.utils import utils as gus\n",
    "import networkx as nx\n",
    "from scipy.sparse import csr_matrix, isspmatrix_csr\n",
    "from scipy.sparse.csgraph import connected_components\n",
    "\n",
    "import matplotlib.pyplot as plt\n",
    "import numpy as np"
   ]
  },
  {
   "cell_type": "markdown",
   "metadata": {},
   "source": [
    "Time it takes to do conversion<br /> \n",
    "Time it takes to do check <br />\n",
    "Start with networkx and scipy graphs (same graph)<br />\n",
    "One plot showing conversion time vs number of vertices<br />\n",
    "One plot showing check time vs num vertices<br />\n",
    "Don’t care about small graphs - do bigger graphs<br />\n",
    "Don’t need to increase by 50<br />\n",
    "N-verts scale: 100, 1000, 10000, etc (log scale)<br />\n",
    "Use ER graph with prob p=0.05, make fairly small<br />\n",
    "Use pandas dataframe"
   ]
  },
  {
   "cell_type": "markdown",
   "metadata": {},
   "source": [
    "# Plan for simulation\n",
    "\n",
    "n_verts = [100, 1000, 10000, 100000]\n",
    "\n",
    "## Part 1: Plotting times for conversions\n",
    "\n",
    "1. Create local function that converts an nx graph to scipy sparse matrix\n",
    "2. Record times it takes for function to run on nx erdos renyi graph per n_vert\n",
    "3. Create local function that converts a csr_matrix to nx graph\n",
    "4. Record times it takes for function to run on csr_matrix per n_vert\n",
    "5. Plot time vs n_verts for the 2 datasets\n",
    "\n",
    "## Part 2: Plotting time for LCC check\n",
    "1. Create local function that uses scipy connected_components method on scipy sparse matrix\n",
    "2. Record times it takes for function to run on scipy sparse matrix per n_vert\n",
    "3. Create local function that uses nx is_connected method on nx graph\n",
    "4. Record times it takes for function to run on nx erdos renyi graph per n_vert\n",
    "5. Plot time vs n_verts for the 2 datasets\n",
    "\n",
    "## Part 3: Cumulative Plot of nx vs scipy\n",
    "1. First dataset: LCC check scipy graph with scipy connected_components (no conversion)\n",
    "2. Second dataset: LCC check nx erdos renyi graph with nx is_connected method (no conversion)\n",
    "3. Third dataset: Convert nx graph to scipy sparse and then LCC check with scipy connected_components \n",
    "4. Fourth dataset: Convert scipy csr_matrix to nx graph and then LCC check with nx is_connected method\n",
    "5. Plot time vs n_verts of 4 datasets\n",
    "\n",
    "## Part 4: Function on np.ndarray\n",
    "1. Create local function that uses scipy connected_components method on np.ndarray\n",
    "2. Record times it takes for function to run on ndarray per n_vert\n",
    "3. Create local function that uses nx is_connected method on np.ndarray\n",
    "4. Record times it takes for function to run on ndarray per n_vert\n",
    "5. Plot time vs n_verts of 2 datasets"
   ]
  },
  {
   "cell_type": "markdown",
   "metadata": {},
   "source": [
    "# Simulation 1: Conversion times"
   ]
  },
  {
   "cell_type": "code",
   "execution_count": 2,
   "metadata": {},
   "outputs": [],
   "source": [
    "N = [10, 100, 1000, 10000]\n",
    "n_verts = []\n",
    "time_conv_to_nx = []\n",
    "time_conv_to_scipy = []"
   ]
  },
  {
   "cell_type": "code",
   "execution_count": 3,
   "metadata": {},
   "outputs": [],
   "source": [
    "def conv_scipy_to_nx(csr_graph):\n",
    "    start_time = timeit.default_timer()\n",
    "    \n",
    "    if isinstance(csr_graph, (np.ndarray, csr_matrix)):\n",
    "        if gus.is_symmetric(csr_graph):\n",
    "            g_object = nx.Graph()\n",
    "        else:\n",
    "            g_object = nx.DiGraph()\n",
    "        nx_graph = nx.to_networkx_graph(csr_graph, create_using=g_object)\n",
    "    \n",
    "    elapsed_orig = timeit.default_timer() - start_time\n",
    "    return elapsed_orig\n",
    "\n",
    "    time_conv_to_nx.append(elapsed_orig)"
   ]
  },
  {
   "cell_type": "code",
   "execution_count": 4,
   "metadata": {},
   "outputs": [],
   "source": [
    "def conv_nx_to_scipy(nx_graph):\n",
    "    start_time = timeit.default_timer()\n",
    "    \n",
    "    if not (isspmatrix_csr(nx_graph) or isinstance(nx_graph, np.ndarray)):\n",
    "        scipy_graph = nx.to_scipy_sparse_matrix(nx_graph)\n",
    "    if gus.is_symmetric(scipy_graph):\n",
    "        directed = True\n",
    "    else:\n",
    "        directed = False\n",
    "    \n",
    "    elapsed_scipy = timeit.default_timer() - start_time\n",
    "    return elapsed_scipy\n",
    "\n",
    "    time_conv_to_scipy.append(elapsed_scipy)"
   ]
  },
  {
   "cell_type": "code",
   "execution_count": 5,
   "metadata": {},
   "outputs": [
    {
     "name": "stdout",
     "output_type": "stream",
     "text": [
      "[0.78238116 0.71631085 0.30263582 0.26659936 0.59812077 0.31360463\n",
      " 0.70660638 0.29872115 0.9181926  0.33356689]\n",
      "[[0 0 0 0 0]\n",
      " [0 0 0 0 0]]\n",
      "\n"
     ]
    }
   ],
   "source": [
    "#test for generating csr_matrix with probability 0.05\n",
    "A = np.random.rand(10)\n",
    "print(A)\n",
    "#0.05 chance that element is 1, else 0\n",
    "A = [abs((int)(x+0.95)-1) for x in A]\n",
    "A = np.array(A).reshape(2, 5)\n",
    "print(A)\n",
    "A = csr_matrix(A)\n",
    "print(A)"
   ]
  },
  {
   "cell_type": "code",
   "execution_count": 6,
   "metadata": {},
   "outputs": [],
   "source": [
    "for n in N:\n",
    "    for _ in range(30):\n",
    "        n_verts.append(n)\n",
    "        \n",
    "        A = np.random.rand(n * n)\n",
    "        A = [abs((int)(x+0.95)-1) for x in A]\n",
    "        A = np.array(A).reshape(n, n)\n",
    "        A = csr_matrix(A)\n",
    "        elapsed_nx = conv_scipy_to_nx(A)\n",
    "        time_conv_to_nx.append(elapsed_nx)\n",
    "        \n",
    "        B = nx.erdos_renyi_graph(n, 0.05)\n",
    "        elapsed_scipy = conv_nx_to_scipy(B)\n",
    "        time_conv_to_scipy.append(elapsed_scipy)"
   ]
  },
  {
   "cell_type": "code",
   "execution_count": 7,
   "metadata": {},
   "outputs": [],
   "source": [
    "time_orig_conv_dict = {\"time_conv_orig\": time_conv_to_nx, \"n_verts\": n_verts}\n",
    "df_conv_orig = pd.DataFrame(data = time_orig_conv_dict)"
   ]
  },
  {
   "cell_type": "code",
   "execution_count": 8,
   "metadata": {},
   "outputs": [],
   "source": [
    "time_scipy_conv_dict = {\"time_conv_scipy\": time_conv_to_nx, \"n_verts\": n_verts}\n",
    "df_conv_scipy = pd.DataFrame(data = time_scipy_conv_dict)"
   ]
  },
  {
   "cell_type": "code",
   "execution_count": 9,
   "metadata": {},
   "outputs": [
    {
     "data": {
      "text/plain": [
       "Text(0.5, 1.0, 'Times for conversion vs n_verts')"
      ]
     },
     "execution_count": 9,
     "metadata": {},
     "output_type": "execute_result"
    },
    {
     "data": {
      "image/png": "[encoded data removed]",
      "text/plain": [
       "<Figure size 432x288 with 1 Axes>"
      ]
     },
     "metadata": {
      "needs_background": "light"
     },
     "output_type": "display_data"
    }
   ],
   "source": [
    "ax1 = sns.stripplot(data=df_conv_orig,\n",
    "    x=\"n_verts\",\n",
    "    y=\"time_conv_orig\",\n",
    "    jitter = 0.5,\n",
    "    alpha = 0.5,\n",
    "    size=5,\n",
    "    color='blue'\n",
    ")\n",
    "\n",
    "ax2 = sns.stripplot(data=df_conv_scipy,\n",
    "    x=\"n_verts\",\n",
    "    y=\"time_conv_scipy\",\n",
    "    jitter = 0.5,\n",
    "    alpha = 0.5,\n",
    "    size=5,\n",
    "    color= 'green'\n",
    ")\n",
    "ax1.set_yscale('log')\n",
    "plt.xticks(rotation='vertical')\n",
    "plt.xlabel('n_verts')\n",
    "plt.ylabel('time for conversion')\n",
    "plt.title(\"Times for conversion vs n_verts\")"
   ]
  },
  {
   "cell_type": "markdown",
   "metadata": {},
   "source": [
    "# Simulation 2: LCC Check Times"
   ]
  },
  {
   "cell_type": "code",
   "execution_count": 10,
   "metadata": {},
   "outputs": [],
   "source": [
    "def orig_LCC_check(nx_graph):\n",
    "    if type(nx_graph) in [nx.Graph, nx.MultiGraph]:\n",
    "        return nx.is_connected(nx_graph)\n",
    "    elif type(graph) in [nx.DiGraph, nx.MultiDiGraph]:\n",
    "        return nx.is_weakly_connected(nx_graph)"
   ]
  },
  {
   "cell_type": "code",
   "execution_count": 11,
   "metadata": {},
   "outputs": [],
   "source": [
    "def scipy_LCC_check(scipy_graph):\n",
    "    \n",
    "    n_components, labels = connected_components(\n",
    "        csgraph=scipy_graph, directed=False, connection=\"weak\", return_labels=True\n",
    "    )\n",
    "\n",
    "    return n_components == 1"
   ]
  },
  {
   "cell_type": "code",
   "execution_count": 12,
   "metadata": {},
   "outputs": [],
   "source": [
    "n_verts = []\n",
    "time_orig_LCC_check = []\n",
    "time_scipy_LCC_check = []"
   ]
  },
  {
   "cell_type": "code",
   "execution_count": 13,
   "metadata": {},
   "outputs": [],
   "source": [
    "for n in N:\n",
    "    for _ in range(30):\n",
    "        n_verts.append(n)\n",
    "        \n",
    "        B = nx.erdos_renyi_graph(n, 0.05)\n",
    "        start_time = timeit.default_timer()\n",
    "        val1 = orig_LCC_check(B)\n",
    "        elapsed_orig = timeit.default_timer() - start_time\n",
    "        time_orig_LCC_check.append(elapsed_orig)\n",
    "        \n",
    "        A = np.random.rand(n * n)\n",
    "        A = [abs((int)(x+0.95)-1) for x in A]\n",
    "        A = np.array(A).reshape(n, n)\n",
    "        A = csr_matrix(A)\n",
    "        start_time = timeit.default_timer()\n",
    "        val2 = scipy_LCC_check(A)\n",
    "        elapsed_scipy = timeit.default_timer() - start_time\n",
    "        time_scipy_LCC_check.append(elapsed_scipy)"
   ]
  },
  {
   "cell_type": "code",
   "execution_count": 14,
   "metadata": {},
   "outputs": [],
   "source": [
    "time_orig_LCC_dict = {\"time_orig_check\": time_orig_LCC_check, \"n_verts\": n_verts}\n",
    "df_check_orig = pd.DataFrame(data = time_orig_LCC_dict)"
   ]
  },
  {
   "cell_type": "code",
   "execution_count": 15,
   "metadata": {},
   "outputs": [],
   "source": [
    "time_scipy_LCC_dict = {\"time_scipy_check\": time_scipy_LCC_check, \"n_verts\": n_verts}\n",
    "df_check_scipy = pd.DataFrame(data = time_scipy_LCC_dict)"
   ]
  },
  {
   "cell_type": "code",
   "execution_count": 16,
   "metadata": {},
   "outputs": [
    {
     "data": {
      "text/plain": [
       "Text(0.5, 1.0, 'Times for LCC check vs n_verts')"
      ]
     },
     "execution_count": 16,
     "metadata": {},
     "output_type": "execute_result"
    },
    {
     "data": {
      "image/png": "[encoded data removed]",
      "text/plain": [
       "<Figure size 432x288 with 1 Axes>"
      ]
     },
     "metadata": {
      "needs_background": "light"
     },
     "output_type": "display_data"
    }
   ],
   "source": [
    "ax1 = sns.stripplot(data=df_check_orig,\n",
    "    x=\"n_verts\",\n",
    "    y=\"time_orig_check\",\n",
    "    jitter = 0.5,\n",
    "    alpha = 0.5,\n",
    "    size=5,\n",
    "    color='purple'\n",
    ")\n",
    "\n",
    "ax2 = sns.stripplot(data=df_check_scipy,\n",
    "    x=\"n_verts\",\n",
    "    y=\"time_scipy_check\",\n",
    "    jitter = 0.5,\n",
    "    alpha = 0.5,\n",
    "    size=5,\n",
    "    color='black'\n",
    ")\n",
    "ax1.set_yscale('log')\n",
    "plt.xticks(rotation='vertical')\n",
    "plt.xlabel('n_verts')\n",
    "plt.ylabel('time for checking')\n",
    "plt.title(\"Times for LCC check vs n_verts\")"
   ]
  },
  {
   "cell_type": "markdown",
   "metadata": {},
   "source": [
    "# Simulation 3: Different settings of LCC"
   ]
  },
  {
   "cell_type": "code",
   "execution_count": 17,
   "metadata": {},
   "outputs": [],
   "source": [
    "n_verts = []\n",
    "\n",
    "times_nx_nx = []\n",
    "times_scipy_nx = []\n",
    "\n",
    "times_nx_scipy = []\n",
    "times_scipy_scipy = []"
   ]
  },
  {
   "cell_type": "code",
   "execution_count": 18,
   "metadata": {},
   "outputs": [],
   "source": [
    "for n in N:\n",
    "    for _ in range(30):\n",
    "        \n",
    "        n_verts.append(n)\n",
    "        \n",
    "        A = np.random.rand(n * n)\n",
    "        A = [abs((int)(x+0.95)-1) for x in A]\n",
    "        A = np.array(A).reshape(n, n)\n",
    "        A = csr_matrix(A)\n",
    "        B = nx.erdos_renyi_graph(n, 0.05)\n",
    "        \n",
    "        #nx graph, is_fully_connected\n",
    "        start_time = timeit.default_timer()\n",
    "        C = gus.is_fully_connected(B)\n",
    "        elapsed_nx_nx = timeit.default_timer() - start_time\n",
    "        times_nx_nx.append(elapsed_nx_nx)\n",
    "        \n",
    "        #scipy graph, is fully_connected\n",
    "        start_time = timeit.default_timer()\n",
    "        D = gus.is_fully_connected(A)\n",
    "        elapsed_scipy_nx = timeit.default_timer() - start_time\n",
    "        times_scipy_nx.append(elapsed_scipy_nx) \n",
    "        \n",
    "        #nx graph, scipy_is_fully_connected\n",
    "        start_time = timeit.default_timer()\n",
    "        E = gus.scipy_is_fully_connected(B)\n",
    "        elapsed_nx_scipy = timeit.default_timer() - start_time\n",
    "        times_nx_scipy.append(elapsed_nx_scipy)\n",
    "        \n",
    "        #scipy graph, scipy_is_fully_connected\n",
    "        start_time = timeit.default_timer()\n",
    "        F = gus.scipy_is_fully_connected(A)\n",
    "        elapsed_scipy_scipy = timeit.default_timer() - start_time\n",
    "        times_scipy_scipy.append(elapsed_scipy_scipy)"
   ]
  },
  {
   "cell_type": "code",
   "execution_count": 19,
   "metadata": {},
   "outputs": [],
   "source": [
    "nx_nx_dict = {\"nx_nx\": times_nx_nx, \"n_verts\": n_verts}\n",
    "df_nx_nx = pd.DataFrame(data = nx_nx_dict)"
   ]
  },
  {
   "cell_type": "code",
   "execution_count": 20,
   "metadata": {},
   "outputs": [],
   "source": [
    "scipy_nx_dict = {\"scipy_nx\": times_scipy_nx, \"n_verts\": n_verts}\n",
    "df_scipy_nx = pd.DataFrame(data = scipy_nx_dict)"
   ]
  },
  {
   "cell_type": "code",
   "execution_count": 21,
   "metadata": {},
   "outputs": [],
   "source": [
    "nx_scipy_dict = {\"nx_scipy\": times_nx_scipy, \"n_verts\": n_verts}\n",
    "df_nx_scipy = pd.DataFrame(data = nx_scipy_dict)"
   ]
  },
  {
   "cell_type": "code",
   "execution_count": 22,
   "metadata": {},
   "outputs": [],
   "source": [
    "scipy_scipy_dict = {\"scipy_scipy\": times_scipy_scipy, \"n_verts\": n_verts}\n",
    "df_scipy_scipy = pd.DataFrame(data = scipy_scipy_dict)"
   ]
  },
  {
   "cell_type": "code",
   "execution_count": 23,
   "metadata": {},
   "outputs": [
    {
     "data": {
      "text/plain": [
       "Text(0.5, 1.0, 'Times for original vs new is_fully_connected on nx/scipy graphs')"
      ]
     },
     "execution_count": 23,
     "metadata": {},
     "output_type": "execute_result"
    },
    {
     "data": {
      "image/png": "[encoded data removed]",
      "text/plain": [
       "<Figure size 432x288 with 1 Axes>"
      ]
     },
     "metadata": {
      "needs_background": "light"
     },
     "output_type": "display_data"
    }
   ],
   "source": [
    "ax1 = sns.stripplot(data=df_nx_nx,\n",
    "    x=\"n_verts\",\n",
    "    y=\"nx_nx\",\n",
    "    jitter = 0.5,\n",
    "    alpha = 0.5,\n",
    "    size=5,\n",
    "    color='green'\n",
    ")\n",
    "\n",
    "ax2 = sns.stripplot(data=df_scipy_nx,\n",
    "    x=\"n_verts\",\n",
    "    y=\"scipy_nx\",\n",
    "    jitter = 0.5,\n",
    "    alpha = 0.5,\n",
    "    size=5,\n",
    "    color='blue'\n",
    ")\n",
    "\n",
    "ax3 = sns.stripplot(data=df_nx_scipy,\n",
    "    x=\"n_verts\",\n",
    "    y=\"nx_scipy\",\n",
    "    jitter = 0.5,\n",
    "    alpha = 0.5,\n",
    "    size=5,\n",
    "    color='yellow'\n",
    ")\n",
    "\n",
    "ax4 = sns.stripplot(data=df_scipy_scipy,\n",
    "    x=\"n_verts\",\n",
    "    y=\"scipy_scipy\",\n",
    "    jitter = 0.5,\n",
    "    alpha = 0.5,\n",
    "    size=5,\n",
    "    color='red'\n",
    ")\n",
    "ax1.set_yscale('log')\n",
    "plt.xticks(rotation='vertical')\n",
    "plt.ylabel('time')\n",
    "plt.title(\"Times for original vs new is_fully_connected on nx/scipy graphs\")"
   ]
  },
  {
   "cell_type": "markdown",
   "metadata": {},
   "source": [
    "# Simulation 4: np.ndarray comparison"
   ]
  },
  {
   "cell_type": "code",
   "execution_count": 24,
   "metadata": {},
   "outputs": [],
   "source": [
    "n_verts = []\n",
    "\n",
    "times_nx = []\n",
    "times_scipy = []"
   ]
  },
  {
   "cell_type": "code",
   "execution_count": 25,
   "metadata": {},
   "outputs": [],
   "source": [
    "for n in N:\n",
    "    for _ in range(30):\n",
    "        \n",
    "        n_verts.append(n)\n",
    "        \n",
    "        A = np.random.rand(n * n)\n",
    "        A = [abs((int)(x+0.95)-1) for x in A]\n",
    "        A = np.array(A).reshape(n, n)\n",
    "        \n",
    "        start_time = timeit.default_timer()\n",
    "        C = gus.is_fully_connected(A)\n",
    "        elapsed_nx = timeit.default_timer() - start_time\n",
    "        times_nx.append(elapsed_nx)\n",
    "        \n",
    "        start_time = timeit.default_timer()\n",
    "        E = gus.scipy_is_fully_connected(A)\n",
    "        elapsed_scipy = timeit.default_timer() - start_time\n",
    "        times_scipy.append(elapsed_scipy)"
   ]
  },
  {
   "cell_type": "code",
   "execution_count": 26,
   "metadata": {},
   "outputs": [],
   "source": [
    "nx_dict = {\"nx\": times_nx, \"n_verts\": n_verts}\n",
    "df_nx = pd.DataFrame(data = nx_dict)"
   ]
  },
  {
   "cell_type": "code",
   "execution_count": 27,
   "metadata": {},
   "outputs": [],
   "source": [
    "scipy_dict = {\"scipy\": times_scipy, \"n_verts\": n_verts}\n",
    "df_scipy = pd.DataFrame(data = scipy_dict)"
   ]
  },
  {
   "cell_type": "code",
   "execution_count": 28,
   "metadata": {},
   "outputs": [
    {
     "data": {
      "text/plain": [
       "Text(0.5, 1.0, 'Times for original vs new is_fully_connected on np.ndarray')"
      ]
     },
     "execution_count": 28,
     "metadata": {},
     "output_type": "execute_result"
    },
    {
     "data": {
      "image/png": "[encoded data removed]",
      "text/plain": [
       "<Figure size 432x288 with 1 Axes>"
      ]
     },
     "metadata": {
      "needs_background": "light"
     },
     "output_type": "display_data"
    }
   ],
   "source": [
    "ax1 = sns.stripplot(data=df_nx,\n",
    "    x=\"n_verts\",\n",
    "    y=\"nx\",\n",
    "    jitter = 0.5,\n",
    "    alpha = 0.5,\n",
    "    size=5,\n",
    "    color='green'\n",
    ")\n",
    "\n",
    "ax2 = sns.stripplot(data=df_scipy,\n",
    "    x=\"n_verts\",\n",
    "    y=\"scipy\",\n",
    "    jitter = 0.5,\n",
    "    alpha = 0.5,\n",
    "    size=5,\n",
    "    color='blue'\n",
    ")\n",
    "\n",
    "ax1.set_yscale('log')\n",
    "plt.xticks(rotation='vertical')\n",
    "plt.ylabel('time')\n",
    "plt.title(\"Times for original vs new is_fully_connected on np.ndarray\")"
   ]
  },
  {
   "cell_type": "code",
   "execution_count": null,
   "metadata": {},
   "outputs": [],
   "source": []
  }
 ],
 "metadata": {
  "kernelspec": {
   "display_name": "Python 3",
   "language": "python",
   "name": "python3"
  },
  "language_info": {
   "codemirror_mode": {
    "name": "ipython",
    "version": 3
   },
   "file_extension": ".py",
   "mimetype": "text/x-python",
   "name": "python",
   "nbconvert_exporter": "python",
   "pygments_lexer": "ipython3",
   "version": "3.8.4"
  }
 },
 "nbformat": 4,
 "nbformat_minor": 4
}
