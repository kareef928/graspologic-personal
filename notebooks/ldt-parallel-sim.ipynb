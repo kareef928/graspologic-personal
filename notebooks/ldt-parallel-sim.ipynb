{
 "cells": [
  {
   "cell_type": "code",
   "execution_count": null,
   "metadata": {},
   "outputs": [],
   "source": [
    "import timeit\n",
    "import pandas as pd\n",
    "import seaborn as sns\n",
    "import graspologic\n",
    "from graspologic.simulations import er_np\n",
    "from graspologic.plot import heatmap\n",
    "from graspologic.utils import utils as gus\n",
    "from graspologic.inference import latent_distribution_test\n",
    "import networkx as nx\n",
    "\n",
    "import matplotlib.pyplot as plt\n",
    "import numpy as np"
   ]
  },
  {
   "cell_type": "markdown",
   "metadata": {},
   "source": [
    "## Sim 1 - time vs n_verts for a single iteration of LDT\n",
    "1. n_verts = [10, 100, 500, 1000]\n",
    "2. Generate two ER graphs - 1st with n_vert vertices and second with 2*n_vert vertices, and p=0.5 for both\n",
    "3. Obtain times for running LDT unparallelized (workers=1) and parallelized (workers=-1) on the two graphs\n",
    "4. Repeat steps 2-3 for 10 trials per n_vert in n_verts\n",
    "5. Plot stripplots of times vs n_verts (of graph 1) for LDT unparallelized and parallelized"
   ]
  },
  {
   "cell_type": "code",
   "execution_count": null,
   "metadata": {},
   "outputs": [],
   "source": [
    "n_verts = [10, 100, 500, 1000]\n",
    "total_verts = []\n",
    "time_orig = []\n",
    "time_par = []"
   ]
  },
  {
   "cell_type": "code",
   "execution_count": null,
   "metadata": {},
   "outputs": [],
   "source": [
    "for n in n_verts:\n",
    "    for _ in range(10):\n",
    "        \n",
    "        total_verts.append(n)\n",
    "        A1 = er_np(n, 0.5)\n",
    "        A2 = er_np(2*n, 0.5)\n",
    "           \n",
    "        #get time for original ldt\n",
    "        start_time = timeit.default_timer()\n",
    "        ldt_orig = latent_distribution_test(A1, A2, workers=1)\n",
    "        elapsed_orig = timeit.default_timer() - start_time\n",
    "        time_orig.append(elapsed_orig)\n",
    "        \n",
    "        #get time for parallelized ldt\n",
    "        start_time = timeit.default_timer()\n",
    "        ldt_par = latent_distribution_test(A1, A2, workers=-1)\n",
    "        elapsed_par = timeit.default_timer() - start_time\n",
    "        time_par.append(elapsed_par)\n",
    "        \n",
    "        print(n)"
   ]
  },
  {
   "cell_type": "code",
   "execution_count": null,
   "metadata": {},
   "outputs": [],
   "source": [
    "time_orig_dict = {\"time_orig\": time_orig, \"n_verts\": total_verts}\n",
    "df_orig = pd.DataFrame(data = time_orig_dict)"
   ]
  },
  {
   "cell_type": "code",
   "execution_count": null,
   "metadata": {},
   "outputs": [],
   "source": [
    "time_par_dict = {\"time_par\": time_par, \"n_verts\": total_verts}\n",
    "df_par = pd.DataFrame(data = time_par_dict)"
   ]
  },
  {
   "cell_type": "code",
   "execution_count": null,
   "metadata": {},
   "outputs": [],
   "source": [
    "ax1 = sns.stripplot(data=df_orig,\n",
    "    x=\"n_verts\",\n",
    "    y=\"time_orig\",\n",
    "    jitter = 0.5,\n",
    "    alpha = 0.5,\n",
    "    size=5,\n",
    "    color='green'\n",
    ")\n",
    "\n",
    "ax2 = sns.stripplot(data=df_par,\n",
    "    x=\"n_verts\",\n",
    "    y=\"time_par\",\n",
    "    jitter = 0.5,\n",
    "    alpha = 0.5,\n",
    "    size=5,\n",
    "    color='blue'\n",
    ")\n",
    "ax1.set_yscale('log')\n",
    "plt.xticks(rotation='vertical')\n",
    "plt.ylabel('time')\n",
    "plt.title(\"Times vs n_verts\")\n",
    "\n",
    "plt.savefig('time_vs_n_verts.png')"
   ]
  },
  {
   "cell_type": "markdown",
   "metadata": {},
   "source": [
    "## Sim 2 - single vs multiple iterations of LDT (?)\n",
    "1. n_iters = [1, 5, 25, 50]\n",
    "2. Generate two ER graphs - 1st with 100 vertices and second with 200 vertices, and p=0.5 for both\n",
    "3. Obtain times for running LDT unparallelized (workers=1) and parallelized (workers=-1) on the two graphs for n_iters iterations\n",
    "4. Repeat steps 2-3 for 15 trials per n_iter in n_iters\n",
    "4. Plot stripplots of times vs n_iters for LDT unparallelized and parallelized"
   ]
  },
  {
   "cell_type": "code",
   "execution_count": null,
   "metadata": {},
   "outputs": [],
   "source": [
    "n_iters = [1, 5, 25, 50]\n",
    "total_iters = []\n",
    "time_orig = []\n",
    "time_par = []"
   ]
  },
  {
   "cell_type": "code",
   "execution_count": null,
   "metadata": {},
   "outputs": [],
   "source": [
    "B1 = er_np(50, 0.5)\n",
    "B2 = er_np(75, 0.5)\n",
    "\n",
    "for n in n_iters:\n",
    "    for _ in range(15):\n",
    "    \n",
    "        total_iters.append(n)\n",
    "\n",
    "        #get time for original ldt\n",
    "        ind_orig = 0\n",
    "        start_time = timeit.default_timer()\n",
    "        while (ind_orig<n):\n",
    "            ldt_orig = latent_distribution_test(B1, B2, workers=1)\n",
    "            ind_orig += 1\n",
    "        elapsed_orig = timeit.default_timer() - start_time\n",
    "        time_orig.append(elapsed_orig)\n",
    "\n",
    "        #get time for parallelized ldt\n",
    "        ind_par = 0\n",
    "        start_time = timeit.default_timer()\n",
    "        while(ind_par<n):\n",
    "            ldt_par = latent_distribution_test(B1, B2, workers=-1)\n",
    "            ind_par += 1\n",
    "        elapsed_par = timeit.default_timer() - start_time\n",
    "        time_par.append(elapsed_par)\n",
    "        \n",
    "        print(n)"
   ]
  },
  {
   "cell_type": "code",
   "execution_count": null,
   "metadata": {},
   "outputs": [],
   "source": [
    "time_orig_dict = {\"time_orig\": time_orig, \"n_iters\": total_iters}\n",
    "df_orig = pd.DataFrame(data = time_orig_dict)"
   ]
  },
  {
   "cell_type": "code",
   "execution_count": null,
   "metadata": {},
   "outputs": [],
   "source": [
    "time_par_dict = {\"time_par\": time_par, \"n_iters\": total_iters}\n",
    "df_par = pd.DataFrame(data = time_par_dict)"
   ]
  },
  {
   "cell_type": "code",
   "execution_count": null,
   "metadata": {},
   "outputs": [],
   "source": [
    "ax1 = sns.stripplot(data=df_orig,\n",
    "    x=\"n_iters\",\n",
    "    y=\"time_orig\",\n",
    "    jitter = 0.5,\n",
    "    alpha = 0.5,\n",
    "    size=5,\n",
    "    color='green'\n",
    ")\n",
    "\n",
    "ax2 = sns.stripplot(data=df_par,\n",
    "    x=\"n_iters\",\n",
    "    y=\"time_par\",\n",
    "    jitter = 0.5,\n",
    "    alpha = 0.5,\n",
    "    size=5,\n",
    "    color='blue'\n",
    ")\n",
    "ax1.set_yscale('log')\n",
    "plt.xticks(rotation='vertical')\n",
    "plt.ylabel('time')\n",
    "plt.title(\"Times vs n_iters\")\n",
    "\n",
    "plt.savefig('time_vs_n_iters.png')"
   ]
  },
  {
   "cell_type": "code",
   "execution_count": null,
   "metadata": {},
   "outputs": [],
   "source": []
  }
 ],
 "metadata": {
  "kernelspec": {
   "display_name": "Python 3",
   "language": "python",
   "name": "python3"
  },
  "language_info": {
   "codemirror_mode": {
    "name": "ipython",
    "version": 3
   },
   "file_extension": ".py",
   "mimetype": "text/x-python",
   "name": "python",
   "nbconvert_exporter": "python",
   "pygments_lexer": "ipython3",
   "version": "3.8.4"
  }
 },
 "nbformat": 4,
 "nbformat_minor": 4
}
