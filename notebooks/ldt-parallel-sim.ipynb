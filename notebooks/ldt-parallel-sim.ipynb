{
 "cells": [
  {
   "cell_type": "code",
   "execution_count": 1,
   "metadata": {},
   "outputs": [],
   "source": [
    "import timeit\n",
    "import pandas as pd\n",
    "import seaborn as sns\n",
    "import graspologic\n",
    "from graspologic.simulations import er_np\n",
    "from graspologic.plot import heatmap\n",
    "from graspologic.utils import utils as gus\n",
    "from graspologic.inference import latent_distribution_test\n",
    "import networkx as nx\n",
    "\n",
    "import matplotlib.pyplot as plt\n",
    "import numpy as np"
   ]
  },
  {
   "cell_type": "markdown",
   "metadata": {},
   "source": [
    "## Sim 1 - time vs n_verts for a single iteration of LDT\n",
    "1. n_verts = [10, 100, 500, 1000]\n",
    "2. Generate two ER graphs - 1st with n_vert vertices and second with 2*n_vert vertices, and p=0.5 for both\n",
    "3. Obtain times for running LDT unparallelized (workers=1) and parallelized (workers=-1) on the two graphs\n",
    "4. Repeat steps 2-3 for 10 trials per n_vert in n_verts\n",
    "5. Plot stripplots of times vs n_verts (of graph 1) for LDT unparallelized and parallelized"
   ]
  },
  {
   "cell_type": "code",
   "execution_count": 2,
   "metadata": {},
   "outputs": [],
   "source": [
    "n_verts = [10, 100, 500, 1000]\n",
    "total_verts = []\n",
    "time_orig = []\n",
    "time_par = []\n",
    "p_vals_orig = []\n",
    "p_vals_new = []\n",
    "p_vals_diff = []"
   ]
  },
  {
   "cell_type": "code",
   "execution_count": 3,
   "metadata": {},
   "outputs": [
    {
     "name": "stderr",
     "output_type": "stream",
     "text": [
      "/Library/Frameworks/Python.framework/Versions/3.8/lib/python3.8/site-packages/scipy-1.5.2-py3.8-macosx-10.9-x86_64.egg/scipy/stats/_multivariate.py:664: RuntimeWarning: covariance is not positive-semidefinite.\n",
      "  out = random_state.multivariate_normal(mean, cov, size)\n",
      "/Library/Frameworks/Python.framework/Versions/3.8/lib/python3.8/site-packages/hyppo/_utils.py:67: RuntimeWarning: The number of replications is low (under 1000), and p-value calculations may be unreliable. Use the p-value result, with caution!\n",
      "  warnings.warn(msg, RuntimeWarning)\n",
      "/Library/Frameworks/Python.framework/Versions/3.8/lib/python3.8/site-packages/scipy-1.5.2-py3.8-macosx-10.9-x86_64.egg/scipy/stats/_multivariate.py:664: RuntimeWarning: covariance is not positive-semidefinite.\n",
      "  out = random_state.multivariate_normal(mean, cov, size)\n",
      "/Library/Frameworks/Python.framework/Versions/3.8/lib/python3.8/site-packages/hyppo/_utils.py:67: RuntimeWarning: The number of replications is low (under 1000), and p-value calculations may be unreliable. Use the p-value result, with caution!\n",
      "  warnings.warn(msg, RuntimeWarning)\n"
     ]
    },
    {
     "name": "stdout",
     "output_type": "stream",
     "text": [
      "10\n",
      "10\n"
     ]
    },
    {
     "name": "stderr",
     "output_type": "stream",
     "text": [
      "/Library/Frameworks/Python.framework/Versions/3.8/lib/python3.8/site-packages/scipy-1.5.2-py3.8-macosx-10.9-x86_64.egg/scipy/stats/_multivariate.py:664: RuntimeWarning: covariance is not positive-semidefinite.\n",
      "  out = random_state.multivariate_normal(mean, cov, size)\n",
      "/Library/Frameworks/Python.framework/Versions/3.8/lib/python3.8/site-packages/hyppo/_utils.py:67: RuntimeWarning: The number of replications is low (under 1000), and p-value calculations may be unreliable. Use the p-value result, with caution!\n",
      "  warnings.warn(msg, RuntimeWarning)\n",
      "/Library/Frameworks/Python.framework/Versions/3.8/lib/python3.8/site-packages/scipy-1.5.2-py3.8-macosx-10.9-x86_64.egg/scipy/stats/_multivariate.py:664: RuntimeWarning: covariance is not positive-semidefinite.\n",
      "  out = random_state.multivariate_normal(mean, cov, size)\n",
      "/Library/Frameworks/Python.framework/Versions/3.8/lib/python3.8/site-packages/hyppo/_utils.py:67: RuntimeWarning: The number of replications is low (under 1000), and p-value calculations may be unreliable. Use the p-value result, with caution!\n",
      "  warnings.warn(msg, RuntimeWarning)\n",
      "/Library/Frameworks/Python.framework/Versions/3.8/lib/python3.8/site-packages/scipy-1.5.2-py3.8-macosx-10.9-x86_64.egg/scipy/stats/_multivariate.py:664: RuntimeWarning: covariance is not positive-semidefinite.\n",
      "  out = random_state.multivariate_normal(mean, cov, size)\n",
      "/Library/Frameworks/Python.framework/Versions/3.8/lib/python3.8/site-packages/hyppo/_utils.py:67: RuntimeWarning: The number of replications is low (under 1000), and p-value calculations may be unreliable. Use the p-value result, with caution!\n",
      "  warnings.warn(msg, RuntimeWarning)\n",
      "/Library/Frameworks/Python.framework/Versions/3.8/lib/python3.8/site-packages/scipy-1.5.2-py3.8-macosx-10.9-x86_64.egg/scipy/stats/_multivariate.py:664: RuntimeWarning: covariance is not positive-semidefinite.\n",
      "  out = random_state.multivariate_normal(mean, cov, size)\n",
      "/Library/Frameworks/Python.framework/Versions/3.8/lib/python3.8/site-packages/hyppo/_utils.py:67: RuntimeWarning: The number of replications is low (under 1000), and p-value calculations may be unreliable. Use the p-value result, with caution!\n",
      "  warnings.warn(msg, RuntimeWarning)\n",
      "/Library/Frameworks/Python.framework/Versions/3.8/lib/python3.8/site-packages/scipy-1.5.2-py3.8-macosx-10.9-x86_64.egg/scipy/stats/_multivariate.py:664: RuntimeWarning: covariance is not positive-semidefinite.\n",
      "  out = random_state.multivariate_normal(mean, cov, size)\n",
      "/Library/Frameworks/Python.framework/Versions/3.8/lib/python3.8/site-packages/hyppo/_utils.py:67: RuntimeWarning: The number of replications is low (under 1000), and p-value calculations may be unreliable. Use the p-value result, with caution!\n",
      "  warnings.warn(msg, RuntimeWarning)\n",
      "/Library/Frameworks/Python.framework/Versions/3.8/lib/python3.8/site-packages/scipy-1.5.2-py3.8-macosx-10.9-x86_64.egg/scipy/stats/_multivariate.py:664: RuntimeWarning: covariance is not positive-semidefinite.\n",
      "  out = random_state.multivariate_normal(mean, cov, size)\n",
      "/Library/Frameworks/Python.framework/Versions/3.8/lib/python3.8/site-packages/hyppo/_utils.py:67: RuntimeWarning: The number of replications is low (under 1000), and p-value calculations may be unreliable. Use the p-value result, with caution!\n",
      "  warnings.warn(msg, RuntimeWarning)\n"
     ]
    },
    {
     "name": "stdout",
     "output_type": "stream",
     "text": [
      "10\n",
      "10\n"
     ]
    },
    {
     "name": "stderr",
     "output_type": "stream",
     "text": [
      "/Library/Frameworks/Python.framework/Versions/3.8/lib/python3.8/site-packages/scipy-1.5.2-py3.8-macosx-10.9-x86_64.egg/scipy/stats/_multivariate.py:664: RuntimeWarning: covariance is not positive-semidefinite.\n",
      "  out = random_state.multivariate_normal(mean, cov, size)\n",
      "/Library/Frameworks/Python.framework/Versions/3.8/lib/python3.8/site-packages/hyppo/_utils.py:67: RuntimeWarning: The number of replications is low (under 1000), and p-value calculations may be unreliable. Use the p-value result, with caution!\n",
      "  warnings.warn(msg, RuntimeWarning)\n",
      "/Library/Frameworks/Python.framework/Versions/3.8/lib/python3.8/site-packages/scipy-1.5.2-py3.8-macosx-10.9-x86_64.egg/scipy/stats/_multivariate.py:664: RuntimeWarning: covariance is not positive-semidefinite.\n",
      "  out = random_state.multivariate_normal(mean, cov, size)\n",
      "/Library/Frameworks/Python.framework/Versions/3.8/lib/python3.8/site-packages/hyppo/_utils.py:67: RuntimeWarning: The number of replications is low (under 1000), and p-value calculations may be unreliable. Use the p-value result, with caution!\n",
      "  warnings.warn(msg, RuntimeWarning)\n",
      "/Library/Frameworks/Python.framework/Versions/3.8/lib/python3.8/site-packages/scipy-1.5.2-py3.8-macosx-10.9-x86_64.egg/scipy/stats/_multivariate.py:664: RuntimeWarning: covariance is not positive-semidefinite.\n",
      "  out = random_state.multivariate_normal(mean, cov, size)\n",
      "/Library/Frameworks/Python.framework/Versions/3.8/lib/python3.8/site-packages/hyppo/_utils.py:67: RuntimeWarning: The number of replications is low (under 1000), and p-value calculations may be unreliable. Use the p-value result, with caution!\n",
      "  warnings.warn(msg, RuntimeWarning)\n"
     ]
    },
    {
     "name": "stdout",
     "output_type": "stream",
     "text": [
      "10\n"
     ]
    },
    {
     "name": "stderr",
     "output_type": "stream",
     "text": [
      "/Library/Frameworks/Python.framework/Versions/3.8/lib/python3.8/site-packages/scipy-1.5.2-py3.8-macosx-10.9-x86_64.egg/scipy/stats/_multivariate.py:664: RuntimeWarning: covariance is not positive-semidefinite.\n",
      "  out = random_state.multivariate_normal(mean, cov, size)\n",
      "/Library/Frameworks/Python.framework/Versions/3.8/lib/python3.8/site-packages/hyppo/_utils.py:67: RuntimeWarning: The number of replications is low (under 1000), and p-value calculations may be unreliable. Use the p-value result, with caution!\n",
      "  warnings.warn(msg, RuntimeWarning)\n",
      "/Library/Frameworks/Python.framework/Versions/3.8/lib/python3.8/site-packages/scipy-1.5.2-py3.8-macosx-10.9-x86_64.egg/scipy/stats/_multivariate.py:664: RuntimeWarning: covariance is not positive-semidefinite.\n",
      "  out = random_state.multivariate_normal(mean, cov, size)\n",
      "/Library/Frameworks/Python.framework/Versions/3.8/lib/python3.8/site-packages/hyppo/_utils.py:67: RuntimeWarning: The number of replications is low (under 1000), and p-value calculations may be unreliable. Use the p-value result, with caution!\n",
      "  warnings.warn(msg, RuntimeWarning)\n"
     ]
    },
    {
     "name": "stdout",
     "output_type": "stream",
     "text": [
      "10\n"
     ]
    },
    {
     "name": "stderr",
     "output_type": "stream",
     "text": [
      "/Library/Frameworks/Python.framework/Versions/3.8/lib/python3.8/site-packages/scipy-1.5.2-py3.8-macosx-10.9-x86_64.egg/scipy/stats/_multivariate.py:664: RuntimeWarning: covariance is not positive-semidefinite.\n",
      "  out = random_state.multivariate_normal(mean, cov, size)\n",
      "/Library/Frameworks/Python.framework/Versions/3.8/lib/python3.8/site-packages/hyppo/_utils.py:67: RuntimeWarning: The number of replications is low (under 1000), and p-value calculations may be unreliable. Use the p-value result, with caution!\n",
      "  warnings.warn(msg, RuntimeWarning)\n",
      "/Library/Frameworks/Python.framework/Versions/3.8/lib/python3.8/site-packages/scipy-1.5.2-py3.8-macosx-10.9-x86_64.egg/scipy/stats/_multivariate.py:664: RuntimeWarning: covariance is not positive-semidefinite.\n",
      "  out = random_state.multivariate_normal(mean, cov, size)\n",
      "/Library/Frameworks/Python.framework/Versions/3.8/lib/python3.8/site-packages/hyppo/_utils.py:67: RuntimeWarning: The number of replications is low (under 1000), and p-value calculations may be unreliable. Use the p-value result, with caution!\n",
      "  warnings.warn(msg, RuntimeWarning)\n"
     ]
    },
    {
     "name": "stdout",
     "output_type": "stream",
     "text": [
      "10\n",
      "10\n"
     ]
    },
    {
     "name": "stderr",
     "output_type": "stream",
     "text": [
      "/Library/Frameworks/Python.framework/Versions/3.8/lib/python3.8/site-packages/scipy-1.5.2-py3.8-macosx-10.9-x86_64.egg/scipy/stats/_multivariate.py:664: RuntimeWarning: covariance is not positive-semidefinite.\n",
      "  out = random_state.multivariate_normal(mean, cov, size)\n",
      "/Library/Frameworks/Python.framework/Versions/3.8/lib/python3.8/site-packages/hyppo/_utils.py:67: RuntimeWarning: The number of replications is low (under 1000), and p-value calculations may be unreliable. Use the p-value result, with caution!\n",
      "  warnings.warn(msg, RuntimeWarning)\n",
      "/Library/Frameworks/Python.framework/Versions/3.8/lib/python3.8/site-packages/scipy-1.5.2-py3.8-macosx-10.9-x86_64.egg/scipy/stats/_multivariate.py:664: RuntimeWarning: covariance is not positive-semidefinite.\n",
      "  out = random_state.multivariate_normal(mean, cov, size)\n",
      "/Library/Frameworks/Python.framework/Versions/3.8/lib/python3.8/site-packages/hyppo/_utils.py:67: RuntimeWarning: The number of replications is low (under 1000), and p-value calculations may be unreliable. Use the p-value result, with caution!\n",
      "  warnings.warn(msg, RuntimeWarning)\n",
      "/Library/Frameworks/Python.framework/Versions/3.8/lib/python3.8/site-packages/scipy-1.5.2-py3.8-macosx-10.9-x86_64.egg/scipy/stats/_multivariate.py:664: RuntimeWarning: covariance is not positive-semidefinite.\n",
      "  out = random_state.multivariate_normal(mean, cov, size)\n",
      "/Library/Frameworks/Python.framework/Versions/3.8/lib/python3.8/site-packages/hyppo/_utils.py:67: RuntimeWarning: The number of replications is low (under 1000), and p-value calculations may be unreliable. Use the p-value result, with caution!\n",
      "  warnings.warn(msg, RuntimeWarning)\n"
     ]
    },
    {
     "name": "stdout",
     "output_type": "stream",
     "text": [
      "10\n",
      "10\n"
     ]
    },
    {
     "name": "stderr",
     "output_type": "stream",
     "text": [
      "/Library/Frameworks/Python.framework/Versions/3.8/lib/python3.8/site-packages/scipy-1.5.2-py3.8-macosx-10.9-x86_64.egg/scipy/stats/_multivariate.py:664: RuntimeWarning: covariance is not positive-semidefinite.\n",
      "  out = random_state.multivariate_normal(mean, cov, size)\n",
      "/Library/Frameworks/Python.framework/Versions/3.8/lib/python3.8/site-packages/hyppo/_utils.py:67: RuntimeWarning: The number of replications is low (under 1000), and p-value calculations may be unreliable. Use the p-value result, with caution!\n",
      "  warnings.warn(msg, RuntimeWarning)\n",
      "/Library/Frameworks/Python.framework/Versions/3.8/lib/python3.8/site-packages/scipy-1.5.2-py3.8-macosx-10.9-x86_64.egg/scipy/stats/_multivariate.py:664: RuntimeWarning: covariance is not positive-semidefinite.\n",
      "  out = random_state.multivariate_normal(mean, cov, size)\n",
      "/Library/Frameworks/Python.framework/Versions/3.8/lib/python3.8/site-packages/hyppo/_utils.py:67: RuntimeWarning: The number of replications is low (under 1000), and p-value calculations may be unreliable. Use the p-value result, with caution!\n",
      "  warnings.warn(msg, RuntimeWarning)\n",
      "/Library/Frameworks/Python.framework/Versions/3.8/lib/python3.8/site-packages/hyppo/_utils.py:67: RuntimeWarning: The number of replications is low (under 1000), and p-value calculations may be unreliable. Use the p-value result, with caution!\n",
      "  warnings.warn(msg, RuntimeWarning)\n",
      "/Library/Frameworks/Python.framework/Versions/3.8/lib/python3.8/site-packages/hyppo/_utils.py:67: RuntimeWarning: The number of replications is low (under 1000), and p-value calculations may be unreliable. Use the p-value result, with caution!\n",
      "  warnings.warn(msg, RuntimeWarning)\n"
     ]
    },
    {
     "name": "stdout",
     "output_type": "stream",
     "text": [
      "100\n"
     ]
    },
    {
     "name": "stderr",
     "output_type": "stream",
     "text": [
      "/Library/Frameworks/Python.framework/Versions/3.8/lib/python3.8/site-packages/hyppo/_utils.py:67: RuntimeWarning: The number of replications is low (under 1000), and p-value calculations may be unreliable. Use the p-value result, with caution!\n",
      "  warnings.warn(msg, RuntimeWarning)\n",
      "/Library/Frameworks/Python.framework/Versions/3.8/lib/python3.8/site-packages/hyppo/_utils.py:67: RuntimeWarning: The number of replications is low (under 1000), and p-value calculations may be unreliable. Use the p-value result, with caution!\n",
      "  warnings.warn(msg, RuntimeWarning)\n"
     ]
    },
    {
     "name": "stdout",
     "output_type": "stream",
     "text": [
      "100\n"
     ]
    },
    {
     "name": "stderr",
     "output_type": "stream",
     "text": [
      "/Library/Frameworks/Python.framework/Versions/3.8/lib/python3.8/site-packages/hyppo/_utils.py:67: RuntimeWarning: The number of replications is low (under 1000), and p-value calculations may be unreliable. Use the p-value result, with caution!\n",
      "  warnings.warn(msg, RuntimeWarning)\n",
      "/Library/Frameworks/Python.framework/Versions/3.8/lib/python3.8/site-packages/hyppo/_utils.py:67: RuntimeWarning: The number of replications is low (under 1000), and p-value calculations may be unreliable. Use the p-value result, with caution!\n",
      "  warnings.warn(msg, RuntimeWarning)\n"
     ]
    },
    {
     "name": "stdout",
     "output_type": "stream",
     "text": [
      "100\n"
     ]
    },
    {
     "name": "stderr",
     "output_type": "stream",
     "text": [
      "/Library/Frameworks/Python.framework/Versions/3.8/lib/python3.8/site-packages/hyppo/_utils.py:67: RuntimeWarning: The number of replications is low (under 1000), and p-value calculations may be unreliable. Use the p-value result, with caution!\n",
      "  warnings.warn(msg, RuntimeWarning)\n",
      "/Library/Frameworks/Python.framework/Versions/3.8/lib/python3.8/site-packages/hyppo/_utils.py:67: RuntimeWarning: The number of replications is low (under 1000), and p-value calculations may be unreliable. Use the p-value result, with caution!\n",
      "  warnings.warn(msg, RuntimeWarning)\n"
     ]
    },
    {
     "name": "stdout",
     "output_type": "stream",
     "text": [
      "100\n"
     ]
    },
    {
     "name": "stderr",
     "output_type": "stream",
     "text": [
      "/Library/Frameworks/Python.framework/Versions/3.8/lib/python3.8/site-packages/hyppo/_utils.py:67: RuntimeWarning: The number of replications is low (under 1000), and p-value calculations may be unreliable. Use the p-value result, with caution!\n",
      "  warnings.warn(msg, RuntimeWarning)\n",
      "/Library/Frameworks/Python.framework/Versions/3.8/lib/python3.8/site-packages/hyppo/_utils.py:67: RuntimeWarning: The number of replications is low (under 1000), and p-value calculations may be unreliable. Use the p-value result, with caution!\n",
      "  warnings.warn(msg, RuntimeWarning)\n"
     ]
    },
    {
     "name": "stdout",
     "output_type": "stream",
     "text": [
      "100\n"
     ]
    },
    {
     "name": "stderr",
     "output_type": "stream",
     "text": [
      "/Library/Frameworks/Python.framework/Versions/3.8/lib/python3.8/site-packages/hyppo/_utils.py:67: RuntimeWarning: The number of replications is low (under 1000), and p-value calculations may be unreliable. Use the p-value result, with caution!\n",
      "  warnings.warn(msg, RuntimeWarning)\n",
      "/Library/Frameworks/Python.framework/Versions/3.8/lib/python3.8/site-packages/hyppo/_utils.py:67: RuntimeWarning: The number of replications is low (under 1000), and p-value calculations may be unreliable. Use the p-value result, with caution!\n",
      "  warnings.warn(msg, RuntimeWarning)\n"
     ]
    },
    {
     "name": "stdout",
     "output_type": "stream",
     "text": [
      "100\n"
     ]
    },
    {
     "name": "stderr",
     "output_type": "stream",
     "text": [
      "/Library/Frameworks/Python.framework/Versions/3.8/lib/python3.8/site-packages/hyppo/_utils.py:67: RuntimeWarning: The number of replications is low (under 1000), and p-value calculations may be unreliable. Use the p-value result, with caution!\n",
      "  warnings.warn(msg, RuntimeWarning)\n",
      "/Library/Frameworks/Python.framework/Versions/3.8/lib/python3.8/site-packages/hyppo/_utils.py:67: RuntimeWarning: The number of replications is low (under 1000), and p-value calculations may be unreliable. Use the p-value result, with caution!\n",
      "  warnings.warn(msg, RuntimeWarning)\n"
     ]
    },
    {
     "name": "stdout",
     "output_type": "stream",
     "text": [
      "100\n"
     ]
    },
    {
     "name": "stderr",
     "output_type": "stream",
     "text": [
      "/Library/Frameworks/Python.framework/Versions/3.8/lib/python3.8/site-packages/hyppo/_utils.py:67: RuntimeWarning: The number of replications is low (under 1000), and p-value calculations may be unreliable. Use the p-value result, with caution!\n",
      "  warnings.warn(msg, RuntimeWarning)\n",
      "/Library/Frameworks/Python.framework/Versions/3.8/lib/python3.8/site-packages/hyppo/_utils.py:67: RuntimeWarning: The number of replications is low (under 1000), and p-value calculations may be unreliable. Use the p-value result, with caution!\n",
      "  warnings.warn(msg, RuntimeWarning)\n"
     ]
    },
    {
     "name": "stdout",
     "output_type": "stream",
     "text": [
      "100\n"
     ]
    },
    {
     "name": "stderr",
     "output_type": "stream",
     "text": [
      "/Library/Frameworks/Python.framework/Versions/3.8/lib/python3.8/site-packages/hyppo/_utils.py:67: RuntimeWarning: The number of replications is low (under 1000), and p-value calculations may be unreliable. Use the p-value result, with caution!\n",
      "  warnings.warn(msg, RuntimeWarning)\n",
      "/Library/Frameworks/Python.framework/Versions/3.8/lib/python3.8/site-packages/hyppo/_utils.py:67: RuntimeWarning: The number of replications is low (under 1000), and p-value calculations may be unreliable. Use the p-value result, with caution!\n",
      "  warnings.warn(msg, RuntimeWarning)\n"
     ]
    },
    {
     "name": "stdout",
     "output_type": "stream",
     "text": [
      "100\n"
     ]
    },
    {
     "name": "stderr",
     "output_type": "stream",
     "text": [
      "/Library/Frameworks/Python.framework/Versions/3.8/lib/python3.8/site-packages/hyppo/_utils.py:67: RuntimeWarning: The number of replications is low (under 1000), and p-value calculations may be unreliable. Use the p-value result, with caution!\n",
      "  warnings.warn(msg, RuntimeWarning)\n",
      "/Library/Frameworks/Python.framework/Versions/3.8/lib/python3.8/site-packages/hyppo/_utils.py:67: RuntimeWarning: The number of replications is low (under 1000), and p-value calculations may be unreliable. Use the p-value result, with caution!\n",
      "  warnings.warn(msg, RuntimeWarning)\n"
     ]
    },
    {
     "name": "stdout",
     "output_type": "stream",
     "text": [
      "100\n"
     ]
    },
    {
     "name": "stderr",
     "output_type": "stream",
     "text": [
      "/Library/Frameworks/Python.framework/Versions/3.8/lib/python3.8/site-packages/hyppo/_utils.py:67: RuntimeWarning: The number of replications is low (under 1000), and p-value calculations may be unreliable. Use the p-value result, with caution!\n",
      "  warnings.warn(msg, RuntimeWarning)\n",
      "/Library/Frameworks/Python.framework/Versions/3.8/lib/python3.8/site-packages/hyppo/_utils.py:67: RuntimeWarning: The number of replications is low (under 1000), and p-value calculations may be unreliable. Use the p-value result, with caution!\n",
      "  warnings.warn(msg, RuntimeWarning)\n"
     ]
    },
    {
     "name": "stdout",
     "output_type": "stream",
     "text": [
      "500\n"
     ]
    },
    {
     "name": "stderr",
     "output_type": "stream",
     "text": [
      "/Library/Frameworks/Python.framework/Versions/3.8/lib/python3.8/site-packages/hyppo/_utils.py:67: RuntimeWarning: The number of replications is low (under 1000), and p-value calculations may be unreliable. Use the p-value result, with caution!\n",
      "  warnings.warn(msg, RuntimeWarning)\n",
      "/Library/Frameworks/Python.framework/Versions/3.8/lib/python3.8/site-packages/hyppo/_utils.py:67: RuntimeWarning: The number of replications is low (under 1000), and p-value calculations may be unreliable. Use the p-value result, with caution!\n",
      "  warnings.warn(msg, RuntimeWarning)\n"
     ]
    },
    {
     "name": "stdout",
     "output_type": "stream",
     "text": [
      "500\n"
     ]
    },
    {
     "name": "stderr",
     "output_type": "stream",
     "text": [
      "/Library/Frameworks/Python.framework/Versions/3.8/lib/python3.8/site-packages/hyppo/_utils.py:67: RuntimeWarning: The number of replications is low (under 1000), and p-value calculations may be unreliable. Use the p-value result, with caution!\n",
      "  warnings.warn(msg, RuntimeWarning)\n",
      "/Library/Frameworks/Python.framework/Versions/3.8/lib/python3.8/site-packages/hyppo/_utils.py:67: RuntimeWarning: The number of replications is low (under 1000), and p-value calculations may be unreliable. Use the p-value result, with caution!\n",
      "  warnings.warn(msg, RuntimeWarning)\n"
     ]
    },
    {
     "name": "stdout",
     "output_type": "stream",
     "text": [
      "500\n"
     ]
    },
    {
     "name": "stderr",
     "output_type": "stream",
     "text": [
      "/Library/Frameworks/Python.framework/Versions/3.8/lib/python3.8/site-packages/hyppo/_utils.py:67: RuntimeWarning: The number of replications is low (under 1000), and p-value calculations may be unreliable. Use the p-value result, with caution!\n",
      "  warnings.warn(msg, RuntimeWarning)\n",
      "/Library/Frameworks/Python.framework/Versions/3.8/lib/python3.8/site-packages/hyppo/_utils.py:67: RuntimeWarning: The number of replications is low (under 1000), and p-value calculations may be unreliable. Use the p-value result, with caution!\n",
      "  warnings.warn(msg, RuntimeWarning)\n"
     ]
    },
    {
     "name": "stdout",
     "output_type": "stream",
     "text": [
      "500\n"
     ]
    },
    {
     "name": "stderr",
     "output_type": "stream",
     "text": [
      "/Library/Frameworks/Python.framework/Versions/3.8/lib/python3.8/site-packages/hyppo/_utils.py:67: RuntimeWarning: The number of replications is low (under 1000), and p-value calculations may be unreliable. Use the p-value result, with caution!\n",
      "  warnings.warn(msg, RuntimeWarning)\n",
      "/Library/Frameworks/Python.framework/Versions/3.8/lib/python3.8/site-packages/hyppo/_utils.py:67: RuntimeWarning: The number of replications is low (under 1000), and p-value calculations may be unreliable. Use the p-value result, with caution!\n",
      "  warnings.warn(msg, RuntimeWarning)\n"
     ]
    },
    {
     "name": "stdout",
     "output_type": "stream",
     "text": [
      "500\n"
     ]
    },
    {
     "name": "stderr",
     "output_type": "stream",
     "text": [
      "/Library/Frameworks/Python.framework/Versions/3.8/lib/python3.8/site-packages/hyppo/_utils.py:67: RuntimeWarning: The number of replications is low (under 1000), and p-value calculations may be unreliable. Use the p-value result, with caution!\n",
      "  warnings.warn(msg, RuntimeWarning)\n",
      "/Library/Frameworks/Python.framework/Versions/3.8/lib/python3.8/site-packages/hyppo/_utils.py:67: RuntimeWarning: The number of replications is low (under 1000), and p-value calculations may be unreliable. Use the p-value result, with caution!\n",
      "  warnings.warn(msg, RuntimeWarning)\n"
     ]
    },
    {
     "name": "stdout",
     "output_type": "stream",
     "text": [
      "500\n"
     ]
    },
    {
     "name": "stderr",
     "output_type": "stream",
     "text": [
      "/Library/Frameworks/Python.framework/Versions/3.8/lib/python3.8/site-packages/hyppo/_utils.py:67: RuntimeWarning: The number of replications is low (under 1000), and p-value calculations may be unreliable. Use the p-value result, with caution!\n",
      "  warnings.warn(msg, RuntimeWarning)\n",
      "/Library/Frameworks/Python.framework/Versions/3.8/lib/python3.8/site-packages/hyppo/_utils.py:67: RuntimeWarning: The number of replications is low (under 1000), and p-value calculations may be unreliable. Use the p-value result, with caution!\n",
      "  warnings.warn(msg, RuntimeWarning)\n"
     ]
    },
    {
     "name": "stdout",
     "output_type": "stream",
     "text": [
      "500\n"
     ]
    },
    {
     "name": "stderr",
     "output_type": "stream",
     "text": [
      "/Library/Frameworks/Python.framework/Versions/3.8/lib/python3.8/site-packages/hyppo/_utils.py:67: RuntimeWarning: The number of replications is low (under 1000), and p-value calculations may be unreliable. Use the p-value result, with caution!\n",
      "  warnings.warn(msg, RuntimeWarning)\n",
      "/Library/Frameworks/Python.framework/Versions/3.8/lib/python3.8/site-packages/hyppo/_utils.py:67: RuntimeWarning: The number of replications is low (under 1000), and p-value calculations may be unreliable. Use the p-value result, with caution!\n",
      "  warnings.warn(msg, RuntimeWarning)\n"
     ]
    },
    {
     "name": "stdout",
     "output_type": "stream",
     "text": [
      "500\n"
     ]
    },
    {
     "name": "stderr",
     "output_type": "stream",
     "text": [
      "/Library/Frameworks/Python.framework/Versions/3.8/lib/python3.8/site-packages/hyppo/_utils.py:67: RuntimeWarning: The number of replications is low (under 1000), and p-value calculations may be unreliable. Use the p-value result, with caution!\n",
      "  warnings.warn(msg, RuntimeWarning)\n",
      "/Library/Frameworks/Python.framework/Versions/3.8/lib/python3.8/site-packages/hyppo/_utils.py:67: RuntimeWarning: The number of replications is low (under 1000), and p-value calculations may be unreliable. Use the p-value result, with caution!\n",
      "  warnings.warn(msg, RuntimeWarning)\n"
     ]
    },
    {
     "name": "stdout",
     "output_type": "stream",
     "text": [
      "500\n"
     ]
    },
    {
     "name": "stderr",
     "output_type": "stream",
     "text": [
      "/Library/Frameworks/Python.framework/Versions/3.8/lib/python3.8/site-packages/hyppo/_utils.py:67: RuntimeWarning: The number of replications is low (under 1000), and p-value calculations may be unreliable. Use the p-value result, with caution!\n",
      "  warnings.warn(msg, RuntimeWarning)\n",
      "/Library/Frameworks/Python.framework/Versions/3.8/lib/python3.8/site-packages/hyppo/_utils.py:67: RuntimeWarning: The number of replications is low (under 1000), and p-value calculations may be unreliable. Use the p-value result, with caution!\n",
      "  warnings.warn(msg, RuntimeWarning)\n"
     ]
    },
    {
     "name": "stdout",
     "output_type": "stream",
     "text": [
      "500\n"
     ]
    },
    {
     "name": "stderr",
     "output_type": "stream",
     "text": [
      "/Library/Frameworks/Python.framework/Versions/3.8/lib/python3.8/site-packages/hyppo/_utils.py:67: RuntimeWarning: The number of replications is low (under 1000), and p-value calculations may be unreliable. Use the p-value result, with caution!\n",
      "  warnings.warn(msg, RuntimeWarning)\n",
      "/Library/Frameworks/Python.framework/Versions/3.8/lib/python3.8/site-packages/hyppo/_utils.py:67: RuntimeWarning: The number of replications is low (under 1000), and p-value calculations may be unreliable. Use the p-value result, with caution!\n",
      "  warnings.warn(msg, RuntimeWarning)\n"
     ]
    },
    {
     "name": "stdout",
     "output_type": "stream",
     "text": [
      "1000\n"
     ]
    },
    {
     "name": "stderr",
     "output_type": "stream",
     "text": [
      "/Library/Frameworks/Python.framework/Versions/3.8/lib/python3.8/site-packages/hyppo/_utils.py:67: RuntimeWarning: The number of replications is low (under 1000), and p-value calculations may be unreliable. Use the p-value result, with caution!\n",
      "  warnings.warn(msg, RuntimeWarning)\n",
      "/Library/Frameworks/Python.framework/Versions/3.8/lib/python3.8/site-packages/hyppo/_utils.py:67: RuntimeWarning: The number of replications is low (under 1000), and p-value calculations may be unreliable. Use the p-value result, with caution!\n",
      "  warnings.warn(msg, RuntimeWarning)\n"
     ]
    },
    {
     "name": "stdout",
     "output_type": "stream",
     "text": [
      "1000\n"
     ]
    },
    {
     "name": "stderr",
     "output_type": "stream",
     "text": [
      "/Library/Frameworks/Python.framework/Versions/3.8/lib/python3.8/site-packages/hyppo/_utils.py:67: RuntimeWarning: The number of replications is low (under 1000), and p-value calculations may be unreliable. Use the p-value result, with caution!\n",
      "  warnings.warn(msg, RuntimeWarning)\n",
      "/Library/Frameworks/Python.framework/Versions/3.8/lib/python3.8/site-packages/hyppo/_utils.py:67: RuntimeWarning: The number of replications is low (under 1000), and p-value calculations may be unreliable. Use the p-value result, with caution!\n",
      "  warnings.warn(msg, RuntimeWarning)\n"
     ]
    },
    {
     "name": "stdout",
     "output_type": "stream",
     "text": [
      "1000\n"
     ]
    },
    {
     "name": "stderr",
     "output_type": "stream",
     "text": [
      "/Library/Frameworks/Python.framework/Versions/3.8/lib/python3.8/site-packages/hyppo/_utils.py:67: RuntimeWarning: The number of replications is low (under 1000), and p-value calculations may be unreliable. Use the p-value result, with caution!\n",
      "  warnings.warn(msg, RuntimeWarning)\n",
      "/Library/Frameworks/Python.framework/Versions/3.8/lib/python3.8/site-packages/hyppo/_utils.py:67: RuntimeWarning: The number of replications is low (under 1000), and p-value calculations may be unreliable. Use the p-value result, with caution!\n",
      "  warnings.warn(msg, RuntimeWarning)\n"
     ]
    },
    {
     "name": "stdout",
     "output_type": "stream",
     "text": [
      "1000\n"
     ]
    },
    {
     "name": "stderr",
     "output_type": "stream",
     "text": [
      "/Library/Frameworks/Python.framework/Versions/3.8/lib/python3.8/site-packages/hyppo/_utils.py:67: RuntimeWarning: The number of replications is low (under 1000), and p-value calculations may be unreliable. Use the p-value result, with caution!\n",
      "  warnings.warn(msg, RuntimeWarning)\n",
      "/Library/Frameworks/Python.framework/Versions/3.8/lib/python3.8/site-packages/hyppo/_utils.py:67: RuntimeWarning: The number of replications is low (under 1000), and p-value calculations may be unreliable. Use the p-value result, with caution!\n",
      "  warnings.warn(msg, RuntimeWarning)\n"
     ]
    },
    {
     "name": "stdout",
     "output_type": "stream",
     "text": [
      "1000\n"
     ]
    },
    {
     "name": "stderr",
     "output_type": "stream",
     "text": [
      "/Library/Frameworks/Python.framework/Versions/3.8/lib/python3.8/site-packages/hyppo/_utils.py:67: RuntimeWarning: The number of replications is low (under 1000), and p-value calculations may be unreliable. Use the p-value result, with caution!\n",
      "  warnings.warn(msg, RuntimeWarning)\n",
      "/Library/Frameworks/Python.framework/Versions/3.8/lib/python3.8/site-packages/hyppo/_utils.py:67: RuntimeWarning: The number of replications is low (under 1000), and p-value calculations may be unreliable. Use the p-value result, with caution!\n",
      "  warnings.warn(msg, RuntimeWarning)\n"
     ]
    },
    {
     "name": "stdout",
     "output_type": "stream",
     "text": [
      "1000\n"
     ]
    },
    {
     "name": "stderr",
     "output_type": "stream",
     "text": [
      "/Library/Frameworks/Python.framework/Versions/3.8/lib/python3.8/site-packages/hyppo/_utils.py:67: RuntimeWarning: The number of replications is low (under 1000), and p-value calculations may be unreliable. Use the p-value result, with caution!\n",
      "  warnings.warn(msg, RuntimeWarning)\n",
      "/Library/Frameworks/Python.framework/Versions/3.8/lib/python3.8/site-packages/hyppo/_utils.py:67: RuntimeWarning: The number of replications is low (under 1000), and p-value calculations may be unreliable. Use the p-value result, with caution!\n",
      "  warnings.warn(msg, RuntimeWarning)\n"
     ]
    },
    {
     "name": "stdout",
     "output_type": "stream",
     "text": [
      "1000\n"
     ]
    },
    {
     "name": "stderr",
     "output_type": "stream",
     "text": [
      "/Library/Frameworks/Python.framework/Versions/3.8/lib/python3.8/site-packages/hyppo/_utils.py:67: RuntimeWarning: The number of replications is low (under 1000), and p-value calculations may be unreliable. Use the p-value result, with caution!\n",
      "  warnings.warn(msg, RuntimeWarning)\n",
      "/Library/Frameworks/Python.framework/Versions/3.8/lib/python3.8/site-packages/hyppo/_utils.py:67: RuntimeWarning: The number of replications is low (under 1000), and p-value calculations may be unreliable. Use the p-value result, with caution!\n",
      "  warnings.warn(msg, RuntimeWarning)\n"
     ]
    },
    {
     "name": "stdout",
     "output_type": "stream",
     "text": [
      "1000\n"
     ]
    },
    {
     "name": "stderr",
     "output_type": "stream",
     "text": [
      "/Library/Frameworks/Python.framework/Versions/3.8/lib/python3.8/site-packages/hyppo/_utils.py:67: RuntimeWarning: The number of replications is low (under 1000), and p-value calculations may be unreliable. Use the p-value result, with caution!\n",
      "  warnings.warn(msg, RuntimeWarning)\n",
      "/Library/Frameworks/Python.framework/Versions/3.8/lib/python3.8/site-packages/hyppo/_utils.py:67: RuntimeWarning: The number of replications is low (under 1000), and p-value calculations may be unreliable. Use the p-value result, with caution!\n",
      "  warnings.warn(msg, RuntimeWarning)\n"
     ]
    },
    {
     "name": "stdout",
     "output_type": "stream",
     "text": [
      "1000\n"
     ]
    },
    {
     "name": "stderr",
     "output_type": "stream",
     "text": [
      "/Library/Frameworks/Python.framework/Versions/3.8/lib/python3.8/site-packages/hyppo/_utils.py:67: RuntimeWarning: The number of replications is low (under 1000), and p-value calculations may be unreliable. Use the p-value result, with caution!\n",
      "  warnings.warn(msg, RuntimeWarning)\n",
      "/Library/Frameworks/Python.framework/Versions/3.8/lib/python3.8/site-packages/hyppo/_utils.py:67: RuntimeWarning: The number of replications is low (under 1000), and p-value calculations may be unreliable. Use the p-value result, with caution!\n",
      "  warnings.warn(msg, RuntimeWarning)\n"
     ]
    },
    {
     "name": "stdout",
     "output_type": "stream",
     "text": [
      "1000\n"
     ]
    }
   ],
   "source": [
    "for n in n_verts:\n",
    "    for _ in range(10):\n",
    "        \n",
    "        total_verts.append(n)\n",
    "        A1 = er_np(n, 0.5)\n",
    "        A2 = er_np(2*n, 0.5)\n",
    "           \n",
    "        #get time for original ldt\n",
    "        start_time = timeit.default_timer()\n",
    "        ldt_orig = latent_distribution_test(A1, A2, workers=1)\n",
    "        elapsed_orig = timeit.default_timer() - start_time\n",
    "        time_orig.append(elapsed_orig)\n",
    "        p_val_orig = ldt_orig[0]\n",
    "        p_vals_orig.append(p_val_orig)\n",
    "        \n",
    "        #get time for parallelized ldt\n",
    "        start_time = timeit.default_timer()\n",
    "        ldt_par = latent_distribution_test(A1, A2, workers=-1)\n",
    "        elapsed_par = timeit.default_timer() - start_time\n",
    "        time_par.append(elapsed_par)\n",
    "        p_val_new = ldt_par[0]\n",
    "        p_vals_new.append(p_val_new)\n",
    "        \n",
    "        p_vals_diff.append(p_val_orig - p_val_new)\n",
    "        print(n)"
   ]
  },
  {
   "cell_type": "code",
   "execution_count": 4,
   "metadata": {},
   "outputs": [
    {
     "name": "stdout",
     "output_type": "stream",
     "text": [
      "[0.966, 0.982, 1.0, 0.956, 0.848, 0.98, 0.976, 0.988, 0.976, 0.998, 0.988, 0.974, 0.9, 0.98, 0.746, 0.734, 0.998, 0.986, 0.998, 0.922, 0.566, 0.95, 0.668, 0.916, 0.834, 0.92, 0.788, 0.68, 0.774, 0.7, 0.794, 0.512, 0.646, 0.29, 0.38, 0.83, 0.546, 0.596, 0.634, 0.244]\n"
     ]
    }
   ],
   "source": [
    "print(p_vals_orig)"
   ]
  },
  {
   "cell_type": "code",
   "execution_count": 5,
   "metadata": {},
   "outputs": [
    {
     "name": "stdout",
     "output_type": "stream",
     "text": [
      "[0.942, 1.0, 1.0, 0.906, 0.93, 0.904, 0.996, 0.97, 0.892, 0.998, 0.984, 0.99, 0.888, 0.99, 0.902, 0.976, 1.0, 0.946, 0.888, 0.974, 0.696, 0.764, 0.788, 0.864, 0.822, 0.716, 0.652, 0.588, 0.816, 0.712, 0.558, 0.734, 0.87, 0.476, 0.522, 0.736, 0.594, 0.438, 0.642, 0.206]\n"
     ]
    }
   ],
   "source": [
    "print(p_vals_new)"
   ]
  },
  {
   "cell_type": "code",
   "execution_count": 6,
   "metadata": {},
   "outputs": [
    {
     "name": "stdout",
     "output_type": "stream",
     "text": [
      "[0.02400000000000002, -0.018000000000000016, 0.0, 0.04999999999999993, -0.08200000000000007, 0.07599999999999996, -0.020000000000000018, 0.018000000000000016, 0.08399999999999996, 0.0, 0.0040000000000000036, -0.016000000000000014, 0.01200000000000001, -0.010000000000000009, -0.15600000000000003, -0.242, -0.0020000000000000018, 0.040000000000000036, 0.10999999999999999, -0.051999999999999935, -0.13, 0.18599999999999994, -0.12, 0.052000000000000046, 0.01200000000000001, 0.20400000000000007, 0.136, 0.09200000000000008, -0.041999999999999926, -0.01200000000000001, 0.236, -0.22199999999999998, -0.22399999999999998, -0.186, -0.14200000000000002, 0.09399999999999997, -0.04799999999999993, 0.15799999999999997, -0.008000000000000007, 0.038000000000000006]\n"
     ]
    }
   ],
   "source": [
    "print(p_vals_diff)"
   ]
  },
  {
   "cell_type": "code",
   "execution_count": 7,
   "metadata": {},
   "outputs": [],
   "source": [
    "time_orig_dict = {\"time_orig\": time_orig, \"n_verts\": total_verts}\n",
    "df_orig = pd.DataFrame(data = time_orig_dict)"
   ]
  },
  {
   "cell_type": "code",
   "execution_count": 8,
   "metadata": {},
   "outputs": [],
   "source": [
    "time_par_dict = {\"time_par\": time_par, \"n_verts\": total_verts}\n",
    "df_par = pd.DataFrame(data = time_par_dict)"
   ]
  },
  {
   "cell_type": "code",
   "execution_count": 9,
   "metadata": {},
   "outputs": [],
   "source": [
    "p_vals_dict = {\"p_vals_diff\": p_vals_diff, \"n_verts\": total_verts}\n",
    "df_pval = pd.DataFrame(data = p_vals_dict)"
   ]
  },
  {
   "cell_type": "code",
   "execution_count": 10,
   "metadata": {},
   "outputs": [
    {
     "data": {
      "image/png": "[encoded data removed]",
      "text/plain": [
       "<Figure size 432x288 with 1 Axes>"
      ]
     },
     "metadata": {
      "needs_background": "light"
     },
     "output_type": "display_data"
    }
   ],
   "source": [
    "ax1 = sns.stripplot(data=df_orig,\n",
    "    x=\"n_verts\",\n",
    "    y=\"time_orig\",\n",
    "    jitter = 0.25,\n",
    "    alpha = 0.5,\n",
    "    size=5,\n",
    "    color='green'\n",
    ")\n",
    "\n",
    "ax2 = sns.stripplot(data=df_par,\n",
    "    x=\"n_verts\",\n",
    "    y=\"time_par\",\n",
    "    jitter = 0.25,\n",
    "    alpha = 0.5,\n",
    "    size=5,\n",
    "    color='blue'\n",
    ")\n",
    "ax1.set_yscale('log')\n",
    "plt.xticks(rotation='vertical')\n",
    "plt.ylabel('time')\n",
    "plt.title(\"Times vs n_verts\")\n",
    "\n",
    "plt.savefig('time_vs_n_verts.png')"
   ]
  },
  {
   "cell_type": "code",
   "execution_count": 11,
   "metadata": {},
   "outputs": [
    {
     "data": {
      "image/png": "[encoded data removed]",
      "text/plain": [
       "<Figure size 432x288 with 1 Axes>"
      ]
     },
     "metadata": {
      "needs_background": "light"
     },
     "output_type": "display_data"
    }
   ],
   "source": [
    "ax = sns.stripplot(data=df_pval,\n",
    "    x=\"n_verts\",\n",
    "    y=\"p_vals_diff\",\n",
    "    jitter = 0.25,\n",
    "    alpha = 0.5,\n",
    "    size=5,\n",
    "    color='red'\n",
    ")\n",
    "\n",
    "plt.ylabel('p_val_diff')\n",
    "plt.title('p_val_diff vs n_verts')\n",
    "plt.savefig('p_val_diff_vs_n_verts.png')"
   ]
  },
  {
   "cell_type": "markdown",
   "metadata": {},
   "source": [
    "## Sim 2 - single vs multiple iterations of LDT (?)\n",
    "1. n_iters = [1, 5, 25, 50]\n",
    "2. Generate two ER graphs - 1st with 100 vertices and second with 200 vertices, and p=0.5 for both\n",
    "3. Obtain times for running LDT unparallelized (workers=1) and parallelized (workers=-1) on the two graphs for n_iters iterations\n",
    "4. Repeat steps 2-3 for 15 trials per n_iter in n_iters\n",
    "4. Plot stripplots of times vs n_iters for LDT unparallelized and parallelized"
   ]
  },
  {
   "cell_type": "code",
   "execution_count": null,
   "metadata": {},
   "outputs": [],
   "source": [
    "n_iters = [1, 5, 25, 50]\n",
    "total_iters = []\n",
    "time_orig = []\n",
    "time_par = []"
   ]
  },
  {
   "cell_type": "code",
   "execution_count": null,
   "metadata": {},
   "outputs": [],
   "source": [
    "B1 = er_np(50, 0.5)\n",
    "B2 = er_np(75, 0.5)\n",
    "\n",
    "for n in n_iters:\n",
    "    for _ in range(15):\n",
    "    \n",
    "        total_iters.append(n)\n",
    "\n",
    "        #get time for original ldt\n",
    "        ind_orig = 0\n",
    "        start_time = timeit.default_timer()\n",
    "        while (ind_orig<n):\n",
    "            ldt_orig = latent_distribution_test(B1, B2, workers=1)\n",
    "            ind_orig += 1\n",
    "        elapsed_orig = timeit.default_timer() - start_time\n",
    "        time_orig.append(elapsed_orig)\n",
    "\n",
    "        #get time for parallelized ldt\n",
    "        ind_par = 0\n",
    "        start_time = timeit.default_timer()\n",
    "        while(ind_par<n):\n",
    "            ldt_par = latent_distribution_test(B1, B2, workers=-1)\n",
    "            ind_par += 1\n",
    "        elapsed_par = timeit.default_timer() - start_time\n",
    "        time_par.append(elapsed_par)\n",
    "        \n",
    "        print(n)"
   ]
  },
  {
   "cell_type": "code",
   "execution_count": null,
   "metadata": {},
   "outputs": [],
   "source": [
    "time_orig_dict = {\"time_orig\": time_orig, \"n_iters\": total_iters}\n",
    "df_orig = pd.DataFrame(data = time_orig_dict)"
   ]
  },
  {
   "cell_type": "code",
   "execution_count": null,
   "metadata": {},
   "outputs": [],
   "source": [
    "time_par_dict = {\"time_par\": time_par, \"n_iters\": total_iters}\n",
    "df_par = pd.DataFrame(data = time_par_dict)"
   ]
  },
  {
   "cell_type": "code",
   "execution_count": null,
   "metadata": {},
   "outputs": [],
   "source": [
    "ax1 = sns.stripplot(data=df_orig,\n",
    "    x=\"n_iters\",\n",
    "    y=\"time_orig\",\n",
    "    jitter = 0.5,\n",
    "    alpha = 0.5,\n",
    "    size=5,\n",
    "    color='green'\n",
    ")\n",
    "\n",
    "ax2 = sns.stripplot(data=df_par,\n",
    "    x=\"n_iters\",\n",
    "    y=\"time_par\",\n",
    "    jitter = 0.5,\n",
    "    alpha = 0.5,\n",
    "    size=5,\n",
    "    color='blue'\n",
    ")\n",
    "ax1.set_yscale('log')\n",
    "plt.xticks(rotation='vertical')\n",
    "plt.ylabel('time')\n",
    "plt.title(\"Times vs n_iters\")\n",
    "\n",
    "plt.savefig('time_vs_n_iters.png')"
   ]
  },
  {
   "cell_type": "code",
   "execution_count": null,
   "metadata": {},
   "outputs": [],
   "source": []
  }
 ],
 "metadata": {
  "kernelspec": {
   "display_name": "Python 3",
   "language": "python",
   "name": "python3"
  },
  "language_info": {
   "codemirror_mode": {
    "name": "ipython",
    "version": 3
   },
   "file_extension": ".py",
   "mimetype": "text/x-python",
   "name": "python",
   "nbconvert_exporter": "python",
   "pygments_lexer": "ipython3",
   "version": "3.8.4"
  }
 },
 "nbformat": 4,
 "nbformat_minor": 4
}
